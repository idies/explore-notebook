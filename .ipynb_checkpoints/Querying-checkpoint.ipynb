{
 "cells": [
  {
   "cell_type": "code",
   "execution_count": 26,
   "metadata": {
    "scrolled": false
   },
   "outputs": [
    {
     "name": "stdout",
     "output_type": "stream",
     "text": [
      "Imported next set\n",
      "Done\n"
     ]
    }
   ],
   "source": [
    "import sciserver as sci\n",
    "from sciserver import *\n",
    "import sys\n",
    "import numpy\n",
    "import io\n",
    "import math\n",
    "print(\"Imported next set\")\n",
    "#import mathplotlib\n",
    "#dirList = SciDrive.DirectoryList(\"\")\n",
    "#print(dirList)\n",
    "\n",
    "print(\"Done\")\n",
    "\n"
   ]
  },
  {
   "cell_type": "code",
   "execution_count": 29,
   "metadata": {
    "scrolled": true
   },
   "outputs": [
    {
     "name": "stdout",
     "output_type": "stream",
     "text": [
      "['__doc__', '__loader__', '__name__', '__package__', '__path__', '__spec__']\n",
      "ModuleSpec(name='sciserver', loader=None, origin='namespace', submodule_search_locations=_NamespacePath(['C:\\\\Users\\\\sciserver\\\\OneDrive\\\\Github\\\\explore-notebook\\\\sciserver']))\n",
      "WORKING!\n"
     ]
    }
   ],
   "source": [
    "o = 12589000 #put or get object ID\n",
    "\n",
    "print(dir(sciserver))\n",
    "print(sciserver.__spec__)\n",
    "#print(sciserver.skyserver.objectSearch())\n",
    "\n",
    "print(\"WORKING!\")\n",
    "\n",
    "\n",
    "\n",
    "\n",
    "\n",
    "#y=sci.image(o)\n",
    "#print(\"Image\", y)\n",
    "#z=sci.spectra(o)\n",
    "#print(\"spectra\", z)\n",
    "#xx=sci.crossid(o)\n",
    "#print(\"crossid\",xx)\n",
    "#xy=sci.flag(o)\n",
    "#if xy==\"MANGA\" \n",
    "#    print(sciserver.manga(o))\n",
    "#else if y==\"APOGEE\"\n",
    "#    print(sciserver.apogee(o))\n",
    "#else break\n",
    "#print(xy)\n",
    "\n"
   ]
  },
  {
   "cell_type": "code",
   "execution_count": null,
   "metadata": {
    "scrolled": true
   },
   "outputs": [],
   "source": [
    "  "
   ]
  },
  {
   "cell_type": "code",
   "execution_count": null,
   "metadata": {
    "scrolled": true
   },
   "outputs": [],
   "source": [
    "\n"
   ]
  },
  {
   "cell_type": "code",
   "execution_count": null,
   "metadata": {
    "scrolled": true
   },
   "outputs": [],
   "source": [
    "#def main():\n",
    "#  print(\"Done\")\n",
    "#  \n",
    "#if __name__== \"__main__\":\n",
    "#  main()\n",
    "#else break"
   ]
  }
 ],
 "metadata": {
  "kernelspec": {
   "display_name": "Python 3",
   "language": "python",
   "name": "python3"
  }
 },
 "nbformat": 4,
 "nbformat_minor": 2
}
