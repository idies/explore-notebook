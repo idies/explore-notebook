{
 "cells": [
  {
   "cell_type": "code",
   "execution_count": null,
   "metadata": {},
   "outputs": [],
   "source": [
    "import SciScript_Python as sp\n",
    "from SciScript_Python import py3\n",
    "from SciScript_Python.py3 import SciServer as SciServer\n",
    "\n",
    "##Change to whatever works on the compute platform"
   ]
  },
  {
   "cell_type": "code",
   "execution_count": 36,
   "metadata": {},
   "outputs": [],
   "source": [
    "import os\n",
    "import sys\n",
    "import numpy as np\n",
    "import io\n",
    "from io import StringIO, BytesIO\n",
    "import scipy\n",
    "import pandas as pd\n",
    "import skimage\n",
    "import json"
   ]
  },
  {
   "cell_type": "code",
   "execution_count": 37,
   "metadata": {},
   "outputs": [],
   "source": [
    "from SciScript_Python.py3.SciServer import SkyServer, Authentication, CasJobs, SkyQuery\n",
    "\n",
    "import getpass\n"
   ]
  },
  {
   "cell_type": "code",
   "execution_count": 38,
   "metadata": {},
   "outputs": [
    {
     "name": "stdout",
     "output_type": "stream",
     "text": [
      "User: ········\n",
      "password: ········\n"
     ]
    }
   ],
   "source": [
    "## Authentication token for SciServer ##\n",
    "\n",
    "\n",
    "## the input isn't displayed/printed out. it's shown as •••\n",
    "\n",
    "def Auth()\n",
    "    user=getpass.getpass('User: ') \n",
    "\n",
    "    pwd=getpass.getpass('password: ')\n",
    "\n",
    "\n",
    "    Authentication.login(user,pwd)\n",
    "\n",
    "    token = Authentication.getToken()        \n"
   ]
  },
  {
   "cell_type": "code",
   "execution_count": 53,
   "metadata": {},
   "outputs": [],
   "source": [
    " \n"
   ]
  },
  {
   "cell_type": "code",
   "execution_count": 40,
   "metadata": {},
   "outputs": [],
   "source": [
    "def main()\n",
    "    \n",
    "    \n",
    "    "
   ]
  },
  {
   "cell_type": "code",
   "execution_count": null,
   "metadata": {},
   "outputs": [],
   "source": [
    "if (__name__ == \"__main__\"):\n",
    "    pass\n",
    "    #Auth()\n",
    "    #main()\n",
    "else: \n",
    "    sys.exit()\n",
    "  "
   ]
  },
  {
   "cell_type": "code",
   "execution_count": null,
   "metadata": {},
   "outputs": [],
   "source": []
  },
  {
   "cell_type": "code",
   "execution_count": null,
   "metadata": {
    "scrolled": false
   },
   "outputs": [],
   "source": []
  },
  {
   "cell_type": "code",
   "execution_count": null,
   "metadata": {},
   "outputs": [],
   "source": [
    "\n",
    "\n"
   ]
  }
 ],
 "metadata": {
  "kernelspec": {
   "display_name": "Python 3",
   "language": "python",
   "name": "python3"
  },
  "language_info": {
   "codemirror_mode": {
    "name": "ipython",
    "version": 3
   },
   "file_extension": ".py",
   "mimetype": "text/x-python",
   "name": "python",
   "nbconvert_exporter": "python",
   "pygments_lexer": "ipython3",
   "version": "3.6.5"
  }
 },
 "nbformat": 4,
 "nbformat_minor": 2
}
