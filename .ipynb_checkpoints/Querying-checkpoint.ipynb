{
 "cells": [
  {
   "cell_type": "code",
   "execution_count": null,
   "metadata": {
    "scrolled": false
   },
   "outputs": [],
   "source": [
    "#import SciServer\n",
    "#from SciServer import Config, SkyQuery, SciDrive, SkyServer, Authentication\n",
    "\n",
    "import os\n",
    "import sys\n",
    "import numpy\n",
    "import io\n",
    "import scipy\n",
    "import pandas\n",
    "import tabulate\n",
    "from tabulate import tabulate\n",
    "#dirList = SciDrive.DirectoryList(\"\")\n"
   ]
  },
  {
   "cell_type": "code",
   "execution_count": null,
   "metadata": {},
   "outputs": [],
   "source": [
    "# common variable to make searching easier\n",
    "### currently only using object id for convinience ###\n",
    "def var_init_(a): \n",
    "    \n",
    "    def obj():\n",
    "        le = 0\n",
    "    # input is object id. search using objid\n",
    "        try:\n",
    "            le =  input(\"Enter Object ID\")\n",
    "           \n",
    "        except TypeError:\n",
    "            le=0\n",
    "            print(\"Oops! Please enter a valid integer.\")\n",
    "            \n",
    "        else :\n",
    "            Image(le)\n",
    "\n",
    "    '''`\n",
    "    def nm():\n",
    "    \n",
    "    # input is common/official name. search using name\n",
    "        name = \"\"\n",
    "    \n",
    "    def cx():\n",
    "        cordx= 0.0\n",
    "    #input are the coordinates. search using x and y coordinates\n",
    "        \n",
    "    \n",
    "    def cy():\n",
    "        \n",
    "        cordy= 0.0\n",
    "    '''\n",
    "    obj()\n",
    "# if-else statement needed\n",
    "# function variable to be added\n",
    "\n",
    "        \n"
   ]
  },
  {
   "cell_type": "code",
   "execution_count": null,
   "metadata": {},
   "outputs": [],
   "source": [
    "\n"
   ]
  },
  {
   "cell_type": "code",
   "execution_count": null,
   "metadata": {},
   "outputs": [],
   "source": []
  },
  {
   "cell_type": "code",
   "execution_count": null,
   "metadata": {
    "scrolled": true
   },
   "outputs": [],
   "source": [
    "def Image(oid):\n",
    "     ### displays all values on Imaging ###\n",
    "    def phtag(x):\n",
    "        ### getting values from table PhotoTag  ###\n",
    "        \n",
    "        df= None\n",
    "        df= SkyServer.objectSearch(objId=x, dataRelease=\"DR14\")\n",
    "        if (df== None):\n",
    "            print(\"There is no object with that Id. Please try again\")\n",
    "            var_init_.obj()\n",
    "        else :\n",
    "        \n",
    "            #print(df) - BAD IDEA!  try list()\n",
    "            print(\"Imaging \")\n",
    "            print(SkyServer.sqlSearch(sql=\"select * from PhotoTag pt where pt.objID=x\", dataRelease=\"DR14\"))\n",
    "# RECHECK COLUMN NAMES! ErrorCode:500         \n",
    "         \n",
    "    def phall(y):\n",
    "        ### getting values from table photoobjall ###\n",
    "        \n",
    "        \n",
    "        print(SkyServer.sqlSearch(sql=\"select * from photoobjall p where p.objid=y\", dataRelease=\"DR14\"))\n",
    "                 \n",
    "         \n",
    "    def photobj(z):\n",
    "        ### getting values from table PhotoObj and Photoz ###\n",
    "        \n",
    "        \n",
    "        \n",
    "        print(SkyServer.sqlSearch(query=\"select * from PhotoObj b where b.objID=z\", dataRelease=\"DR14\"))\n",
    "        print(SkyServer.sqlsearch(query=\"select z,zerr from Photoz h where h.objID=z\", dataRelease=\"DR14\"))         \n",
    "        \n",
    "         \n",
    "    def zoospec(w):\n",
    "        ### getting values from table zooSpec on shape of object  ###\n",
    "        print(\"...\") \n",
    "        # use case\n",
    "        #print(SkyServer.sqlSearch(sql=\"select spiral from zooSpec z where z.objID=w\", dataRelease=\"DR14\"))\n",
    "                 \n",
    "        \n",
    "    phtag(oid)\n",
    "    phall(oid)\n",
    "    photobj(oid)\n",
    "    zoospec(oid)\n",
    "        \n",
    "# set up a way to search using different methods         \n",
    "     "
   ]
  },
  {
   "cell_type": "code",
   "execution_count": null,
   "metadata": {},
   "outputs": [],
   "source": [
    "def cross():\n",
    "    ### ###\n",
    "    print(\"\")\n",
    "    \n"
   ]
  },
  {
   "cell_type": "code",
   "execution_count": null,
   "metadata": {
    "scrolled": true
   },
   "outputs": [],
   "source": [
    "def Spectra(): \n",
    "    ### ###\n",
    "    print(\"\")\n",
    "  "
   ]
  },
  {
   "cell_type": "code",
   "execution_count": null,
   "metadata": {},
   "outputs": [],
   "source": [
    "### flag check and value display here ###"
   ]
  },
  {
   "cell_type": "code",
   "execution_count": null,
   "metadata": {},
   "outputs": [],
   "source": [
    "def main():\n",
    "    #Authentication.getToken()\n",
    "    z=7\n",
    "    while (z != 4):\n",
    "        print(\"1. Search with object Id\")\n",
    "        print(\"2. Search with object co-ordinates\")\n",
    "        print(\"3. search with common name\")\n",
    "        print(\"4. Exit\")\n",
    "            \n",
    "        try :\n",
    "            z = input(\"Option: \")\n",
    "        except TypeError :\n",
    "            print(\"Please enter an integer\")\n",
    "        else :\n",
    "            var_init_(z)        \n",
    "            z=4\n",
    "\n",
    "if (__name__ == \"__main__\"):\n",
    "    main()\n",
    "else: \n",
    "    sys.exit()\n",
    "  "
   ]
  },
  {
   "cell_type": "code",
   "execution_count": null,
   "metadata": {},
   "outputs": [],
   "source": []
  },
  {
   "cell_type": "code",
   "execution_count": null,
   "metadata": {},
   "outputs": [],
   "source": []
  },
  {
   "cell_type": "code",
   "execution_count": null,
   "metadata": {
    "scrolled": false
   },
   "outputs": [],
   "source": []
  },
  {
   "cell_type": "code",
   "execution_count": null,
   "metadata": {},
   "outputs": [],
   "source": [
    "\n",
    "\n"
   ]
  }
 ],
 "metadata": {
  "kernelspec": {
   "display_name": "Python 3",
   "language": "python",
   "name": "python3"
  },
  "language_info": {
   "codemirror_mode": {
    "name": "ipython",
    "version": 3
   },
   "file_extension": ".py",
   "mimetype": "text/x-python",
   "name": "python",
   "nbconvert_exporter": "python",
   "pygments_lexer": "ipython3",
   "version": "3.6.5"
  }
 },
 "nbformat": 4,
 "nbformat_minor": 2
}
