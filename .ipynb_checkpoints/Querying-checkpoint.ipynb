{
 "cells": [
  {
   "cell_type": "code",
   "execution_count": null,
   "metadata": {
    "scrolled": false
   },
   "outputs": [],
   "source": [
    "import SciServer\n",
    "from SciServer import Config, SkyQuery, SciDrive, SkyServer, Authentication, CasJobs\n",
    "import SciScript\n",
    "import os\n",
    "import sys\n",
    "import numpy\n",
    "import io\n",
    "import scipy\n",
    "import pandas\n",
    "import skimage\n",
    "import json\n"
   ]
  },
  {
   "cell_type": "code",
   "execution_count": null,
   "metadata": {},
   "outputs": [],
   "source": [
    "# common variable to make searching easier\n",
    "### currently only using object id for convinience ###\n",
    "def var_init_(a): \n",
    "    \n",
    "    def obj():\n",
    "        le = 0\n",
    "    # input is object id. search using objid\n",
    "        try:\n",
    "            le =  input(\"Enter Object ID\")\n",
    "           \n",
    "        except TypeError:\n",
    "            le=0\n",
    "            print(\"Oops! Please enter a valid integer.\")\n",
    "            \n",
    "        else :\n",
    "            Image(le)\n",
    "            cross(le)\n",
    "            #Spectra(le)\n",
    "\n",
    "    '''`\n",
    "    def nm():\n",
    "    \n",
    "    # input is common/official name. search using name\n",
    "        name = \"\"\n",
    "    \n",
    "    def cx():\n",
    "        cordx= 0.0\n",
    "    #input are the coordinates. search using x and y coordinates\n",
    "        \n",
    "    \n",
    "    def cy():\n",
    "        \n",
    "        cordy= 0.0\n",
    "    '''\n",
    "    obj()\n",
    "# if-else statement needed\n",
    "# function variable to be added\n",
    "\n",
    "        \n"
   ]
  },
  {
   "cell_type": "code",
   "execution_count": null,
   "metadata": {},
   "outputs": [],
   "source": [
    "\n"
   ]
  },
  {
   "cell_type": "code",
   "execution_count": null,
   "metadata": {},
   "outputs": [],
   "source": []
  },
  {
   "cell_type": "code",
   "execution_count": null,
   "metadata": {
    "scrolled": true
   },
   "outputs": [],
   "source": [
    "def Image(oid): #SKYSERVER#\n",
    "     ### displays all values on Imaging ###\n",
    "    def phtag(x):\n",
    "        ### getting values from table PhotoTag  ###\n",
    "        \n",
    "        df= None\n",
    "        df= SkyServer.sqlSearch(sql=\"select True from PhotoObjAll r where r.objId=x\", dataRelease=\"DR14\")\n",
    "        if (df== None):\n",
    "            print(\"There is no object with that Id. Please try again\")\n",
    "            var_init_.obj()\n",
    "        else :\n",
    "        \n",
    "            \n",
    "            print(\"Imaging \")\n",
    "            print(SkyServer.sqlSearch(sql=\"select * from PhotoTag pt where pt.objID=x\", dataRelease=\"DR14\"))\n",
    "    \n",
    "         \n",
    "    def phall(y):\n",
    "        ### getting values from table photoobjall ###\n",
    "        \n",
    "        \n",
    "        print(SkyServer.sqlSearch(sql=\"select * from photoobjall p where p.objID=y\", dataRelease=\"DR14\"))\n",
    "                 \n",
    "         \n",
    "    def photobj(z):\n",
    "        ### getting values from table PhotoObj and Photoz ###\n",
    "        \n",
    "        \n",
    "        \n",
    "        print(SkyServer.sqlSearch(sql=\"select * from PhotoObj b where b.objID=z\", dataRelease=\"DR14\"))\n",
    "        print(SkyServer.sqlsearch(sql=\"select z,zerr from Photoz h where h.objID=z\", dataRelease=\"DR14\"))         \n",
    "        \n",
    "         \n",
    "    def zoospec(w):\n",
    "        ### getting values from table zooSpec on shape of object  ###\n",
    "        print(\"...\") \n",
    "        # CASE for o/p \n",
    "        s=(SkyServer.sqlSearch(sql=\"select spiral from zooSpec z where z.objID=w\", dataRelease=\"DR14\"))\n",
    "        e=(SkyServer.sqlSearch(sql=\"select elliptical from zooSpec z where z.objID=w\", dataRelease=\"DR14\"))\n",
    "        u=(SkyServer.sqlSearch(sql=\"select uncertain from zooSpec z where z.objID=w\", dataRelease=\"DR14\"))\n",
    "        \n",
    "    phtag(oid)\n",
    "    phall(oid)\n",
    "    photobj(oid)\n",
    "    zoospec(oid)\n",
    "        \n",
    "# set up a way to search using different methods         \n",
    "# RECHECK COLUMN NAMES! ErrorCode:500         "
   ]
  },
  {
   "cell_type": "code",
   "execution_count": null,
   "metadata": {},
   "outputs": [],
   "source": [
    "def cross(oid): #CASJOBS#\n",
    "    ### getting all values under cross identification with OBJID###\n",
    "    #casjobs clear mydb. insert into mydb\n",
    "    def unso(x):\n",
    "        #vales from table USNO#\n",
    "        tabel=SciServer.CasJobs.executeQuery(sql=\"select propermotion, muraerr, mudecerr, angle from USNO n where n.OBJID=x\",context='DR14',format='pandas')\n",
    "        print(tabel)\n",
    "        tabel=None #clearing table before next query\n",
    "        \n",
    "    def wse(y):\n",
    "        #values from tables WISE_xmatch and WISE_allsky#\n",
    "        tabel=SciServer.CasJobs.executeQuery(sql=\"select wise_cntr,w1mag, w2mag, w3mag, w4mag, from WISE_xmatch h and WISE_skyall t where h.OBJID=y and t.OBJID=y\",context='DR14',format='pandas')\n",
    "        print(tabel)\n",
    "        tabel=None\n",
    "        \n",
    "    def rose(z):\n",
    "    #values from ROSAT and RC3#\n",
    "        tabel= SciServer.CasJobs.executeQuery(sql=\"select cps, hr1, hr2, ext,cps, hr1, hr2, ext from RC3 c and ROSAT q where c.OBJID=q.OBJID=z\",context='DR14',format='pandas')\n",
    "        if (tabel == NONE)\n",
    "            print(\"There is no ROSAT, RC3 data for this object\")\n",
    "        print(tabel)\n",
    "        tabel=None\n",
    "        \n",
    "    def reall(w):\n",
    "    #values from tables FIRST and TwoMASS #\n",
    "        tabel=SciServer.CasJobs.executeQuery(sql=\"select j,h,k, phQual, from TwoMASS s and First f where s.OBJID=f.OBJID=w\",context='DR14',format='pandas')\n",
    "        print(tabel)\n",
    "        tabel=None\n",
    "    \n",
    "    unso(oid)\n",
    "    wse(oid)\n",
    "    rose(oid)\n",
    "    reall(oid)"
   ]
  },
  {
   "cell_type": "code",
   "execution_count": null,
   "metadata": {
    "scrolled": true
   },
   "outputs": [],
   "source": [
    "def Spectra(oid): \n",
    "    ### ###\n",
    "    print(\"\")\n",
    "  "
   ]
  },
  {
   "cell_type": "code",
   "execution_count": null,
   "metadata": {},
   "outputs": [],
   "source": [
    "### flag check and value display here ###"
   ]
  },
  {
   "cell_type": "code",
   "execution_count": null,
   "metadata": {},
   "outputs": [],
   "source": [
    "def main():\n",
    "    Authentication.getToken()\n",
    "    z=7\n",
    "    while (z != 4):\n",
    "        print(\"1. Search with object Id\")\n",
    "        print(\"2. Search with object co-ordinates\")\n",
    "        print(\"3. search with common name\")\n",
    "        print(\"4. Exit\")\n",
    "            \n",
    "        try :\n",
    "            z = input(\"Option: \")\n",
    "        except TypeError :\n",
    "            print(\"Please enter an integer\")\n",
    "        else :\n",
    "            var_init_(z)        \n",
    "            z=0\n",
    "\n",
    "if (__name__ == \"__main__\"):\n",
    "    main()\n",
    "else: \n",
    "    sys.exit()\n",
    "  "
   ]
  },
  {
   "cell_type": "code",
   "execution_count": null,
   "metadata": {},
   "outputs": [],
   "source": []
  },
  {
   "cell_type": "code",
   "execution_count": null,
   "metadata": {},
   "outputs": [],
   "source": []
  },
  {
   "cell_type": "code",
   "execution_count": null,
   "metadata": {
    "scrolled": false
   },
   "outputs": [],
   "source": []
  },
  {
   "cell_type": "code",
   "execution_count": null,
   "metadata": {},
   "outputs": [],
   "source": [
    "\n",
    "\n"
   ]
  }
 ],
 "metadata": {
  "kernelspec": {
   "display_name": "Python 3",
   "language": "python",
   "name": "python3"
  },
  "language_info": {
   "codemirror_mode": {
    "name": "ipython",
    "version": 3
   },
   "file_extension": ".py",
   "mimetype": "text/x-python",
   "name": "python",
   "nbconvert_exporter": "python",
   "pygments_lexer": "ipython3",
   "version": "3.6.5"
  }
 },
 "nbformat": 4,
 "nbformat_minor": 2
}
