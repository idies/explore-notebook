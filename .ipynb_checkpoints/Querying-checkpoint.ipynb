{
 "cells": [
  {
   "cell_type": "code",
   "execution_count": 28,
   "metadata": {
    "scrolled": false
   },
   "outputs": [
    {
     "name": "stdout",
     "output_type": "stream",
     "text": [
      "Done\n"
     ]
    }
   ],
   "source": [
    "import sciserver as sci #functions?\n",
    "#import SciDrive\n",
    "#import SkyServer\n",
    "import sys\n",
    "import numpy\n",
    "import io\n",
    "import math\n",
    "#import mathplotlib\n",
    "#dirList = SciDrive.directoryList()\n",
    "\n",
    "print(\"Done\")\n",
    "\n"
   ]
  },
  {
   "cell_type": "code",
   "execution_count": 29,
   "metadata": {
    "scrolled": true
   },
   "outputs": [],
   "source": [
    "o = 12589000 #put or get object ID\n",
    "\n",
    "#y=sci.image(o)\n",
    "#print(\"Image\", y)\n",
    "#z=sci.spectra(o)\n",
    "#print(\"spectra\", z)\n",
    "#xx=sci.crossid(o)\n",
    "#print(\"crossid\",xx)\n",
    "#xy=sci.flag(o)\n",
    "#if xy==\"MANGA\" \n",
    "#    print(sciserver.manga(o))\n",
    "#else if y==\"APOGEE\"\n",
    "#    print(sciserver.apogee(o))\n",
    "#else break\n",
    "#print(xy)\n",
    "\n"
   ]
  },
  {
   "cell_type": "code",
   "execution_count": null,
   "metadata": {
    "scrolled": true
   },
   "outputs": [],
   "source": [
    "  "
   ]
  },
  {
   "cell_type": "code",
   "execution_count": null,
   "metadata": {
    "scrolled": true
   },
   "outputs": [],
   "source": [
    "\n"
   ]
  },
  {
   "cell_type": "code",
   "execution_count": null,
   "metadata": {
    "scrolled": true
   },
   "outputs": [],
   "source": [
    "#def main():\n",
    "#  print(\"Done\")\n",
    "#  \n",
    "#if __name__== \"__main__\":\n",
    "#  main()\n",
    "#else break"
   ]
  }
 ],
 "metadata": {
  "kernelspec": {
   "display_name": "Python 3",
   "language": "python",
   "name": "python3"
  }
 },
 "nbformat": 4,
 "nbformat_minor": 2
}
