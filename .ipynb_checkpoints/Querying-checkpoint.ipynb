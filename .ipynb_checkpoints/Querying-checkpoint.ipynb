{
 "cells": [
  {
   "cell_type": "code",
   "execution_count": 50,
   "metadata": {
    "scrolled": false
   },
   "outputs": [
    {
     "ename": "ImportError",
     "evalue": "cannot import name 'skyServer'",
     "output_type": "error",
     "traceback": [
      "\u001b[1;31m---------------------------------------------------------------------------\u001b[0m",
      "\u001b[1;31mImportError\u001b[0m                               Traceback (most recent call last)",
      "\u001b[1;32m<ipython-input-50-00638e92ecf9>\u001b[0m in \u001b[0;36m<module>\u001b[1;34m()\u001b[0m\n\u001b[0;32m      1\u001b[0m \u001b[1;32mimport\u001b[0m \u001b[0msciserver\u001b[0m \u001b[1;32mas\u001b[0m \u001b[0msci\u001b[0m\u001b[1;33m\u001b[0m\u001b[0m\n\u001b[0;32m      2\u001b[0m \u001b[1;32mfrom\u001b[0m \u001b[0msciserver\u001b[0m \u001b[1;32mimport\u001b[0m \u001b[1;33m*\u001b[0m\u001b[1;33m\u001b[0m\u001b[0m\n\u001b[1;32m----> 3\u001b[1;33m \u001b[1;32mfrom\u001b[0m \u001b[0msciserver\u001b[0m \u001b[1;32mimport\u001b[0m \u001b[0mskyServer\u001b[0m\u001b[1;33m\u001b[0m\u001b[0m\n\u001b[0m\u001b[0;32m      4\u001b[0m \u001b[1;32mimport\u001b[0m \u001b[0mos\u001b[0m\u001b[1;33m\u001b[0m\u001b[0m\n\u001b[0;32m      5\u001b[0m \u001b[1;32mimport\u001b[0m \u001b[0msys\u001b[0m\u001b[1;33m\u001b[0m\u001b[0m\n",
      "\u001b[1;31mImportError\u001b[0m: cannot import name 'skyServer'"
     ]
    }
   ],
   "source": [
    "import sciserver as sci\n",
    "from sciserver import *\n",
    "#from sciserver import skyServer\n",
    "import os\n",
    "import sys\n",
    "import numpy\n",
    "import io\n",
    "import scipy\n",
    "#dirList = SciDrive.DirectoryList(\"\")\n"
   ]
  },
  {
   "cell_type": "code",
   "execution_count": 105,
   "metadata": {},
   "outputs": [],
   "source": [
    "# common variable to make searching easier\n",
    "def var_init_(): \n",
    "\n",
    "    def id():\n",
    "        global obj\n",
    "    # input is id. search using objId\n",
    "        obj = None\n",
    "    \n",
    "    def nm():\n",
    "        global nm\n",
    "    # input is common/official name. search using name\n",
    "        name = None\n",
    "    \n",
    "    def cx():\n",
    "        global cordx\n",
    "    #input are the coordinates. search using x and y coordinates\n",
    "        cordx= None\n",
    "    \n",
    "    def cy():\n",
    "        global cordy\n",
    "        cordy= None\n",
    "    \n",
    " \n"
   ]
  },
  {
   "cell_type": "code",
   "execution_count": 106,
   "metadata": {},
   "outputs": [],
   "source": [
    "# figuring out the parameter to search with\n",
    "\n",
    "global x\n",
    "\n",
    "def x_init_():\n",
    "    var_init_()\n",
    "\n",
    "    if (var_init_.obj is not None): \n",
    "        print(\"searching with Object Id\")\n",
    "        x.obj=var_init_.obj\n",
    "        var_init_.obj=None\n",
    "    \n",
    "    elif (var_init_.name is not None): \n",
    "        print(\"searching with object name\")\n",
    "        x.name=var_init_.name\n",
    "        var_init_.name=None\n",
    "\n",
    "    elif ((var_init_.cordx is not None) and (var_init_.cordy is not None)): \n",
    "        print(\"Searching with coordinates\")\n",
    "        x.cordx=var_init_.cordx\n",
    "        x.cordy=var_init_.cordy\n",
    "        var_init_.cordx=None\n",
    "        var_init_.cordy=None\n",
    "\n",
    "    else:\n",
    "        print(\"Error! Input required\")\n",
    "\n",
    "\n"
   ]
  },
  {
   "cell_type": "code",
   "execution_count": 107,
   "metadata": {},
   "outputs": [
    {
     "ename": "AttributeError",
     "evalue": "'function' object has no attribute 'obj'",
     "output_type": "error",
     "traceback": [
      "\u001b[1;31m---------------------------------------------------------------------------\u001b[0m",
      "\u001b[1;31mAttributeError\u001b[0m                            Traceback (most recent call last)",
      "\u001b[1;32m<ipython-input-107-78ba1458f0ce>\u001b[0m in \u001b[0;36m<module>\u001b[1;34m()\u001b[0m\n\u001b[1;32m----> 1\u001b[1;33m \u001b[0mx_init_\u001b[0m\u001b[1;33m(\u001b[0m\u001b[1;33m)\u001b[0m\u001b[1;33m\u001b[0m\u001b[0m\n\u001b[0m\u001b[0;32m      2\u001b[0m \u001b[0mx_init_\u001b[0m\u001b[1;33m(\u001b[0m\u001b[0mself\u001b[0m\u001b[1;33m)\u001b[0m\u001b[1;33m\u001b[0m\u001b[0m\n",
      "\u001b[1;32m<ipython-input-106-a815953d47a0>\u001b[0m in \u001b[0;36mx_init_\u001b[1;34m()\u001b[0m\n\u001b[0;32m      6\u001b[0m     \u001b[0mvar_init_\u001b[0m\u001b[1;33m(\u001b[0m\u001b[1;33m)\u001b[0m\u001b[1;33m\u001b[0m\u001b[0m\n\u001b[0;32m      7\u001b[0m \u001b[1;33m\u001b[0m\u001b[0m\n\u001b[1;32m----> 8\u001b[1;33m     \u001b[1;32mif\u001b[0m \u001b[1;33m(\u001b[0m\u001b[0mvar_init_\u001b[0m\u001b[1;33m.\u001b[0m\u001b[0mobj\u001b[0m \u001b[1;32mis\u001b[0m \u001b[1;32mnot\u001b[0m \u001b[1;32mNone\u001b[0m\u001b[1;33m)\u001b[0m\u001b[1;33m:\u001b[0m\u001b[1;33m\u001b[0m\u001b[0m\n\u001b[0m\u001b[0;32m      9\u001b[0m         \u001b[0mprint\u001b[0m\u001b[1;33m(\u001b[0m\u001b[1;34m\"searching with Object Id\"\u001b[0m\u001b[1;33m)\u001b[0m\u001b[1;33m\u001b[0m\u001b[0m\n\u001b[0;32m     10\u001b[0m         \u001b[0mx\u001b[0m\u001b[1;33m.\u001b[0m\u001b[0mobj\u001b[0m\u001b[1;33m=\u001b[0m\u001b[0mvar_init_\u001b[0m\u001b[1;33m.\u001b[0m\u001b[0mobj\u001b[0m\u001b[1;33m\u001b[0m\u001b[0m\n",
      "\u001b[1;31mAttributeError\u001b[0m: 'function' object has no attribute 'obj'"
     ]
    }
   ],
   "source": []
  },
  {
   "cell_type": "code",
   "execution_count": null,
   "metadata": {
    "scrolled": true
   },
   "outputs": [],
   "source": [
    "class Image:\n",
    "{\n",
    "    class phototag:\n",
    "    {\n",
    "        \n",
    "    }\n",
    "    class photoobjall:\n",
    "    {\n",
    "        \n",
    "    }\n",
    "    class photoobj:\n",
    "    {\n",
    "        \n",
    "    }\n",
    "    class zoospec:\n",
    "    {\n",
    "        \n",
    "    }\n",
    "}"
   ]
  },
  {
   "cell_type": "code",
   "execution_count": null,
   "metadata": {},
   "outputs": [],
   "source": [
    "class cross\n",
    "{\n",
    "    \n",
    "}"
   ]
  },
  {
   "cell_type": "code",
   "execution_count": null,
   "metadata": {
    "scrolled": true
   },
   "outputs": [],
   "source": [
    "class Spectra \n",
    "{\n",
    "    \n",
    "}  "
   ]
  },
  {
   "cell_type": "code",
   "execution_count": null,
   "metadata": {},
   "outputs": [],
   "source": [
    "### flag check and value display here ###"
   ]
  },
  {
   "cell_type": "code",
   "execution_count": null,
   "metadata": {
    "scrolled": true
   },
   "outputs": [],
   "source": [
    "#o = 12589000 #put or get object ID\n",
    "\n",
    "#print(dir(sciserver))\n",
    "#print(sciserver.__spec__)\n",
    "#print(sciserver.skyserver.objectSearch())\n",
    "\n",
    "#print(\"WORKING!\")\n",
    "\n",
    "\n",
    "\n",
    "\n",
    "\n",
    "#y=sci.image(o)\n",
    "#print(\"Image\", y)\n",
    "#z=sci.spectra(o)\n",
    "#print(\"spectra\", z)\n",
    "#xx=sci.crossid(o)\n",
    "#print(\"crossid\",xx)\n",
    "#xy=sci.flag(o)\n",
    "#if xy==\"MANGA\" \n",
    "#    print(sciserver.manga(o))\n",
    "#else if y==\"APOGEE\"\n",
    "#    print(sciserver.apogee(o))\n",
    "#else break\n",
    "#print(xy)\n",
    "\n",
    "\n"
   ]
  },
  {
   "cell_type": "code",
   "execution_count": null,
   "metadata": {
    "scrolled": true
   },
   "outputs": [],
   "source": [
    "#def main():\n",
    "#  print(\"Done\")\n",
    "#  \n",
    "#if __name__== \"__main__\":\n",
    "#  main()\n",
    "#else break"
   ]
  }
 ],
 "metadata": {
  "kernelspec": {
   "display_name": "Python 3",
   "language": "python",
   "name": "python3"
  },
  "language_info": {
   "codemirror_mode": {
    "name": "ipython",
    "version": 3
   },
   "file_extension": ".py",
   "mimetype": "text/x-python",
   "name": "python",
   "nbconvert_exporter": "python",
   "pygments_lexer": "ipython3",
   "version": "3.6.5"
  }
 },
 "nbformat": 4,
 "nbformat_minor": 2
}
