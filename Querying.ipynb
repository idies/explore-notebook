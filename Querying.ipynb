{
 "cells": [
  {
   "cell_type": "code",
   "execution_count": 105,
   "metadata": {
    "scrolled": false
   },
   "outputs": [],
   "source": [
    "#import SciServer\n",
    "#from SciServer import Config, SkyQuery, SciDrive, SkyServer\n",
    "import os\n",
    "import sys\n",
    "import numpy\n",
    "import io\n",
    "import scipy\n",
    "#dirList = SciDrive.DirectoryList(\"\")\n"
   ]
  },
  {
   "cell_type": "code",
   "execution_count": 106,
   "metadata": {},
   "outputs": [],
   "source": [
    "# common variable to make searching easier\n",
    "### currently only using object id for convinience ###\n",
    "def var_init_(): \n",
    "    \n",
    "    def obj():\n",
    "        le = None\n",
    "    # input is id. search using objId\n",
    "        try:\n",
    "            le =  input(\"Enter Obeject ID\")\n",
    "            return le\n",
    "        except TypeError:\n",
    "                le=None\n",
    "                print(\"Oops! Please enter a valid integer.\")\n",
    "   \n",
    "\n",
    "    '''`\n",
    "    def nm():\n",
    "    \n",
    "    # input is common/official name. search using name\n",
    "        name = \"\"\n",
    "    \n",
    "    def cx():\n",
    "        float cordx\n",
    "    #input are the coordinates. search using x and y coordinates\n",
    "        cordx= None\n",
    "    \n",
    "    def cy():\n",
    "        float cordy\n",
    "        cordy= None\n",
    "    '''\n",
    "    \n"
   ]
  },
  {
   "cell_type": "code",
   "execution_count": null,
   "metadata": {},
   "outputs": [],
   "source": [
    "\n"
   ]
  },
  {
   "cell_type": "code",
   "execution_count": null,
   "metadata": {},
   "outputs": [],
   "source": []
  },
  {
   "cell_type": "code",
   "execution_count": 107,
   "metadata": {
    "scrolled": true
   },
   "outputs": [],
   "source": [
    "def Image():\n",
    "     ### displays all values on Imaging ###\n",
    "    def phtag():\n",
    "        ### getting values from table PhotoTag  ###\n",
    "        print(\" \")\n",
    "        \n",
    "         \n",
    "    def phall():\n",
    "        ### getting values from table photoobjall ###\n",
    "        print(\" \")\n",
    "                 \n",
    "         \n",
    "    def photobj():\n",
    "        ### getting values from table PhotoObj ###\n",
    "        print(\" \")\n",
    "        \n",
    "         \n",
    "    def zoospec():\n",
    "        ### ###\n",
    "        print(\" \")\n",
    "        \n",
    "        \n",
    "         \n",
    "     "
   ]
  },
  {
   "cell_type": "code",
   "execution_count": 108,
   "metadata": {},
   "outputs": [],
   "source": [
    "def cross():\n",
    "    ### ###\n",
    "    print(\"\")\n",
    "    \n"
   ]
  },
  {
   "cell_type": "code",
   "execution_count": 109,
   "metadata": {
    "scrolled": true
   },
   "outputs": [],
   "source": [
    "def Spectra(): \n",
    "    ### ###\n",
    "    print(\"\")\n",
    "  "
   ]
  },
  {
   "cell_type": "code",
   "execution_count": 110,
   "metadata": {},
   "outputs": [],
   "source": [
    "### flag check and value display here ###"
   ]
  },
  {
   "cell_type": "code",
   "execution_count": 112,
   "metadata": {
    "scrolled": true
   },
   "outputs": [],
   "source": [
    "def main():\n",
    "    z=0\n",
    "    name= \"__main__\"\n",
    "    while (z < 4 and z>0):\n",
    "        print(\"1. Search with object Id\")\n",
    "        print(\"2. Search with object co-ordinates\")\n",
    "        print(\"3. search with common name\")\n",
    "        print(\"4. Exit\")\n",
    "        try:\n",
    "            z= input(\"Option: \")\n",
    "        except TypeError:\n",
    "            print(\"Error! That option doesn't exist.\")\n",
    "        if (z==1):\n",
    "            var_init_.obj()\n",
    "        elif (z==2) :\n",
    "            var_init_.cx()\n",
    "            var_init_.cy()\n",
    "        elif (z==3) :\n",
    "            var_init_.nm()\n",
    "        elif (z==0 or z==4):\n",
    "            break\n",
    "        else :\n",
    "            print(\"Try again!\")\n",
    "            \n",
    "            \n",
    "   \n",
    "    \n",
    "    if (name == \"__main__\"):\n",
    "        main()\n",
    "        name = None\n",
    "    else: \n",
    "        sys.exit()\n",
    "\n"
   ]
  },
  {
   "cell_type": "code",
   "execution_count": null,
   "metadata": {},
   "outputs": [],
   "source": [
    "\n",
    "\n"
   ]
  }
 ],
 "metadata": {
  "kernelspec": {
   "display_name": "Python 3",
   "language": "python",
   "name": "python3"
  },
  "language_info": {
   "codemirror_mode": {
    "name": "ipython",
    "version": 3
   },
   "file_extension": ".py",
   "mimetype": "text/x-python",
   "name": "python",
   "nbconvert_exporter": "python",
   "pygments_lexer": "ipython3",
   "version": "3.6.5"
  }
 },
 "nbformat": 4,
 "nbformat_minor": 2
}
