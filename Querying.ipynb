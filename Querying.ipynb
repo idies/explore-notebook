{
 "cells": [
  {
   "cell_type": "code",
   "execution_count": null,
   "metadata": {
    "scrolled": false
   },
   "outputs": [],
   "source": [
    "#import SciServer\n",
    "#from SciServer import Config, SkyQuery, SciDrive, SkyServer\n",
    "#import ImgCutout\n",
    "import os\n",
    "import sys\n",
    "import numpy\n",
    "import io\n",
    "import scipy\n",
    "#dirList = SciDrive.DirectoryList(\"\")\n"
   ]
  },
  {
   "cell_type": "code",
   "execution_count": null,
   "metadata": {},
   "outputs": [],
   "source": [
    "# common variable to make searching easier\n",
    "### currently only using object id for convinience ###\n",
    "def var_init_(a): \n",
    "    \n",
    "    def obj():\n",
    "        le = 0\n",
    "    # input is object id. search using objid\n",
    "        try:\n",
    "            le =  input(\"Enter Object ID\")\n",
    "           \n",
    "        except TypeError:\n",
    "            le=0\n",
    "            print(\"Oops! Please enter a valid integer.\")\n",
    "            \n",
    "        else :\n",
    "            Image(le)\n",
    "\n",
    "    '''`\n",
    "    def nm():\n",
    "    \n",
    "    # input is common/official name. search using name\n",
    "        name = \"\"\n",
    "    \n",
    "    def cx():\n",
    "        cordx= 0.0\n",
    "    #input are the coordinates. search using x and y coordinates\n",
    "        \n",
    "    \n",
    "    def cy():\n",
    "        \n",
    "        cordy= 0.0\n",
    "    '''\n",
    "    obj()\n",
    "\n",
    "        \n"
   ]
  },
  {
   "cell_type": "code",
   "execution_count": null,
   "metadata": {},
   "outputs": [],
   "source": [
    "\n"
   ]
  },
  {
   "cell_type": "code",
   "execution_count": null,
   "metadata": {},
   "outputs": [],
   "source": []
  },
  {
   "cell_type": "code",
   "execution_count": null,
   "metadata": {
    "scrolled": true
   },
   "outputs": [],
   "source": [
    "def Image(oid):\n",
    "     ### displays all values on Imaging ###\n",
    "    def phtag(x):\n",
    "        ### getting values from table PhotoTag  ###\n",
    "        df= None\n",
    "        df= SkyServer.objectSearch(objid=oid, dataRelease=\"DR14\")\n",
    "        if (df== None):\n",
    "            print(\"There is no object with that Id. Please try again\")\n",
    "            var_init_.obj()\n",
    "        else :\n",
    "            print(\"Imaging \")\n",
    "            print(SkeServer.sqlSearch(\"select * from PhotoTag where objid=oid\", dataRelease=\"DR14\"), \"\\n\")\n",
    "        \n",
    "         \n",
    "    def phall(y):\n",
    "        ### getting values from table photoobjall ###\n",
    "        print(\" \")\n",
    "                 \n",
    "         \n",
    "    def photobj(z):\n",
    "        ### getting values from table PhotoObj ###\n",
    "        print(\" \")\n",
    "        \n",
    "         \n",
    "    def zoospec(w):\n",
    "        ### ###\n",
    "        print(\" \")\n",
    "        \n",
    "    phtag(oid)\n",
    "    phall(oid)\n",
    "    photobj(oid)\n",
    "    zoospec(oid)\n",
    "        \n",
    "         \n",
    "     "
   ]
  },
  {
   "cell_type": "code",
   "execution_count": null,
   "metadata": {},
   "outputs": [],
   "source": [
    "def cross():\n",
    "    ### ###\n",
    "    print(\"\")\n",
    "    \n"
   ]
  },
  {
   "cell_type": "code",
   "execution_count": null,
   "metadata": {
    "scrolled": true
   },
   "outputs": [],
   "source": [
    "def Spectra(): \n",
    "    ### ###\n",
    "    print(\"\")\n",
    "  "
   ]
  },
  {
   "cell_type": "code",
   "execution_count": null,
   "metadata": {},
   "outputs": [],
   "source": [
    "### flag check and value display here ###"
   ]
  },
  {
   "cell_type": "code",
   "execution_count": null,
   "metadata": {},
   "outputs": [],
   "source": [
    "def main():\n",
    "    z=7\n",
    "    while (z != 4):\n",
    "        print(\"1. Search with object Id\")\n",
    "        print(\"2. Search with object co-ordinates\")\n",
    "        print(\"3. search with common name\")\n",
    "        print(\"4. Exit\")\n",
    "            \n",
    "        try :\n",
    "            z = input(\"Option: \")\n",
    "        except TypeError :\n",
    "            print(\"Please enter an integer\")\n",
    "        else :\n",
    "            var_init_(z)        \n",
    "            z=4\n",
    "\n",
    "if (__name__ == \"__main__\"):\n",
    "    main()\n",
    "else: \n",
    "    sys.exit()\n",
    "  "
   ]
  },
  {
   "cell_type": "code",
   "execution_count": null,
   "metadata": {},
   "outputs": [],
   "source": []
  },
  {
   "cell_type": "code",
   "execution_count": null,
   "metadata": {},
   "outputs": [],
   "source": []
  },
  {
   "cell_type": "code",
   "execution_count": null,
   "metadata": {
    "scrolled": false
   },
   "outputs": [],
   "source": []
  },
  {
   "cell_type": "code",
   "execution_count": null,
   "metadata": {},
   "outputs": [],
   "source": [
    "\n",
    "\n"
   ]
  }
 ],
 "metadata": {
  "kernelspec": {
   "display_name": "Python 3",
   "language": "python",
   "name": "python3"
  }
 },
 "nbformat": 4,
 "nbformat_minor": 2
}
