{
 "cells": [
  {
   "cell_type": "code",
   "execution_count": 50,
   "metadata": {
    "scrolled": false
   },
   "outputs": [
    {
     "ename": "ImportError",
     "evalue": "cannot import name 'skyServer'",
     "output_type": "error",
     "traceback": [
      "\u001b[1;31m---------------------------------------------------------------------------\u001b[0m",
      "\u001b[1;31mImportError\u001b[0m                               Traceback (most recent call last)",
      "\u001b[1;32m<ipython-input-50-00638e92ecf9>\u001b[0m in \u001b[0;36m<module>\u001b[1;34m()\u001b[0m\n\u001b[0;32m      1\u001b[0m \u001b[1;32mimport\u001b[0m \u001b[0msciserver\u001b[0m \u001b[1;32mas\u001b[0m \u001b[0msci\u001b[0m\u001b[1;33m\u001b[0m\u001b[0m\n\u001b[0;32m      2\u001b[0m \u001b[1;32mfrom\u001b[0m \u001b[0msciserver\u001b[0m \u001b[1;32mimport\u001b[0m \u001b[1;33m*\u001b[0m\u001b[1;33m\u001b[0m\u001b[0m\n\u001b[1;32m----> 3\u001b[1;33m \u001b[1;32mfrom\u001b[0m \u001b[0msciserver\u001b[0m \u001b[1;32mimport\u001b[0m \u001b[0mskyServer\u001b[0m\u001b[1;33m\u001b[0m\u001b[0m\n\u001b[0m\u001b[0;32m      4\u001b[0m \u001b[1;32mimport\u001b[0m \u001b[0mos\u001b[0m\u001b[1;33m\u001b[0m\u001b[0m\n\u001b[0;32m      5\u001b[0m \u001b[1;32mimport\u001b[0m \u001b[0msys\u001b[0m\u001b[1;33m\u001b[0m\u001b[0m\n",
      "\u001b[1;31mImportError\u001b[0m: cannot import name 'skyServer'"
     ]
    }
   ],
   "source": [
    "import sciserver as sci\n",
    "from sciserver import *\n",
    "#from sciserver import skyServer\n",
    "import os\n",
    "import sys\n",
    "import numpy\n",
    "import io\n",
    "import scipy\n",
    "#dirList = SciDrive.DirectoryList(\"\")\n"
   ]
  },
  {
   "cell_type": "code",
   "execution_count": 48,
   "metadata": {},
   "outputs": [],
   "source": [
    "# common variable to make searching easier\n",
    "def var(): \n",
    "\n",
    "    def id():\n",
    "        global obj\n",
    "    # input is id. search using objId\n",
    "        obj = null\n",
    "    \n",
    "    def nm():\n",
    "        global nm\n",
    "    # input is common/official name. search using name\n",
    "        name = null\n",
    "    \n",
    "    def x():\n",
    "        global cordx\n",
    "    #input are the coordinates. search using x and y coordinates\n",
    "        cordx=null\n",
    "    \n",
    "    def y():\n",
    "        global cordy\n",
    "        cordy= null\n",
    "    \n",
    "    \n",
    " \n"
   ]
  },
  {
   "cell_type": "code",
   "execution_count": 49,
   "metadata": {
    "collapsed": true
   },
   "outputs": [
    {
     "ename": "SyntaxError",
     "evalue": "invalid syntax (<ipython-input-49-c2a154ed996b>, line 6)",
     "output_type": "error",
     "traceback": [
      "\u001b[1;36m  File \u001b[1;32m\"<ipython-input-49-c2a154ed996b>\"\u001b[1;36m, line \u001b[1;32m6\u001b[0m\n\u001b[1;33m    if (obj is not null)\u001b[0m\n\u001b[1;37m                         ^\u001b[0m\n\u001b[1;31mSyntaxError\u001b[0m\u001b[1;31m:\u001b[0m invalid syntax\n"
     ]
    }
   ],
   "source": [
    "# ask for input into var()\n",
    "### ask here ###\n",
    "\n",
    "def var_init():\n",
    "    var()\n",
    "    if (obj is not null) \n",
    "        print(\"searching with Object Id\")\n",
    "        return (obj)\n",
    "    \n",
    "    else if (name is not null) \n",
    "        print(\"searching with object name\")\n",
    "        return (nm)\n",
    "\n",
    "    else if (cordx is not null && cordy is not null) \n",
    "        print(\"Searching with coordinates\")\n",
    "        return(cordx,cordy)\n",
    "    else \n",
    "        print(\"Error! Input required\" \\n)\n",
    "        break\n",
    "\n"
   ]
  },
  {
   "cell_type": "code",
   "execution_count": null,
   "metadata": {},
   "outputs": [],
   "source": [
    "\n",
    "\n",
    "\n",
    "\n",
    "\n"
   ]
  },
  {
   "cell_type": "code",
   "execution_count": null,
   "metadata": {
    "scrolled": true
   },
   "outputs": [],
   "source": [
    "class Image:\n",
    "{\n",
    "    class phototag:\n",
    "    {\n",
    "        \n",
    "    }\n",
    "    class photoobjall:\n",
    "    {\n",
    "        \n",
    "    }\n",
    "    class photoobj:\n",
    "    {\n",
    "        \n",
    "    }\n",
    "    class zoospec:\n",
    "    {\n",
    "        \n",
    "    }\n",
    "}"
   ]
  },
  {
   "cell_type": "code",
   "execution_count": null,
   "metadata": {},
   "outputs": [],
   "source": [
    "class cross\n",
    "{\n",
    "    \n",
    "}"
   ]
  },
  {
   "cell_type": "code",
   "execution_count": null,
   "metadata": {
    "scrolled": true
   },
   "outputs": [],
   "source": [
    "class Spectra \n",
    "{\n",
    "    \n",
    "}  "
   ]
  },
  {
   "cell_type": "code",
   "execution_count": null,
   "metadata": {},
   "outputs": [],
   "source": [
    "### flag check and value display here ###"
   ]
  },
  {
   "cell_type": "code",
   "execution_count": null,
   "metadata": {
    "scrolled": true
   },
   "outputs": [],
   "source": [
    "#o = 12589000 #put or get object ID\n",
    "\n",
    "#print(dir(sciserver))\n",
    "#print(sciserver.__spec__)\n",
    "#print(sciserver.skyserver.objectSearch())\n",
    "\n",
    "#print(\"WORKING!\")\n",
    "\n",
    "\n",
    "\n",
    "\n",
    "\n",
    "#y=sci.image(o)\n",
    "#print(\"Image\", y)\n",
    "#z=sci.spectra(o)\n",
    "#print(\"spectra\", z)\n",
    "#xx=sci.crossid(o)\n",
    "#print(\"crossid\",xx)\n",
    "#xy=sci.flag(o)\n",
    "#if xy==\"MANGA\" \n",
    "#    print(sciserver.manga(o))\n",
    "#else if y==\"APOGEE\"\n",
    "#    print(sciserver.apogee(o))\n",
    "#else break\n",
    "#print(xy)\n",
    "\n",
    "\n"
   ]
  },
  {
   "cell_type": "code",
   "execution_count": null,
   "metadata": {
    "scrolled": true
   },
   "outputs": [],
   "source": [
    "#def main():\n",
    "#  print(\"Done\")\n",
    "#  \n",
    "#if __name__== \"__main__\":\n",
    "#  main()\n",
    "#else break"
   ]
  }
 ],
 "metadata": {
  "kernelspec": {
   "display_name": "Python 3",
   "language": "python",
   "name": "python3"
  },
  "language_info": {
   "codemirror_mode": {
    "name": "ipython",
    "version": 3
   },
   "file_extension": ".py",
   "mimetype": "text/x-python",
   "name": "python",
   "nbconvert_exporter": "python",
   "pygments_lexer": "ipython3",
   "version": "3.6.5"
  }
 },
 "nbformat": 4,
 "nbformat_minor": 2
}
