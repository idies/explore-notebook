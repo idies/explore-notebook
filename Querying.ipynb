{
 "cells": [
  {
   "cell_type": "code",
   "execution_count": 139,
   "metadata": {},
   "outputs": [
    {
     "ename": "ModuleNotFoundError",
     "evalue": "No module named 'SciServer'",
     "output_type": "error",
     "traceback": [
      "\u001b[1;31m---------------------------------------------------------------------------\u001b[0m",
      "\u001b[1;31mModuleNotFoundError\u001b[0m                       Traceback (most recent call last)",
      "\u001b[1;32m<ipython-input-139-f024fcbe8677>\u001b[0m in \u001b[0;36m<module>\u001b[1;34m()\u001b[0m\n\u001b[0;32m      2\u001b[0m \u001b[1;32mfrom\u001b[0m \u001b[0mSciScript_Python\u001b[0m \u001b[1;32mimport\u001b[0m \u001b[0mpy3\u001b[0m\u001b[1;33m\u001b[0m\u001b[0m\n\u001b[0;32m      3\u001b[0m \u001b[1;32mfrom\u001b[0m \u001b[0mSciScript_Python\u001b[0m\u001b[1;33m.\u001b[0m\u001b[0mpy3\u001b[0m \u001b[1;32mimport\u001b[0m \u001b[0mSciServer\u001b[0m \u001b[1;32mas\u001b[0m \u001b[0mSciServer\u001b[0m\u001b[1;33m\u001b[0m\u001b[0m\n\u001b[1;32m----> 4\u001b[1;33m \u001b[1;32mfrom\u001b[0m \u001b[0mSciScript_Python\u001b[0m\u001b[1;33m.\u001b[0m\u001b[0mpy3\u001b[0m\u001b[1;33m.\u001b[0m\u001b[0mSciServer\u001b[0m \u001b[1;32mimport\u001b[0m \u001b[0mSkyServer\u001b[0m \u001b[1;32mas\u001b[0m \u001b[0mSkyServer\u001b[0m\u001b[1;33m\u001b[0m\u001b[0m\n\u001b[0m\u001b[0;32m      5\u001b[0m \u001b[1;32mfrom\u001b[0m \u001b[0mSciScript_Python\u001b[0m\u001b[1;33m.\u001b[0m\u001b[0mpy3\u001b[0m\u001b[1;33m.\u001b[0m\u001b[0mSciServer\u001b[0m \u001b[1;32mimport\u001b[0m \u001b[0mSkyQuery\u001b[0m \u001b[1;32mas\u001b[0m \u001b[0mSkyQuery\u001b[0m\u001b[1;33m\u001b[0m\u001b[0m\n\u001b[0;32m      6\u001b[0m \u001b[1;32mfrom\u001b[0m \u001b[0mSciScript_Python\u001b[0m\u001b[1;33m.\u001b[0m\u001b[0mpy3\u001b[0m\u001b[1;33m.\u001b[0m\u001b[0mSciServer\u001b[0m \u001b[1;32mimport\u001b[0m \u001b[0mCasJobs\u001b[0m \u001b[1;32mas\u001b[0m \u001b[0mCasjobs\u001b[0m\u001b[1;33m\u001b[0m\u001b[0m\n",
      "\u001b[1;32m~\\OneDrive\\Github\\explore-notebook\\SciScript_Python\\py3\\SciServer\\SkyServer.py\u001b[0m in \u001b[0;36m<module>\u001b[1;34m()\u001b[0m\n\u001b[0;32m      8\u001b[0m \u001b[1;32mfrom\u001b[0m \u001b[0mio\u001b[0m \u001b[1;32mimport\u001b[0m \u001b[0mBytesIO\u001b[0m\u001b[1;33m\u001b[0m\u001b[0m\n\u001b[0;32m      9\u001b[0m \u001b[1;33m\u001b[0m\u001b[0m\n\u001b[1;32m---> 10\u001b[1;33m \u001b[1;32mfrom\u001b[0m \u001b[0mSciServer\u001b[0m \u001b[1;32mimport\u001b[0m \u001b[0mAuthentication\u001b[0m\u001b[1;33m,\u001b[0m \u001b[0mConfig\u001b[0m\u001b[1;33m\u001b[0m\u001b[0m\n\u001b[0m\u001b[0;32m     11\u001b[0m \u001b[1;33m\u001b[0m\u001b[0m\n\u001b[0;32m     12\u001b[0m \u001b[1;32mdef\u001b[0m \u001b[0msqlSearch\u001b[0m\u001b[1;33m(\u001b[0m\u001b[0msql\u001b[0m\u001b[1;33m,\u001b[0m \u001b[0mdataRelease\u001b[0m\u001b[1;33m=\u001b[0m\u001b[1;32mNone\u001b[0m\u001b[1;33m)\u001b[0m\u001b[1;33m:\u001b[0m\u001b[1;33m\u001b[0m\u001b[0m\n",
      "\u001b[1;31mModuleNotFoundError\u001b[0m: No module named 'SciServer'"
     ]
    }
   ],
   "source": [
    "import SciScript_Python\n",
    "from SciScript_Python import py3\n",
    "from SciScript_Python.py3 import SciServer as SciServer\n",
    "from SciScript_Python.py3.SciServer import SkyServer as SkyServer\n",
    "from SciScript_Python.py3.SciServer import SkyQuery as SkyQuery\n",
    "from SciScript_Python.py3.SciServer import CasJobs as Casjobs\n",
    "from SciScript_Python.py3.SciServer import Authentication as Authentication\n",
    "\n",
    "import os\n",
    "import sys\n",
    "import numpy as np\n",
    "import io\n",
    "import scipy\n",
    "import pandas as pd\n",
    "import skimage\n",
    "import json\n"
   ]
  },
  {
   "cell_type": "code",
   "execution_count": null,
   "metadata": {},
   "outputs": [],
   "source": []
  },
  {
   "cell_type": "code",
   "execution_count": 49,
   "metadata": {},
   "outputs": [],
   "source": [
    "# common variable to make searching easier\n",
    "### currently only using object id for convinience ###\n",
    "def var_init_(a): \n",
    "    \n",
    "    def obj():\n",
    "        le = 0\n",
    "    # input is object id. search using objid\n",
    "        try:\n",
    "            le =  input(\"Enter Object ID\")\n",
    "           \n",
    "        except TypeError:\n",
    "            le=0\n",
    "            print(\"Oops! Please enter a valid integer.\")\n",
    "            \n",
    "        else :\n",
    "            Image(le)\n",
    "            cross(le)\n",
    "            #Spectra(le)\n",
    "\n",
    "    '''`\n",
    "    def nm():\n",
    "    \n",
    "    # input is common/official name. search using name\n",
    "        name = \"\"\n",
    "    \n",
    "    def cx():\n",
    "        cordx= 0.0\n",
    "    #input are the coordinates. search using x and y coordinates\n",
    "        \n",
    "    \n",
    "    def cy():\n",
    "        \n",
    "        cordy= 0.0\n",
    "    '''\n",
    "    obj()\n",
    "# if-else statement needed\n",
    "# function variable to be added\n",
    "\n",
    "        \n"
   ]
  },
  {
   "cell_type": "code",
   "execution_count": null,
   "metadata": {},
   "outputs": [],
   "source": [
    "\n"
   ]
  },
  {
   "cell_type": "code",
   "execution_count": null,
   "metadata": {},
   "outputs": [],
   "source": []
  },
  {
   "cell_type": "code",
   "execution_count": 50,
   "metadata": {
    "scrolled": true
   },
   "outputs": [],
   "source": [
    "def Image(oid): #SKYSERVER#\n",
    "     ### displays all values on Imaging ###\n",
    "    \n",
    "        \n",
    "    def phtag(x,ex):\n",
    "        ### getting values from table PhotoTag  ###\n",
    "        #help(SkyServer)\n",
    "        df= 0\n",
    "        try :\n",
    "            #df= SkyServer.sqlSearch(sql=\"select objID from PhotoObjAll r where r.objID= x\", dataRelease=\"DR14\")\n",
    "            df=SciServer.SkyServer.objectSearch(objId=x)\n",
    "            if (df== 0):\n",
    "                print(\"There is no object with that Id. Please try again\")\n",
    "                var_init_.obj()\n",
    "            \n",
    "        except MemoryError:\n",
    "            pass\n",
    "        \n",
    "        \n",
    "        \n",
    "        print(\"Imaging \")\n",
    "        #ex = ex.append(SkyServer.sqlSearch(sql=\"SELECT TOP 1 pt.ra, pt.dec, pt.run, pt.rerun, pt.camcol, pt.field, pt.objId, pt.fieldId, pt.flags FROM PhotoTag pt WHERE pt.objID= x\", dataRelease=\"DR14\"))\n",
    "        #print(ex)\n",
    "        #WHERE IS THIS TABLE??\n",
    "        \n",
    "    def phall(y,ex):\n",
    "        ### getting values from table photoobjall ###\n",
    "        \n",
    "        sql_query=\"select p.clean, p.type, p.u, p.g, p.r , p.I, p.z, p.err_u, p.err_g, p.err_r, p.err_i, p.err_z from PhotoObjAll p where p.objID=y\"\n",
    "        \n",
    "        ex=ex.append(SkyServer.sqlSearch(sql=sql_query, dataRelease=\"DR14\"))\n",
    "        #print(ex)        \n",
    "         \n",
    "    def photobj(z, ex):\n",
    "        ### getting values from table PhotoObj and Photoz ###\n",
    "        \n",
    "        \n",
    "        \n",
    "        ex1=(SkyServer.sqlSearch(sql=\"select b.mode, b.mdj, b.nDetect-1, b.parentID, b.nChild, b.extinction_r, b.petroRad, b.petroRadErr_r, from PhotoObj b where b.objID=z\", dataRelease=\"DR14\"))\n",
    "         \n",
    "        ex2=(SkyServer.sqlsearch(sql=\"select h.z,h.zerr from Photoz h where h.objID=z\", dataRelease=\"DR14\"))         \n",
    "        ex3=[ex, ex3]\n",
    "        ans=SkyServer.sqlSearch.concat(ex3)\n",
    "        #print(ans)\n",
    "        ex=ex.append(ans)\n",
    "        \n",
    "        \n",
    "    def zoospec(w):\n",
    "        ### getting values from table zooSpec on shape of object  ###\n",
    "        print(\"...\") \n",
    "        # CASE for o/p \n",
    "        s=(SkyServer.sqlSearch(sql=\"select z.spiral from zooSpec z where z.objID=w\", dataRelease=\"DR14\"))\n",
    "        e=(SkyServer.sqlSearch(sql=\"select z.elliptical from zooSpec z where z.objID=w\", dataRelease=\"DR14\"))\n",
    "        u=(SkyServer.sqlSearch(sql=\"select z.uncertain from zooSpec z where z.objID=w\", dataRelease=\"DR14\"))\n",
    "    \n",
    "    ex=pd.DataFrame(index=[1,2,3,4])   \n",
    "    phtag(oid,ex)\n",
    "    phall(oid,ex)\n",
    "    photobj(oid,ex)\n",
    "    zoospec(oid,ex)\n",
    "    print(ex)    \n",
    "    \n",
    "# set up a way to search using different methods         \n",
    "# RECHECK COLUMN NAMES! ErrorCode:500           "
   ]
  },
  {
   "cell_type": "code",
   "execution_count": 51,
   "metadata": {},
   "outputs": [],
   "source": [
    "def cross(oid): #CASJOBS#\n",
    "    ### getting all values under cross identification with OBJID###\n",
    "    #casjobs clear mydb. insert into mydb\n",
    "    def unso(x):\n",
    "        #vales from table USNO#\n",
    "        tabel=SciServer.CasJobs.executeQuery(sql=\"select propermotion, muraerr, mudecerr, angle from USNO n where n.OBJID=x\",context='DR14',format='pandas')\n",
    "        print(tabel)\n",
    "        tabel=None #clearing table before next query\n",
    "        \n",
    "    def wse(y):\n",
    "        #values from tables WISE_xmatch and WISE_allsky#\n",
    "        tabel=SciServer.CasJobs.executeQuery(sql=\"select wise_cntr,w1mag, w2mag, w3mag, w4mag, from WISE_xmatch h and WISE_skyall t where h.OBJID=y and t.OBJID=y\",context='DR14',format='pandas')\n",
    "        print(tabel)\n",
    "        tabel=None\n",
    "        \n",
    "    def rose(z):\n",
    "    #values from ROSAT and RC3#\n",
    "        tabel= SciServer.CasJobs.executeQuery(sql=\"select cps, hr1, hr2, ext,cps, hr1, hr2, ext from RC3 c and ROSAT q where c.OBJID=q.OBJID=z\",context='DR14',format='pandas')\n",
    "        if (tabel == NONE):\n",
    "            print(\"There is no ROSAT, RC3 data for this object\")\n",
    "        print(tabel)\n",
    "        tabel=None\n",
    "        \n",
    "    def reall(w):\n",
    "    #values from tables FIRST and TwoMASS #\n",
    "        tabel=SciServer.CasJobs.executeQuery(sql=\"select j,h,k, phQual, from TwoMASS s and First f where s.OBJID=f.OBJID=w\",context='DR14',format='pandas')\n",
    "        print(tabel)\n",
    "        tabel=None\n",
    "    \n",
    "    unso(oid)\n",
    "    wse(oid)\n",
    "    rose(oid)\n",
    "    reall(oid)"
   ]
  },
  {
   "cell_type": "code",
   "execution_count": 52,
   "metadata": {
    "scrolled": true
   },
   "outputs": [],
   "source": [
    "def Spectra(oid): \n",
    "    ### ###\n",
    "    print(\"\")\n",
    "  "
   ]
  },
  {
   "cell_type": "code",
   "execution_count": 53,
   "metadata": {},
   "outputs": [],
   "source": [
    "### flag check and value display here ###"
   ]
  },
  {
   "cell_type": "code",
   "execution_count": 138,
   "metadata": {},
   "outputs": [
    {
     "name": "stdout",
     "output_type": "stream",
     "text": [
      "1. Search with object Id\n",
      "2. Search with object co-ordinates\n",
      "3. search with common name\n",
      "4. Exit\n",
      "Option: 1\n",
      "Enter Object ID1237668296598749280\n"
     ]
    },
    {
     "ename": "AttributeError",
     "evalue": "module 'SciScript_Python.py3.SciServer' has no attribute 'SkyServer'",
     "output_type": "error",
     "traceback": [
      "\u001b[1;31m---------------------------------------------------------------------------\u001b[0m",
      "\u001b[1;31mAttributeError\u001b[0m                            Traceback (most recent call last)",
      "\u001b[1;32m<ipython-input-138-e6fbcccdce8d>\u001b[0m in \u001b[0;36m<module>\u001b[1;34m()\u001b[0m\n\u001b[0;32m     17\u001b[0m \u001b[1;33m\u001b[0m\u001b[0m\n\u001b[0;32m     18\u001b[0m \u001b[1;32mif\u001b[0m \u001b[1;33m(\u001b[0m\u001b[0m__name__\u001b[0m \u001b[1;33m==\u001b[0m \u001b[1;34m\"__main__\"\u001b[0m\u001b[1;33m)\u001b[0m\u001b[1;33m:\u001b[0m\u001b[1;33m\u001b[0m\u001b[0m\n\u001b[1;32m---> 19\u001b[1;33m     \u001b[0mmain\u001b[0m\u001b[1;33m(\u001b[0m\u001b[1;33m)\u001b[0m\u001b[1;33m\u001b[0m\u001b[0m\n\u001b[0m\u001b[0;32m     20\u001b[0m \u001b[1;32melse\u001b[0m\u001b[1;33m:\u001b[0m\u001b[1;33m\u001b[0m\u001b[0m\n\u001b[0;32m     21\u001b[0m     \u001b[0msys\u001b[0m\u001b[1;33m.\u001b[0m\u001b[0mexit\u001b[0m\u001b[1;33m(\u001b[0m\u001b[1;33m)\u001b[0m\u001b[1;33m\u001b[0m\u001b[0m\n",
      "\u001b[1;32m<ipython-input-138-e6fbcccdce8d>\u001b[0m in \u001b[0;36mmain\u001b[1;34m()\u001b[0m\n\u001b[0;32m     13\u001b[0m             \u001b[0mprint\u001b[0m\u001b[1;33m(\u001b[0m\u001b[1;34m\"Please enter an integer\"\u001b[0m\u001b[1;33m)\u001b[0m\u001b[1;33m\u001b[0m\u001b[0m\n\u001b[0;32m     14\u001b[0m         \u001b[1;32melse\u001b[0m \u001b[1;33m:\u001b[0m\u001b[1;33m\u001b[0m\u001b[0m\n\u001b[1;32m---> 15\u001b[1;33m             \u001b[0mvar_init_\u001b[0m\u001b[1;33m(\u001b[0m\u001b[0mz\u001b[0m\u001b[1;33m)\u001b[0m\u001b[1;33m\u001b[0m\u001b[0m\n\u001b[0m\u001b[0;32m     16\u001b[0m             \u001b[0mz\u001b[0m\u001b[1;33m=\u001b[0m\u001b[1;36m0\u001b[0m\u001b[1;33m\u001b[0m\u001b[0m\n\u001b[0;32m     17\u001b[0m \u001b[1;33m\u001b[0m\u001b[0m\n",
      "\u001b[1;32m<ipython-input-49-e1b59f5814d8>\u001b[0m in \u001b[0;36mvar_init_\u001b[1;34m(a)\u001b[0m\n\u001b[0;32m     33\u001b[0m         \u001b[0mcordy\u001b[0m\u001b[1;33m=\u001b[0m \u001b[1;36m0.0\u001b[0m\u001b[1;33m\u001b[0m\u001b[0m\n\u001b[0;32m     34\u001b[0m     '''\n\u001b[1;32m---> 35\u001b[1;33m     \u001b[0mobj\u001b[0m\u001b[1;33m(\u001b[0m\u001b[1;33m)\u001b[0m\u001b[1;33m\u001b[0m\u001b[0m\n\u001b[0m\u001b[0;32m     36\u001b[0m \u001b[1;31m# if-else statement needed\u001b[0m\u001b[1;33m\u001b[0m\u001b[1;33m\u001b[0m\u001b[0m\n\u001b[0;32m     37\u001b[0m \u001b[1;31m# function variable to be added\u001b[0m\u001b[1;33m\u001b[0m\u001b[1;33m\u001b[0m\u001b[0m\n",
      "\u001b[1;32m<ipython-input-49-e1b59f5814d8>\u001b[0m in \u001b[0;36mobj\u001b[1;34m()\u001b[0m\n\u001b[0;32m     14\u001b[0m \u001b[1;33m\u001b[0m\u001b[0m\n\u001b[0;32m     15\u001b[0m         \u001b[1;32melse\u001b[0m \u001b[1;33m:\u001b[0m\u001b[1;33m\u001b[0m\u001b[0m\n\u001b[1;32m---> 16\u001b[1;33m             \u001b[0mImage\u001b[0m\u001b[1;33m(\u001b[0m\u001b[0mle\u001b[0m\u001b[1;33m)\u001b[0m\u001b[1;33m\u001b[0m\u001b[0m\n\u001b[0m\u001b[0;32m     17\u001b[0m             \u001b[0mcross\u001b[0m\u001b[1;33m(\u001b[0m\u001b[0mle\u001b[0m\u001b[1;33m)\u001b[0m\u001b[1;33m\u001b[0m\u001b[0m\n\u001b[0;32m     18\u001b[0m             \u001b[1;31m#Spectra(le)\u001b[0m\u001b[1;33m\u001b[0m\u001b[1;33m\u001b[0m\u001b[0m\n",
      "\u001b[1;32m<ipython-input-50-c36a55931831>\u001b[0m in \u001b[0;36mImage\u001b[1;34m(oid)\u001b[0m\n\u001b[0;32m     55\u001b[0m \u001b[1;33m\u001b[0m\u001b[0m\n\u001b[0;32m     56\u001b[0m     \u001b[0mex\u001b[0m\u001b[1;33m=\u001b[0m\u001b[0mpd\u001b[0m\u001b[1;33m.\u001b[0m\u001b[0mDataFrame\u001b[0m\u001b[1;33m(\u001b[0m\u001b[0mindex\u001b[0m\u001b[1;33m=\u001b[0m\u001b[1;33m[\u001b[0m\u001b[1;36m1\u001b[0m\u001b[1;33m,\u001b[0m\u001b[1;36m2\u001b[0m\u001b[1;33m,\u001b[0m\u001b[1;36m3\u001b[0m\u001b[1;33m,\u001b[0m\u001b[1;36m4\u001b[0m\u001b[1;33m]\u001b[0m\u001b[1;33m)\u001b[0m\u001b[1;33m\u001b[0m\u001b[0m\n\u001b[1;32m---> 57\u001b[1;33m     \u001b[0mphtag\u001b[0m\u001b[1;33m(\u001b[0m\u001b[0moid\u001b[0m\u001b[1;33m,\u001b[0m\u001b[0mex\u001b[0m\u001b[1;33m)\u001b[0m\u001b[1;33m\u001b[0m\u001b[0m\n\u001b[0m\u001b[0;32m     58\u001b[0m     \u001b[0mphall\u001b[0m\u001b[1;33m(\u001b[0m\u001b[0moid\u001b[0m\u001b[1;33m,\u001b[0m\u001b[0mex\u001b[0m\u001b[1;33m)\u001b[0m\u001b[1;33m\u001b[0m\u001b[0m\n\u001b[0;32m     59\u001b[0m     \u001b[0mphotobj\u001b[0m\u001b[1;33m(\u001b[0m\u001b[0moid\u001b[0m\u001b[1;33m,\u001b[0m\u001b[0mex\u001b[0m\u001b[1;33m)\u001b[0m\u001b[1;33m\u001b[0m\u001b[0m\n",
      "\u001b[1;32m<ipython-input-50-c36a55931831>\u001b[0m in \u001b[0;36mphtag\u001b[1;34m(x, ex)\u001b[0m\n\u001b[0;32m      9\u001b[0m         \u001b[1;32mtry\u001b[0m \u001b[1;33m:\u001b[0m\u001b[1;33m\u001b[0m\u001b[0m\n\u001b[0;32m     10\u001b[0m             \u001b[1;31m#df= SkyServer.sqlSearch(sql=\"select objID from PhotoObjAll r where r.objID= x\", dataRelease=\"DR14\")\u001b[0m\u001b[1;33m\u001b[0m\u001b[1;33m\u001b[0m\u001b[0m\n\u001b[1;32m---> 11\u001b[1;33m             \u001b[0mdf\u001b[0m\u001b[1;33m=\u001b[0m\u001b[0mSciServer\u001b[0m\u001b[1;33m.\u001b[0m\u001b[0mSkyServer\u001b[0m\u001b[1;33m.\u001b[0m\u001b[0mobjectSearch\u001b[0m\u001b[1;33m(\u001b[0m\u001b[0mobjId\u001b[0m\u001b[1;33m=\u001b[0m\u001b[0mx\u001b[0m\u001b[1;33m)\u001b[0m\u001b[1;33m\u001b[0m\u001b[0m\n\u001b[0m\u001b[0;32m     12\u001b[0m             \u001b[1;32mif\u001b[0m \u001b[1;33m(\u001b[0m\u001b[0mdf\u001b[0m\u001b[1;33m==\u001b[0m \u001b[1;36m0\u001b[0m\u001b[1;33m)\u001b[0m\u001b[1;33m:\u001b[0m\u001b[1;33m\u001b[0m\u001b[0m\n\u001b[0;32m     13\u001b[0m                 \u001b[0mprint\u001b[0m\u001b[1;33m(\u001b[0m\u001b[1;34m\"There is no object with that Id. Please try again\"\u001b[0m\u001b[1;33m)\u001b[0m\u001b[1;33m\u001b[0m\u001b[0m\n",
      "\u001b[1;31mAttributeError\u001b[0m: module 'SciScript_Python.py3.SciServer' has no attribute 'SkyServer'"
     ]
    }
   ],
   "source": [
    "def main():\n",
    "    #Authentication.getToken()\n",
    "    z=7\n",
    "    while (z != 4):\n",
    "        print(\"1. Search with object Id\")\n",
    "        print(\"2. Search with object co-ordinates\")\n",
    "        print(\"3. search with common name\")\n",
    "        print(\"4. Exit\")\n",
    "            \n",
    "        try :\n",
    "            z = input(\"Option: \")\n",
    "        except TypeError :\n",
    "            print(\"Please enter an integer\")\n",
    "        else :\n",
    "            var_init_(z)        \n",
    "            z=0\n",
    "\n",
    "if (__name__ == \"__main__\"):\n",
    "    main()\n",
    "else: \n",
    "    sys.exit()\n",
    "  "
   ]
  },
  {
   "cell_type": "code",
   "execution_count": null,
   "metadata": {},
   "outputs": [],
   "source": []
  },
  {
   "cell_type": "code",
   "execution_count": null,
   "metadata": {},
   "outputs": [],
   "source": []
  },
  {
   "cell_type": "code",
   "execution_count": null,
   "metadata": {
    "scrolled": false
   },
   "outputs": [],
   "source": []
  },
  {
   "cell_type": "code",
   "execution_count": null,
   "metadata": {},
   "outputs": [],
   "source": [
    "\n",
    "\n"
   ]
  }
 ],
 "metadata": {
  "kernelspec": {
   "display_name": "Python 3",
   "language": "python",
   "name": "python3"
  },
  "language_info": {
   "codemirror_mode": {
    "name": "ipython",
    "version": 3
   },
   "file_extension": ".py",
   "mimetype": "text/x-python",
   "name": "python",
   "nbconvert_exporter": "python",
   "pygments_lexer": "ipython3",
   "version": "3.6.5"
  }
 },
 "nbformat": 4,
 "nbformat_minor": 2
}
