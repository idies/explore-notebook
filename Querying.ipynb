{
 "cells": [
  {
   "cell_type": "code",
   "execution_count": 14,
   "metadata": {
    "scrolled": false
   },
   "outputs": [],
   "source": [
    "import sciserver as sci\n",
    "from sciserver import *\n",
    "#from sciserver import skyServer\n",
    "import os\n",
    "import sys\n",
    "import numpy\n",
    "import io\n",
    "import scipy\n",
    "#dirList = SciDrive.DirectoryList(\"\")\n"
   ]
  },
  {
   "cell_type": "code",
   "execution_count": 26,
   "metadata": {},
   "outputs": [
    {
     "ename": "SyntaxError",
     "evalue": "invalid syntax (<ipython-input-26-1d46c67f25c9>, line 10)",
     "output_type": "error",
     "traceback": [
      "\u001b[1;36m  File \u001b[1;32m\"<ipython-input-26-1d46c67f25c9>\"\u001b[1;36m, line \u001b[1;32m10\u001b[0m\n\u001b[1;33m    except TypeError() as e :\u001b[0m\n\u001b[1;37m         ^\u001b[0m\n\u001b[1;31mSyntaxError\u001b[0m\u001b[1;31m:\u001b[0m invalid syntax\n"
     ]
    }
   ],
   "source": [
    "# common variable to make searching easier\n",
    "def var_init_(x): \n",
    "    var=x\n",
    "    def obj(var):\n",
    "        \n",
    "        le=0;\n",
    "    # input is id. search using objId\n",
    "        try:\n",
    "            le = var\n",
    "            except TypeError() as e :\n",
    "                le=None\n",
    "                break\n",
    "    '''`\n",
    "    def nm(x):\n",
    "    \n",
    "    # input is common/official name. search using name\n",
    "        name = \"\"\n",
    "    \n",
    "    def cx(x):\n",
    "        float cordx\n",
    "    #input are the coordinates. search using x and y coordinates\n",
    "        cordx= None\n",
    "    \n",
    "    def cy(x):\n",
    "        float cordy\n",
    "        cordy= None\n",
    "    '''\n",
    "    \n"
   ]
  },
  {
   "cell_type": "code",
   "execution_count": 106,
   "metadata": {},
   "outputs": [],
   "source": []
  },
  {
   "cell_type": "code",
   "execution_count": null,
   "metadata": {},
   "outputs": [],
   "source": []
  },
  {
   "cell_type": "code",
   "execution_count": null,
   "metadata": {
    "scrolled": true
   },
   "outputs": [],
   "source": [
    "class Image:\n",
    "{\n",
    "    class phototag:\n",
    "    {\n",
    "        \n",
    "    }\n",
    "    class photoobjall:\n",
    "    {\n",
    "        \n",
    "    }\n",
    "    class photoobj:\n",
    "    {\n",
    "        \n",
    "    }\n",
    "    class zoospec:\n",
    "    {\n",
    "        \n",
    "    }\n",
    "}"
   ]
  },
  {
   "cell_type": "code",
   "execution_count": null,
   "metadata": {},
   "outputs": [],
   "source": [
    "class cross\n",
    "{\n",
    "    \n",
    "}"
   ]
  },
  {
   "cell_type": "code",
   "execution_count": null,
   "metadata": {
    "scrolled": true
   },
   "outputs": [],
   "source": [
    "class Spectra \n",
    "{\n",
    "    \n",
    "}  "
   ]
  },
  {
   "cell_type": "code",
   "execution_count": null,
   "metadata": {},
   "outputs": [],
   "source": [
    "### flag check and value display here ###"
   ]
  },
  {
   "cell_type": "code",
   "execution_count": null,
   "metadata": {
    "scrolled": true
   },
   "outputs": [],
   "source": [
    "#o = 12589000 #put or get object ID\n",
    "\n",
    "#print(dir(sciserver))\n",
    "#print(sciserver.__spec__)\n",
    "#print(sciserver.skyserver.objectSearch())\n",
    "\n",
    "#print(\"WORKING!\")\n",
    "\n",
    "\n",
    "\n",
    "\n",
    "\n",
    "#y=sci.image(o)\n",
    "#print(\"Image\", y)\n",
    "#z=sci.spectra(o)\n",
    "#print(\"spectra\", z)\n",
    "#xx=sci.crossid(o)\n",
    "#print(\"crossid\",xx)\n",
    "#xy=sci.flag(o)\n",
    "#if xy==\"MANGA\" \n",
    "#    print(sciserver.manga(o))\n",
    "#else if y==\"APOGEE\"\n",
    "#    print(sciserver.apogee(o))\n",
    "#else break\n",
    "#print(xy)\n",
    "\n",
    "\n"
   ]
  },
  {
   "cell_type": "code",
   "execution_count": null,
   "metadata": {
    "scrolled": true
   },
   "outputs": [],
   "source": [
    "#def main():\n",
    "#  print(\"Done\")\n",
    "#  ask for input\n",
    "#  var_init_(input)\n",
    "# \n",
    "#if __name__== \"__main__\":\n",
    "#  main()\n",
    "#else break"
   ]
  }
 ],
 "metadata": {
  "kernelspec": {
   "display_name": "Python 3",
   "language": "python",
   "name": "python3"
  },
  "language_info": {
   "codemirror_mode": {
    "name": "ipython",
    "version": 3
   },
   "file_extension": ".py",
   "mimetype": "text/x-python",
   "name": "python",
   "nbconvert_exporter": "python",
   "pygments_lexer": "ipython3",
   "version": "3.6.5"
  }
 },
 "nbformat": 4,
 "nbformat_minor": 2
}
