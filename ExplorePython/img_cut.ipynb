{
 "cells": [
  {
   "cell_type": "code",
   "execution_count": 22,
   "metadata": {},
   "outputs": [],
   "source": [
    "# coding: utf-8\n",
    "#!/usr/bin/env python\n",
    "import warnings\n",
    "from warnings import *\n",
    "from __main__ import *\n",
    "from imports import *\n"
   ]
  },
  {
   "cell_type": "code",
   "execution_count": 27,
   "metadata": {},
   "outputs": [
    {
     "name": "stderr",
     "output_type": "stream",
     "text": [
      "C:\\Users\\sciserver\\Anaconda3\\lib\\site-packages\\ipykernel_launcher.py:4: Warning: In Authentication.getToken: Authentication token is not defined: the user did not log in with the Authentication.login function, or the token has not been stored in the command line argument --ident.\n",
      "  after removing the cwd from sys.path.\n",
      "C:\\Users\\sciserver\\Anaconda3\\lib\\site-packages\\ipykernel_launcher.py:9: Warning: In Authentication.getToken: Authentication token is not defined: the user did not log in with the Authentication.login function, or the token has not been stored in the command line argument --ident.\n",
      "  if __name__ == '__main__':\n"
     ]
    }
   ],
   "source": [
    "\n",
    "try:\n",
    "    \n",
    "    token=Authentication.getToken()\n",
    "    \n",
    "except (warn(\"Error. Try again\", TypeError,)):\n",
    "    Querying.Auth()\n",
    "else:\n",
    "    token=Authentication.getToken()\n",
    "    \n",
    "\n",
    "    \n",
    "    \n",
    "\n"
   ]
  },
  {
   "cell_type": "code",
   "execution_count": null,
   "metadata": {},
   "outputs": [],
   "source": [
    "#add img cut out here"
   ]
  },
  {
   "cell_type": "code",
   "execution_count": null,
   "metadata": {},
   "outputs": [],
   "source": [
    "#output \n",
    "def values():\n",
    "    \n",
    "    #ob_id=1237668296598749280\n",
    "    #ra=197.614455635\n",
    "    #dec=18.438168849\n",
    "    #specID=2947691243863304192\n",
    "    #apo_id=\"2M13102744+1826172\"\n",
    "    \n",
    "'''\n",
    "print object id, ra, dec, spectral id and other identifiers as needed. check for flags. \n",
    "'''\n",
    "\n",
    "'''\n",
    "\n",
    "Also, check if the ID is a valid one\n",
    "'''"
   ]
  },
  {
   "cell_type": "code",
   "execution_count": null,
   "metadata": {},
   "outputs": [],
   "source": []
  },
  {
   "cell_type": "code",
   "execution_count": null,
   "metadata": {},
   "outputs": [],
   "source": []
  }
 ],
 "metadata": {
  "kernelspec": {
   "display_name": "Python 3",
   "language": "python",
   "name": "python3"
  },
  "language_info": {
   "codemirror_mode": {
    "name": "ipython",
    "version": 3
   },
   "file_extension": ".py",
   "mimetype": "text/x-python",
   "name": "python",
   "nbconvert_exporter": "python",
   "pygments_lexer": "ipython3",
   "version": "3.6.5"
  }
 },
 "nbformat": 4,
 "nbformat_minor": 2
}
