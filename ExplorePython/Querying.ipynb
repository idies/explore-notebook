{
 "cells": [
  {
   "cell_type": "code",
   "execution_count": 2,
   "metadata": {
    "extensions": {
     "jupyter_dashboards": {
      "version": 1,
      "views": {
       "grid_default": {},
       "report_default": {
        "hidden": true
       }
      }
     }
    }
   },
   "outputs": [
    {
     "data": {
      "text/plain": [
       "'\\nPretty printing command :- from IPython.lib.pretty import pretty\\n                            pretty(obj)\\n'"
      ]
     },
     "execution_count": 2,
     "metadata": {},
     "output_type": "execute_result"
    }
   ],
   "source": [
    "'''\n",
    "Pretty printing command :- from IPython.lib.pretty import pretty\n",
    "                            pretty(obj)\n",
    "'''"
   ]
  },
  {
   "cell_type": "code",
   "execution_count": 3,
   "metadata": {
    "extensions": {
     "jupyter_dashboards": {
      "version": 1,
      "views": {
       "grid_default": {},
       "report_default": {
        "hidden": true
       }
      }
     }
    }
   },
   "outputs": [],
   "source": [
    "# coding: utf-8\n",
    "#!/usr/bin/env python import *"
   ]
  },
  {
   "cell_type": "code",
   "execution_count": 3,
   "metadata": {},
   "outputs": [],
   "source": [
    "from __future__ import print_function\n",
    "import ipywidgets as widget\n",
    "from ipywidgets import interact, interactive, fixed, interact_manual, Button, Layout, FloatText\n",
    "import tkinter as tk\n",
    "import getpass\n",
    "from imports import *\n",
    "from IPython.display import display\n",
    "import missing_values as mv\n",
    "import explore as ex\n"
   ]
  },
  {
   "cell_type": "raw",
   "metadata": {
    "extensions": {
     "jupyter_dashboards": {
      "version": 1,
      "views": {
       "grid_default": {},
       "report_default": {
        "hidden": true
       }
      }
     }
    }
   },
   "source": [
    "%%javascript\n",
    "  function code_toggle() {\n",
    "    if (code_shown){\n",
    "      $('div.input').hide('500');\n",
    "      $('#toggleButton').val('Show Code')\n",
    "    } else {\n",
    "      $('div.input').show('500');\n",
    "      $('#toggleButton').val('Hide Code')\n",
    "    }\n",
    "    code_shown = !code_shown\n",
    "  }\n",
    "\n",
    "  $( document ).ready(function(){\n",
    "    code_shown=false;\n",
    "    $('div.input').hide()\n",
    "  });\n",
    "HTML(<form action=\"javascript:code_toggle()\"><input type=\"submit\" id=\"toggleButton\" value=\"Show Code\"></form>)"
   ]
  },
  {
   "cell_type": "code",
   "execution_count": 6,
   "metadata": {
    "extensions": {
     "jupyter_dashboards": {
      "version": 1,
      "views": {
       "grid_default": {},
       "report_default": {
        "hidden": true
       }
      }
     }
    }
   },
   "outputs": [
    {
     "data": {
      "text/html": [
       "<div>\n",
       "<style scoped>\n",
       "    .dataframe tbody tr th:only-of-type {\n",
       "        vertical-align: middle;\n",
       "    }\n",
       "\n",
       "    .dataframe tbody tr th {\n",
       "        vertical-align: top;\n",
       "    }\n",
       "\n",
       "    .dataframe thead th {\n",
       "        text-align: right;\n",
       "    }\n",
       "</style>\n",
       "<table border=\"1\" class=\"dataframe\">\n",
       "  <thead>\n",
       "    <tr style=\"text-align: right;\">\n",
       "      <th></th>\n",
       "      <th>type</th>\n",
       "      <th>ra</th>\n",
       "      <th>ra_sexagesimal</th>\n",
       "      <th>dec_sexagesimal</th>\n",
       "      <th>dec</th>\n",
       "      <th>run</th>\n",
       "      <th>rerun</th>\n",
       "      <th>camcol</th>\n",
       "      <th>field</th>\n",
       "      <th>obj</th>\n",
       "      <th>...</th>\n",
       "      <th>zErr</th>\n",
       "      <th>survey</th>\n",
       "      <th>programname</th>\n",
       "      <th>sourcetype</th>\n",
       "      <th>velDisp</th>\n",
       "      <th>velDispErr</th>\n",
       "      <th>plate</th>\n",
       "      <th>specMJD</th>\n",
       "      <th>fiberID</th>\n",
       "      <th>mjd_date</th>\n",
       "    </tr>\n",
       "  </thead>\n",
       "  <tbody>\n",
       "    <tr>\n",
       "      <th>0</th>\n",
       "      <td>GALAXY</td>\n",
       "      <td>197.614456</td>\n",
       "      <td>13:10:27.46935231407548</td>\n",
       "      <td>18:26:17.4079</td>\n",
       "      <td>18.438169</td>\n",
       "      <td>5314</td>\n",
       "      <td>301</td>\n",
       "      <td>1</td>\n",
       "      <td>136</td>\n",
       "      <td>96</td>\n",
       "      <td>...</td>\n",
       "      <td>0.000009</td>\n",
       "      <td>sdss</td>\n",
       "      <td>legacy</td>\n",
       "      <td>GALAXY</td>\n",
       "      <td>69.10706</td>\n",
       "      <td>6.176271</td>\n",
       "      <td>2618</td>\n",
       "      <td>54506</td>\n",
       "      <td>310</td>\n",
       "      <td>2005-05-10</td>\n",
       "    </tr>\n",
       "  </tbody>\n",
       "</table>\n",
       "<p>1 rows × 51 columns</p>\n",
       "</div>"
      ],
      "text/plain": [
       "     type          ra           ra_sexagesimal dec_sexagesimal        dec  \\\n",
       "0  GALAXY  197.614456  13:10:27.46935231407548   18:26:17.4079  18.438169   \n",
       "\n",
       "    run  rerun  camcol  field  obj     ...          zErr  survey  programname  \\\n",
       "0  5314    301       1    136   96     ...      0.000009    sdss       legacy   \n",
       "\n",
       "   sourcetype   velDisp  velDispErr  plate  specMJD  fiberID    mjd_date  \n",
       "0      GALAXY  69.10706    6.176271   2618    54506      310  2005-05-10  \n",
       "\n",
       "[1 rows x 51 columns]"
      ]
     },
     "execution_count": 6,
     "metadata": {},
     "output_type": "execute_result"
    }
   ],
   "source": [
    "d = ex.Explore(plate = 2618, mjd = 54506, fiber = 310)\n",
    "d.alldata\n"
   ]
  },
  {
   "cell_type": "code",
   "execution_count": 7,
   "metadata": {},
   "outputs": [
    {
     "data": {
      "text/plain": [
       "197.61445563464198"
      ]
     },
     "execution_count": 7,
     "metadata": {},
     "output_type": "execute_result"
    }
   ],
   "source": [
    "d.getSpectrumImage()\n",
    "\n",
    "d.get('ra')"
   ]
  },
  {
   "cell_type": "code",
   "execution_count": 1,
   "metadata": {
    "extensions": {
     "jupyter_dashboards": {
      "version": 1,
      "views": {
       "grid_default": {},
       "report_default": {
        "hidden": true
       }
      }
     }
    }
   },
   "outputs": [
    {
     "ename": "NameError",
     "evalue": "name 'Authentication' is not defined",
     "output_type": "error",
     "traceback": [
      "\u001b[0;31m\u001b[0m",
      "\u001b[0;31mNameError\u001b[0mTraceback (most recent call last)",
      "\u001b[0;32m<ipython-input-1-0922319dafe8>\u001b[0m in \u001b[0;36m<module>\u001b[0;34m()\u001b[0m\n\u001b[1;32m      1\u001b[0m \u001b[0;34m\u001b[0m\u001b[0m\n\u001b[1;32m      2\u001b[0m \u001b[0;32mtry\u001b[0m\u001b[0;34m:\u001b[0m\u001b[0;34m\u001b[0m\u001b[0m\n\u001b[0;32m----> 3\u001b[0;31m     \u001b[0mtoken\u001b[0m\u001b[0;34m=\u001b[0m\u001b[0mAuthentication\u001b[0m\u001b[0;34m.\u001b[0m\u001b[0mgetToken\u001b[0m\u001b[0;34m(\u001b[0m\u001b[0;34m)\u001b[0m\u001b[0;34m\u001b[0m\u001b[0m\n\u001b[0m\u001b[1;32m      4\u001b[0m     \u001b[0;32mif\u001b[0m \u001b[0mtoken\u001b[0m \u001b[0;32mis\u001b[0m \u001b[0;32mNone\u001b[0m\u001b[0;34m:\u001b[0m\u001b[0;34m\u001b[0m\u001b[0m\n\u001b[1;32m      5\u001b[0m         \u001b[0mmv\u001b[0m\u001b[0;34m.\u001b[0m\u001b[0mAuth\u001b[0m\u001b[0;34m(\u001b[0m\u001b[0;34m)\u001b[0m\u001b[0;34m\u001b[0m\u001b[0m\n",
      "\u001b[0;31mNameError\u001b[0m: name 'Authentication' is not defined"
     ]
    }
   ],
   "source": [
    "\n",
    "try:\n",
    "    token=Authentication.getToken()\n",
    "    if token is None:\n",
    "        mv.Auth()\n",
    "except (TypeError):\n",
    "    print(\"Invalid unsername or password. Please try again\")\n",
    "    mv.Auth()\n",
    "else:\n",
    "    token=Authentication.getToken()"
   ]
  },
  {
   "cell_type": "code",
   "execution_count": 4,
   "metadata": {
    "extensions": {
     "jupyter_dashboards": {
      "version": 1,
      "views": {
       "grid_default": {},
       "report_default": {
        "hidden": false
       }
      }
     }
    },
    "scrolled": false
   },
   "outputs": [
    {
     "data": {
      "application/vnd.jupyter.widget-view+json": {
       "model_id": "783e565f9e20499b9d25799312267bfd",
       "version_major": 2,
       "version_minor": 0
      },
      "text/plain": [
       "interactive(children=(FloatSlider(value=1.0, description='x', max=3.0, min=-1.0), Button(description='Run Inte…"
      ]
     },
     "metadata": {},
     "output_type": "display_data"
    },
    {
     "data": {
      "application/vnd.jupyter.widget-view+json": {
       "model_id": "644c4bc26d284fd48c07342f317a6b8c",
       "version_major": 2,
       "version_minor": 0
      },
      "text/plain": [
       "Label(value='Search Function')"
      ]
     },
     "metadata": {},
     "output_type": "display_data"
    },
    {
     "data": {
      "application/vnd.jupyter.widget-view+json": {
       "model_id": "88e9a2e8a2f84da39eca9639b8ba2622",
       "version_major": 2,
       "version_minor": 0
      },
      "text/plain": [
       "Label(value='Search for a celestial body')"
      ]
     },
     "metadata": {},
     "output_type": "display_data"
    },
    {
     "data": {
      "application/vnd.jupyter.widget-view+json": {
       "model_id": "46b644c2d5fc4e84ad8dc080c1662875",
       "version_major": 2,
       "version_minor": 0
      },
      "text/plain": [
       "FloatText(value=0.0, description='Ra')"
      ]
     },
     "metadata": {},
     "output_type": "display_data"
    },
    {
     "data": {
      "application/vnd.jupyter.widget-view+json": {
       "model_id": "f2e3029436a84cac920c39aed5e0577d",
       "version_major": 2,
       "version_minor": 0
      },
      "text/plain": [
       "FloatText(value=0.0, description='Dec')"
      ]
     },
     "metadata": {},
     "output_type": "display_data"
    },
    {
     "data": {
      "application/vnd.jupyter.widget-view+json": {
       "model_id": "e2a69c0f83ab467690baece820e67e15",
       "version_major": 2,
       "version_minor": 0
      },
      "text/plain": [
       "Button(description='Search', icon='search', style=ButtonStyle())"
      ]
     },
     "metadata": {},
     "output_type": "display_data"
    },
    {
     "data": {
      "application/vnd.jupyter.widget-view+json": {
       "model_id": "6bfe7e25630c489182ea10c45697a124",
       "version_major": 2,
       "version_minor": 0
      },
      "text/plain": [
       "FloatText(value=0.0, description='SpecId')"
      ]
     },
     "metadata": {},
     "output_type": "display_data"
    },
    {
     "data": {
      "application/vnd.jupyter.widget-view+json": {
       "model_id": "f37d69ba03764675af3245a815aacbc9",
       "version_major": 2,
       "version_minor": 0
      },
      "text/plain": [
       "Button(description='Go', style=ButtonStyle())"
      ]
     },
     "metadata": {},
     "output_type": "display_data"
    },
    {
     "data": {
      "application/vnd.jupyter.widget-view+json": {
       "model_id": "f081b793e1424247937e6dc7bff01e76",
       "version_major": 2,
       "version_minor": 0
      },
      "text/plain": [
       "FloatText(value=0.0, description='ObjectID')"
      ]
     },
     "metadata": {},
     "output_type": "display_data"
    },
    {
     "data": {
      "application/vnd.jupyter.widget-view+json": {
       "model_id": "65c86be564f848eab3ecda40ced82f44",
       "version_major": 2,
       "version_minor": 0
      },
      "text/plain": [
       "Button(description='Go', style=ButtonStyle())"
      ]
     },
     "metadata": {},
     "output_type": "display_data"
    }
   ],
   "source": [
    "\"\"\"\n",
    "~~~~~~~~~~~~~~~~~~~~~~~~~~~~~~\n",
    "Search Function\n",
    "~~~~~~~~~~~~~~~~~~~~~~~~~~~~~~\n",
    "\n",
    "A search function to call objects from values instead of the Navigate tool\n",
    "\n",
    "IPython widgets are embedded to help with layout.\n",
    "Args:\n",
    ":Text box:: Takes <u>floating point</u> values to call missing_values.py\n",
    "            for other values\n",
    ":Button:: Accepts both <click> and <Enter> and stores values for later use\n",
    "Returns:\n",
    "There are no outputs for this cell. The program will move on to the next cell\n",
    "soon after the 'Button' value is assigned.\n",
    "\n",
    "\"\"\"\n",
    "'''Decorator'''\n",
    "@interact_manual(description='iGo')\n",
    "def value_call(x=1.0,*args):\n",
    "    try:\n",
    "        return x\n",
    "    except TypeError:\n",
    "        raise TypeError(\"Please enter a numerical value and try again\")\n",
    "'''Widget formatting'''\n",
    "searchBtn=widget.Button(description='Search', icon='search')\n",
    "#display(searchBtn)\n",
    "out=widget.Output(layout={\"border\":\"2px solid black\"})\n",
    "# print(type(out))\n",
    "# toggle.observe(out)\n",
    "caption1 = widget.Label(value='Search Function')\n",
    "caption2 = widget.Label(value='Search for a celestial body')\n",
    "display(caption1,caption2)\n",
    "\n",
    "'''Ra and Dec values'''\n",
    "input_text1,input_text2=(widget.FloatText(description='Ra'), widget.FloatText(description='Dec'))\n",
    "output_text1,output_text2=(widget.FloatText(),widget.FloatText())\n",
    "display(input_text1,input_text2,searchBtn)\n",
    "dl = widget.dlink((input_text1, 'value'), (output_text1, 'value'))\n",
    "dl2 = widget.dlink((input_text2,'value'),(output_text2,'value'))\n",
    "\n",
    "'''Optical spectrum's unique identification number AKA Spec Id, APOGEE Id, Apstar Id'''\n",
    "input_text3=widget.FloatText(description='SpecId')\n",
    "output_text3=widget.FloatText()\n",
    "button2=widget.Button(description='Go', disabled=False, layout=Layout(align='right'))\n",
    "dl3=widget.dlink((input_text3,'value'),(output_text3,'value'))\n",
    "display(input_text3,button2)\n",
    "\n",
    "\n",
    "'''Object identification number, ObjId'''\n",
    "input_text4=widget.FloatText(description='ObjectID')\n",
    "output_text4=widget.FloatText()\n",
    "button3=widget.Button(description='Go') \n",
    "dl4 = widget.dlink((input_text4, 'value'),(output_text4, 'value'))\n",
    "display(input_text4,button3)\n"
   ]
  },
  {
   "cell_type": "code",
   "execution_count": 6,
   "metadata": {
    "extensions": {
     "jupyter_dashboards": {
      "version": 1,
      "views": {
       "grid_default": {},
       "report_default": {}
      }
     }
    }
   },
   "outputs": [
    {
     "ename": "NameError",
     "evalue": "name 'output_text4' is not defined",
     "output_type": "error",
     "traceback": [
      "\u001b[0;31m\u001b[0m",
      "\u001b[0;31mNameError\u001b[0mTraceback (most recent call last)",
      "\u001b[0;32m<ipython-input-6-88f120eaf9ae>\u001b[0m in \u001b[0;36m<module>\u001b[0;34m()\u001b[0m\n\u001b[0;32m----> 1\u001b[0;31m \u001b[0mprint\u001b[0m\u001b[0;34m(\u001b[0m\u001b[0moutput_text4\u001b[0m\u001b[0;34m.\u001b[0m\u001b[0mvalue\u001b[0m\u001b[0;34m)\u001b[0m\u001b[0;34m\u001b[0m\u001b[0m\n\u001b[0m\u001b[1;32m      2\u001b[0m \u001b[0mhelp\u001b[0m\u001b[0;34m(\u001b[0m\u001b[0minteract_manual\u001b[0m\u001b[0;34m(\u001b[0m\u001b[0;34m)\u001b[0m\u001b[0;34m)\u001b[0m\u001b[0;34m\u001b[0m\u001b[0m\n",
      "\u001b[0;31mNameError\u001b[0m: name 'output_text4' is not defined"
     ]
    }
   ],
   "source": [
    "print(output_text4.value)\n",
    "help(interact_manual())"
   ]
  },
  {
   "cell_type": "code",
   "execution_count": 6,
   "metadata": {
    "extensions": {
     "jupyter_dashboards": {
      "version": 1,
      "views": {
       "grid_default": {},
       "report_default": {
        "hidden": true
       }
      }
     }
    }
   },
   "outputs": [],
   "source": [
    "def main():\n",
    "    '''\n",
    "    Main function for the explore tool\n",
    "    '''\n",
    "\n",
    "    data_release=\"DR14\"\n",
    "    ra=output_text1.value\n",
    "    dec=output_text2.value\n",
    "    if(ra == 0 or dec == 0):\n",
    "        try:\n",
    "            if isinstance(output_text3.value,not 0):\n",
    "                specid=output_text3.value\n",
    "                (ra,dec)=mv.get_radec_specid(specid)\n",
    "            elif isinstance(output_text4.value,not 0):\n",
    "                objid=output_text4.value\n",
    "                (ra,dec)=mv.get_radec_objid(objid)\n",
    "        except TypeError:\n",
    "            print(\"Please enter a numerical value\")\n",
    "#     try to take as input\n",
    "    \n",
    "    #%store ra dec objid specid >> val.py\n",
    "  #  %save -a val.py ra dec objid specid \n",
    "    \n",
    "    \n",
    "   \n",
    "    try:\n",
    "        if(specid.empty() == False and objid.empty() == False):\n",
    "            display_obj_image(ra,dec)\n",
    "            %run -i cross_id_values.py ra dec\n",
    "            %run -i imaging_values.py objid\n",
    "            %run -i spectra_values.py specid\n",
    "            display_opspec(ra,dec)      \n",
    "        \n",
    "    except (ValueError,TypeError) as e:\n",
    "        print(str(e)+\". Please try again\")\n",
    "    else:\n",
    "        objid='{:.1f}'.format(get_objid(ra,dec))\n",
    "        specid='{:.1f}'.format(get_specid(ra,dec))\n",
    "        display_obj_image(ra,dec)\n",
    "        %run -i cross_id_values.py ra dec\n",
    "        %run -i imaging_values.py objid\n",
    "        %run -i spectra_values.py specid\n",
    "        display_opspec(ra,dec)\n",
    "        "
   ]
  },
  {
   "cell_type": "code",
   "execution_count": 7,
   "metadata": {
    "extensions": {
     "jupyter_dashboards": {
      "version": 1,
      "views": {
       "grid_default": {},
       "report_default": {
        "hidden": false
       }
      }
     }
    }
   },
   "outputs": [
    {
     "name": "stdout",
     "output_type": "stream",
     "text": [
      "Please enter a numerical value\n"
     ]
    },
    {
     "ename": "UnboundLocalError",
     "evalue": "local variable 'specid' referenced before assignment",
     "output_type": "error",
     "traceback": [
      "\u001b[0;31m\u001b[0m",
      "\u001b[0;31mUnboundLocalError\u001b[0mTraceback (most recent call last)",
      "\u001b[0;32m<ipython-input-7-bfdaf3dfc037>\u001b[0m in \u001b[0;36m<module>\u001b[0;34m()\u001b[0m\n\u001b[1;32m      1\u001b[0m \u001b[0;32mif\u001b[0m \u001b[0;34m(\u001b[0m\u001b[0m__name__\u001b[0m\u001b[0;34m==\u001b[0m\u001b[0;34m'__main__'\u001b[0m\u001b[0;34m)\u001b[0m\u001b[0;34m:\u001b[0m\u001b[0;34m\u001b[0m\u001b[0m\n\u001b[0;32m----> 2\u001b[0;31m     \u001b[0mmain\u001b[0m\u001b[0;34m(\u001b[0m\u001b[0;34m)\u001b[0m\u001b[0;34m\u001b[0m\u001b[0m\n\u001b[0m",
      "\u001b[0;32m<ipython-input-6-d6377f7b1e97>\u001b[0m in \u001b[0;36mmain\u001b[0;34m()\u001b[0m\n\u001b[1;32m     25\u001b[0m \u001b[0;34m\u001b[0m\u001b[0m\n\u001b[1;32m     26\u001b[0m     \u001b[0;32mtry\u001b[0m\u001b[0;34m:\u001b[0m\u001b[0;34m\u001b[0m\u001b[0m\n\u001b[0;32m---> 27\u001b[0;31m         \u001b[0;32mif\u001b[0m\u001b[0;34m(\u001b[0m\u001b[0mspecid\u001b[0m\u001b[0;34m.\u001b[0m\u001b[0mempty\u001b[0m\u001b[0;34m(\u001b[0m\u001b[0;34m)\u001b[0m \u001b[0;34m==\u001b[0m \u001b[0;32mFalse\u001b[0m \u001b[0;32mand\u001b[0m \u001b[0mobjid\u001b[0m\u001b[0;34m.\u001b[0m\u001b[0mempty\u001b[0m\u001b[0;34m(\u001b[0m\u001b[0;34m)\u001b[0m \u001b[0;34m==\u001b[0m \u001b[0;32mFalse\u001b[0m\u001b[0;34m)\u001b[0m\u001b[0;34m:\u001b[0m\u001b[0;34m\u001b[0m\u001b[0m\n\u001b[0m\u001b[1;32m     28\u001b[0m             \u001b[0mdisplay_obj_image\u001b[0m\u001b[0;34m(\u001b[0m\u001b[0mra\u001b[0m\u001b[0;34m,\u001b[0m\u001b[0mdec\u001b[0m\u001b[0;34m)\u001b[0m\u001b[0;34m\u001b[0m\u001b[0m\n\u001b[1;32m     29\u001b[0m             \u001b[0mget_ipython\u001b[0m\u001b[0;34m(\u001b[0m\u001b[0;34m)\u001b[0m\u001b[0;34m.\u001b[0m\u001b[0mrun_line_magic\u001b[0m\u001b[0;34m(\u001b[0m\u001b[0;34m'run'\u001b[0m\u001b[0;34m,\u001b[0m \u001b[0;34m'-i cross_id_values.py ra dec'\u001b[0m\u001b[0;34m)\u001b[0m\u001b[0;34m\u001b[0m\u001b[0m\n",
      "\u001b[0;31mUnboundLocalError\u001b[0m: local variable 'specid' referenced before assignment"
     ]
    }
   ],
   "source": [
    "if (__name__=='__main__'):\n",
    "    main()"
   ]
  },
  {
   "cell_type": "code",
   "execution_count": 20,
   "metadata": {
    "extensions": {
     "jupyter_dashboards": {
      "version": 1,
      "views": {
       "grid_default": {},
       "report_default": {
        "hidden": true
       }
      }
     }
    }
   },
   "outputs": [],
   "source": [
    "# button2=widget.Button(description='Image')\n",
    "# def ver_call(b):\n",
    "#     %pycat imaging_values.py\n",
    "# display(button2)\n",
    "# button2.on_click(ver_call)    "
   ]
  },
  {
   "cell_type": "raw",
   "metadata": {
    "extensions": {
     "jupyter_dashboards": {
      "version": 1,
      "views": {
       "grid_default": {},
       "report_default": {
        "hidden": true
       }
      }
     }
    }
   },
   "source": [
    "<script>\n",
    "  $(document).ready(function(){\n",
    "    $('div.prompt').hide();\n",
    "    $('div.back-to-top').hide();\n",
    "    $('nav#menubar').hide();\n",
    "    $('.breadcrumb').hide();\n",
    "    $('.hidden-print').hide();\n",
    "  });\n",
    "</script>\n",
    "\n",
    "<footer id=\"attribution\" style=\"float:right; color:#999; background:#fff;\">\n",
    "Created by @Variegatedq with Jupyter, SciServer.org, and IDIES@Johns Hopkins University.\n",
    "</footer>"
   ]
  },
  {
   "cell_type": "markdown",
   "metadata": {
    "extensions": {
     "jupyter_dashboards": {
      "version": 1,
      "views": {
       "grid_default": {},
       "report_default": {
        "hidden": true
       }
      }
     }
    }
   },
   "source": []
  }
 ],
 "metadata": {
  "extensions": {
   "jupyter_dashboards": {
    "activeView": "grid_default",
    "version": 1,
    "views": {
     "grid_default": {
      "cellMargin": 10,
      "defaultCellHeight": 20,
      "maxColumns": 12,
      "name": "grid",
      "type": "grid"
     },
     "report_default": {
      "name": "report",
      "type": "report"
     }
    }
   }
  },
  "kernelspec": {
   "display_name": "Python 3",
   "language": "python",
   "name": "python3"
  },
  "language_info": {
   "codemirror_mode": {
    "name": "ipython",
    "version": 3
   },
   "file_extension": ".py",
   "mimetype": "text/x-python",
   "name": "python",
   "nbconvert_exporter": "python",
   "pygments_lexer": "ipython3",
   "version": "3.6.5"
  }
 },
 "nbformat": 4,
 "nbformat_minor": 2
}
