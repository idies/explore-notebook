{
 "cells": [
  {
   "cell_type": "code",
   "execution_count": null,
   "metadata": {},
   "outputs": [],
   "source": [
    "# coding: utf-8\n",
    "#!/usr/bin/env python"
   ]
  },
  {
   "cell_type": "code",
   "execution_count": null,
   "metadata": {},
   "outputs": [],
   "source": [
    "import getpass\n",
    "from imports import *\n",
    "from fn_imports import *\n",
    "#from Tests import test1\n",
    "# from test1 import *"
   ]
  },
  {
   "cell_type": "code",
   "execution_count": null,
   "metadata": {},
   "outputs": [],
   "source": [
    "#All flags together? in order? cleaner display"
   ]
  },
  {
   "cell_type": "code",
   "execution_count": null,
   "metadata": {},
   "outputs": [],
   "source": [
    "try:\n",
    "    token=Authentication.getToken()\n",
    "    if (token is None):\n",
    "        mv.Auth()\n",
    "except (TypeError):\n",
    "    print(\"Invalid unsername or password. Please try again\")\n",
    "    mv.Auth()\n",
    "else:\n",
    "    token=Authentication.getToken()"
   ]
  },
  {
   "cell_type": "code",
   "execution_count": null,
   "metadata": {},
   "outputs": [],
   "source": [
    "# def Auth():\n",
    "#     '''\n",
    "#     No output\n",
    "#     param:: token - SciServer login token. Guest login... \n",
    "#     input:: auth_username, auth_password - username and password values for sciserver\n",
    "#     Raise:: Exception for TyperError\n",
    "#     '''\n",
    "# ## Authentication token for SciServer ##\n",
    "#     try:\n",
    "#         auth_username=getpass.getpass('User Name: ')\n",
    "#         auth_pass=getpass.getpass('Password: ')\n",
    "#         token3=Authentication.login(auth_username,auth_pass)\n",
    "#         token=Authentication.getToken()\n",
    "#     except (ValueError, TypeError) as e:\n",
    "#         print(\"Please verify your username and password and try again\")\n",
    "#         Auth()\n",
    "#     #else: \n",
    "        \n",
    "        "
   ]
  },
  {
   "cell_type": "code",
   "execution_count": null,
   "metadata": {},
   "outputs": [],
   "source": [
    " \n",
    "##Link to interactive sky map##"
   ]
  },
  {
   "cell_type": "code",
   "execution_count": null,
   "metadata": {},
   "outputs": [],
   "source": [
    "def main():\n",
    "    '''\n",
    "    ##Used to call required functions as and when needed\n",
    "    ####The default data release version currently in being used is 14.\n",
    "    please feel free to update as required.\n",
    "    '''\n",
    "    \n",
    "    data_release=\"DR14\"\n",
    "    ra=197.614455635\n",
    "    dec=18.438168849\n",
    "    #try to take as input\n",
    "        \n",
    "    objid='{:.0f}'.format(mv.get_objid(ra,dec))\n",
    "    specid='{:.0f}'.format(mv.get_specid(ra,dec))\n",
    "    print(objid)\n",
    "    print(specid)\n",
    "    try:\n",
    "        mv.display_obj_image(ra,dec)\n",
    "        print(cross_id_values.display_crossid(ra, dec))\n",
    "    \n",
    "        print(imaging_values.display_image(objid, ra, dec))\n",
    "        \n",
    "        print(spectra_values.display_opspec(specid, ra, dec))\n",
    "      \n",
    "        print(apogee_values.display_apoge(specid))\n",
    "        print(manga_values.display_manga(specid))\n",
    "        \n",
    "    except Exception as e:\n",
    "        print(str(e)+\". Please try again\")"
   ]
  },
  {
   "cell_type": "code",
   "execution_count": null,
   "metadata": {},
   "outputs": [],
   "source": [
    "if (__name__=='__main__'):\n",
    "    main()"
   ]
  },
  {
   "cell_type": "code",
   "execution_count": null,
   "metadata": {
    "scrolled": true
   },
   "outputs": [],
   "source": [
    "# clean container after every execution\n",
    "%tb"
   ]
  },
  {
   "cell_type": "code",
   "execution_count": null,
   "metadata": {},
   "outputs": [],
   "source": []
  }
 ],
 "metadata": {
  "kernelspec": {
   "display_name": "Python 3",
   "language": "python",
   "name": "python3"
  },
  "language_info": {
   "codemirror_mode": {
    "name": "ipython",
    "version": 3
   },
   "file_extension": ".py",
   "mimetype": "text/x-python",
   "name": "python",
   "nbconvert_exporter": "python",
   "pygments_lexer": "ipython3",
   "version": "3.6.5"
  }
 },
 "nbformat": 4,
 "nbformat_minor": 2
}
