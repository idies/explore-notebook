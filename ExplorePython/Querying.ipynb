{
 "cells": [
  {
   "cell_type": "code",
   "execution_count": 2,
   "metadata": {},
   "outputs": [
    {
     "ename": "SystemExit",
     "evalue": "usage: ipykernel_launcher.py [global_opts] cmd1 [cmd1_opts] [cmd2 [cmd2_opts] ...]\n   or: ipykernel_launcher.py --help [cmd1 cmd2 ...]\n   or: ipykernel_launcher.py --help-commands\n   or: ipykernel_launcher.py cmd --help\n\nerror: option -f not recognized",
     "output_type": "error",
     "traceback": [
      "An exception has occurred, use %tb to see the full traceback.\n",
      "\u001b[1;31mSystemExit\u001b[0m\u001b[1;31m:\u001b[0m usage: ipykernel_launcher.py [global_opts] cmd1 [cmd1_opts] [cmd2 [cmd2_opts] ...]\n   or: ipykernel_launcher.py --help [cmd1 cmd2 ...]\n   or: ipykernel_launcher.py --help-commands\n   or: ipykernel_launcher.py cmd --help\n\nerror: option -f not recognized\n"
     ]
    },
    {
     "name": "stderr",
     "output_type": "stream",
     "text": [
      "C:\\Users\\sciserver\\Anaconda3\\lib\\site-packages\\IPython\\core\\interactiveshell.py:2971: UserWarning: To exit: use 'exit', 'quit', or Ctrl-D.\n",
      "  warn(\"To exit: use 'exit', 'quit', or Ctrl-D.\", stacklevel=1)\n"
     ]
    }
   ],
   "source": [
    "# coding: utf-8\n",
    "#!/usr/bin/env python\n",
    "import getpass\n",
    "from imports import *\n",
    "from fn_imports import *\n",
    "#from Tests import test1\n",
    "# from test1 import *"
   ]
  },
  {
   "cell_type": "code",
   "execution_count": null,
   "metadata": {},
   "outputs": [],
   "source": [
    "def display_image(ra=197.614455635, dec=18.438168849):\n",
    "    ra1=ra; dec1=dec\n",
    "    pixel_scale=0.2\n",
    "    img = SkyServer.getJpegImgCutout(ra=ra1, dec=dec1, scale = pixel_scale) \n",
    "    #plt.savefig(plt.imshow(img), bbox_inches='tight')\n",
    "    #img, (a, b) = plt.subplots()\n",
    "    fig=plt.imshow(img, interpolation = 'nearest')\n",
    "    fig.axes.get_xaxis().set_visible(False)\n",
    "    fig.axes.get_yaxis().set_visible(False)\n",
    "    #fig.set_axisbelow(True)\n",
    "    #plt.yaxis.grid(linestyle='dashed')\n",
    "    #plt.grid(b=True, which='major', axis='both', ls='-')\n",
    "    plt.show()\n",
    "        "
   ]
  },
  {
   "cell_type": "code",
   "execution_count": null,
   "metadata": {},
   "outputs": [],
   "source": [
    "\n",
    "    #All flags together? or one by one and print in right order>\n",
    "    "
   ]
  },
  {
   "cell_type": "code",
   "execution_count": null,
   "metadata": {},
   "outputs": [],
   "source": [
    "def Auth():\n",
    "    '''\n",
    "    No output\n",
    "    param:: token - SciServer login token. Guest login... \n",
    "    input:: auth_username, auth_password - username and password values for sciserver\n",
    "    Raise:: Exception for TyperError\n",
    "    '''\n",
    "## Authentication token for SciServer ##\n",
    "    try:\n",
    "        auth_username=getpass.getpass('User Name: ')\n",
    "        auth_pass=getpass.getpass('Password: ')\n",
    "        token3=Authentication.login(auth_username,auth_pass)\n",
    "        token=Authentication.getToken()\n",
    "    except (ValueError, TypeError) as e:\n",
    "        print(\"Please verify your username and password and try again\")\n",
    "        Auth()\n",
    "    #else: \n",
    "        \n",
    "        "
   ]
  },
  {
   "cell_type": "code",
   "execution_count": null,
   "metadata": {},
   "outputs": [],
   "source": [
    " \n",
    "##Link to interactive sky map##"
   ]
  },
  {
   "cell_type": "code",
   "execution_count": null,
   "metadata": {},
   "outputs": [],
   "source": [
    "def main():\n",
    "    '''\n",
    "    Used to call required functions as and when needed\n",
    "    param:: data_release - the data release version being used is DR14'''\n",
    "    \n",
    "    data_release=\"DR14\"\n",
    "    ra=197.614455635\n",
    "    dec=18.438168849\n",
    "        \n",
    "    sql_query='select * from fGetNearestObjEq(' + str(ra) + ',' + str(dec)+ ', 0.2)'\n",
    "    \n",
    "    x=CasJobs.executeQuery(sql=sql_query, context=data_release, format='pandas')\n",
    "    objid=(x.iloc[0])\n",
    "    \n",
    "    sql_query=\"select * from fGetNearbySpecObjEq(\" + str(ra) + \",\" + str(dec)+  \", 0.2)\"\n",
    "    y=CasJobs.executeQuery(sql=sql_query, context=data_release, format='pandas')\n",
    "    specid=y.iloc[0]\n",
    "    #print(y)\n",
    "    val=[objid, ra, dec, specid, data_release]\n",
    "    #print(x)\n",
    "    \n",
    "    try:\n",
    "        print(cross_id_values.display_crossid(val))\n",
    "    except Exception as e:\n",
    "        pass\n",
    "    try:    \n",
    "        print(imaging_values.display_image(val))\n",
    "    except Exception as e:\n",
    "        pass\n",
    "    try:    \n",
    "        print(spectra_values.display_opspec(val))\n",
    "    except Exception as e:\n",
    "        pass\n",
    "#     try:    \n",
    "#         print(apogee_values.display_apoge(val))\n",
    "#     except Exception as e:\n",
    "#         pass\n",
    "    display_image(ra,dec)\n",
    "       "
   ]
  },
  {
   "cell_type": "code",
   "execution_count": null,
   "metadata": {},
   "outputs": [],
   "source": [
    "try:\n",
    "    token=Authentication.getToken\n",
    "except (None, TypeError):\n",
    "    print(\"Invalid unsername or password. Please try again\")\n",
    "    Auth()\n",
    "else:\n",
    "    pass"
   ]
  },
  {
   "cell_type": "code",
   "execution_count": null,
   "metadata": {},
   "outputs": [],
   "source": [
    "if (__name__=='__main__'):\n",
    "    main()"
   ]
  },
  {
   "cell_type": "code",
   "execution_count": null,
   "metadata": {
    "scrolled": true
   },
   "outputs": [],
   "source": [
    "# clean container after every execution"
   ]
  },
  {
   "cell_type": "code",
   "execution_count": null,
   "metadata": {},
   "outputs": [],
   "source": []
  }
 ],
 "metadata": {
  "kernelspec": {
   "display_name": "Python 3",
   "language": "python",
   "name": "python3"
  },
  "language_info": {
   "codemirror_mode": {
    "name": "ipython",
    "version": 3
   },
   "file_extension": ".py",
   "mimetype": "text/x-python",
   "name": "python",
   "nbconvert_exporter": "python",
   "pygments_lexer": "ipython3",
   "version": "3.6.5"
  }
 },
 "nbformat": 4,
 "nbformat_minor": 2
}
