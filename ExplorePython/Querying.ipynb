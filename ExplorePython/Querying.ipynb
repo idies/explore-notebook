{
 "cells": [
  {
   "cell_type": "code",
   "execution_count": 1,
   "metadata": {},
   "outputs": [],
   "source": [
    "# coding: utf-8\n",
    "#!/usr/bin/env python"
   ]
  },
  {
   "cell_type": "code",
   "execution_count": 2,
   "metadata": {},
   "outputs": [
    {
     "name": "stderr",
     "output_type": "stream",
     "text": [
      "C:\\Users\\sciserver\\OneDrive\\Github\\explore-notebook\\ExplorePython\\missing_values.py:11: Warning: In Authentication.getToken: Authentication token is not defined: the user did not log in with the Authentication.login function, or the token has not been stored in the command line argument --ident.\n",
      "  token=Authentication.getToken()\n",
      "C:\\Users\\sciserver\\OneDrive\\Github\\explore-notebook\\ExplorePython\\imaging_values.py:18: Warning: In Authentication.getToken: Authentication token is not defined: the user did not log in with the Authentication.login function, or the token has not been stored in the command line argument --ident.\n",
      "  token=Authentication.getToken()\n",
      "C:\\Users\\sciserver\\OneDrive\\Github\\explore-notebook\\ExplorePython\\spectra_values.py:17: Warning: In Authentication.getToken: Authentication token is not defined: the user did not log in with the Authentication.login function, or the token has not been stored in the command line argument --ident.\n",
      "  token=Authentication.getToken()\n",
      "C:\\Users\\sciserver\\OneDrive\\Github\\explore-notebook\\ExplorePython\\cross_id_values.py:17: Warning: In Authentication.getToken: Authentication token is not defined: the user did not log in with the Authentication.login function, or the token has not been stored in the command line argument --ident.\n",
      "  token=Authentication.getToken()\n",
      "C:\\Users\\sciserver\\OneDrive\\Github\\explore-notebook\\ExplorePython\\manga_values.py:18: Warning: In Authentication.getToken: Authentication token is not defined: the user did not log in with the Authentication.login function, or the token has not been stored in the command line argument --ident.\n",
      "  token=Authentication.getToken()\n"
     ]
    }
   ],
   "source": [
    "import getpass\n",
    "from imports import *\n",
    "from fn_imports import *\n",
    "#from Tests import test1\n",
    "# from test1 import *"
   ]
  },
  {
   "cell_type": "code",
   "execution_count": 3,
   "metadata": {},
   "outputs": [],
   "source": [
    "try:\n",
    "    token=Authentication.getToken\n",
    "except (None, TypeError):\n",
    "    print(\"Invalid unsername or password. Please try again\")\n",
    "    mv.Auth()\n",
    "else:\n",
    "    pass"
   ]
  },
  {
   "cell_type": "code",
   "execution_count": 4,
   "metadata": {},
   "outputs": [],
   "source": [
    "\n",
    "    #All flags together? or one by one and print in right order>\n",
    "    "
   ]
  },
  {
   "cell_type": "code",
   "execution_count": 5,
   "metadata": {},
   "outputs": [],
   "source": [
    "# def Auth():\n",
    "#     '''\n",
    "#     No output\n",
    "#     param:: token - SciServer login token. Guest login... \n",
    "#     input:: auth_username, auth_password - username and password values for sciserver\n",
    "#     Raise:: Exception for TyperError\n",
    "#     '''\n",
    "# ## Authentication token for SciServer ##\n",
    "#     try:\n",
    "#         auth_username=getpass.getpass('User Name: ')\n",
    "#         auth_pass=getpass.getpass('Password: ')\n",
    "#         token3=Authentication.login(auth_username,auth_pass)\n",
    "#         token=Authentication.getToken()\n",
    "#     except (ValueError, TypeError) as e:\n",
    "#         print(\"Please verify your username and password and try again\")\n",
    "#         Auth()\n",
    "#     #else: \n",
    "        \n",
    "        "
   ]
  },
  {
   "cell_type": "code",
   "execution_count": 6,
   "metadata": {},
   "outputs": [],
   "source": [
    " \n",
    "##Link to interactive sky map##"
   ]
  },
  {
   "cell_type": "code",
   "execution_count": 7,
   "metadata": {},
   "outputs": [],
   "source": [
    "def main():\n",
    "    '''\n",
    "    Used to call required functions as and when needed\n",
    "    param:: data_release - the data release version being used is DR14'''\n",
    "    \n",
    "    data_release=\"DR14\"\n",
    "    ra=197.614455635\n",
    "    dec=18.438168849\n",
    "        \n",
    "    sql_query='select * from fGetNearestObjEq(' + str(ra) + ',' + str(dec)+ ', 0.2)'\n",
    "    \n",
    "    x=CasJobs.executeQuery(sql=sql_query, context=data_release, format='pandas')\n",
    "    objid=(x.iloc[0])\n",
    "    \n",
    "    sql_query=\"select * from fGetNearbySpecObjEq(\" + str(ra) + \",\" + str(dec)+  \", 0.2)\"\n",
    "    y=CasJobs.executeQuery(sql=sql_query, context=data_release, format='pandas')\n",
    "    specid=y.iloc[0]\n",
    "    #print(y)\n",
    "    val=[objid, ra, dec, specid, data_release]\n",
    "    #print(x)\n",
    "    \n",
    "    try:\n",
    "        print(cross_id_values.display_crossid(val))\n",
    "    except Exception as e:\n",
    "        pass\n",
    "    try:    \n",
    "        print(imaging_values.display_image(val))\n",
    "    except Exception as e:\n",
    "        pass\n",
    "    try:    \n",
    "        print(spectra_values.display_opspec(val))\n",
    "    except Exception as e:\n",
    "        pass\n",
    "#     try:    \n",
    "#         print(apogee_values.display_apoge(val))\n",
    "#     except Exception as e:\n",
    "#         pass\n",
    "    mv.display_image(ra,dec)\n",
    "       "
   ]
  },
  {
   "cell_type": "code",
   "execution_count": 8,
   "metadata": {},
   "outputs": [
    {
     "name": "stderr",
     "output_type": "stream",
     "text": [
      "C:\\Users\\sciserver\\Anaconda3\\lib\\site-packages\\sciserver-1.10.2-py3.6.egg\\SciServer\\CasJobs.py:116: Warning: In Authentication.getToken: Authentication token is not defined: the user did not log in with the Authentication.login function, or the token has not been stored in the command line argument --ident.\n"
     ]
    },
    {
     "name": "stdout",
     "output_type": "stream",
     "text": [
      "Cross Identification\n",
      "Imaging\n"
     ]
    },
    {
     "name": "stderr",
     "output_type": "stream",
     "text": [
      "C:\\Users\\sciserver\\Anaconda3\\lib\\site-packages\\sciserver-1.10.2-py3.6.egg\\SciServer\\SkyServer.py:47: Warning: In Authentication.getToken: Authentication token is not defined: the user did not log in with the Authentication.login function, or the token has not been stored in the command line argument --ident.\n"
     ]
    },
    {
     "name": "stdout",
     "output_type": "stream",
     "text": [
      "Optical Spectra\n"
     ]
    },
    {
     "name": "stderr",
     "output_type": "stream",
     "text": [
      "C:\\Users\\sciserver\\Anaconda3\\lib\\site-packages\\sciserver-1.10.2-py3.6.egg\\SciServer\\SkyServer.py:125: Warning: In Authentication.getToken: Authentication token is not defined: the user did not log in with the Authentication.login function, or the token has not been stored in the command line argument --ident.\n"
     ]
    },
    {
     "ename": "NameError",
     "evalue": "name 'plt' is not defined",
     "output_type": "error",
     "traceback": [
      "\u001b[1;31m---------------------------------------------------------------------------\u001b[0m",
      "\u001b[1;31mNameError\u001b[0m                                 Traceback (most recent call last)",
      "\u001b[1;32m<ipython-input-8-bfdaf3dfc037>\u001b[0m in \u001b[0;36m<module>\u001b[1;34m()\u001b[0m\n\u001b[0;32m      1\u001b[0m \u001b[1;32mif\u001b[0m \u001b[1;33m(\u001b[0m\u001b[0m__name__\u001b[0m\u001b[1;33m==\u001b[0m\u001b[1;34m'__main__'\u001b[0m\u001b[1;33m)\u001b[0m\u001b[1;33m:\u001b[0m\u001b[1;33m\u001b[0m\u001b[0m\n\u001b[1;32m----> 2\u001b[1;33m     \u001b[0mmain\u001b[0m\u001b[1;33m(\u001b[0m\u001b[1;33m)\u001b[0m\u001b[1;33m\u001b[0m\u001b[0m\n\u001b[0m",
      "\u001b[1;32m<ipython-input-7-1fe292515017>\u001b[0m in \u001b[0;36mmain\u001b[1;34m()\u001b[0m\n\u001b[0;32m     36\u001b[0m \u001b[1;31m#     except Exception as e:\u001b[0m\u001b[1;33m\u001b[0m\u001b[1;33m\u001b[0m\u001b[0m\n\u001b[0;32m     37\u001b[0m \u001b[1;31m#         pass\u001b[0m\u001b[1;33m\u001b[0m\u001b[1;33m\u001b[0m\u001b[0m\n\u001b[1;32m---> 38\u001b[1;33m     \u001b[0mmv\u001b[0m\u001b[1;33m.\u001b[0m\u001b[0mdisplay_image\u001b[0m\u001b[1;33m(\u001b[0m\u001b[0mra\u001b[0m\u001b[1;33m,\u001b[0m\u001b[0mdec\u001b[0m\u001b[1;33m)\u001b[0m\u001b[1;33m\u001b[0m\u001b[0m\n\u001b[0m\u001b[0;32m     39\u001b[0m \u001b[1;33m\u001b[0m\u001b[0m\n",
      "\u001b[1;32m~\\OneDrive\\Github\\explore-notebook\\ExplorePython\\missing_values.py\u001b[0m in \u001b[0;36mdisplay_image\u001b[1;34m(ra, dec)\u001b[0m\n\u001b[0;32m     82\u001b[0m     \u001b[1;31m#plt.savefig(plt.imshow(img), bbox_inches='tight')\u001b[0m\u001b[1;33m\u001b[0m\u001b[1;33m\u001b[0m\u001b[0m\n\u001b[0;32m     83\u001b[0m     \u001b[1;31m#img, (a, b) = plt.subplots()\u001b[0m\u001b[1;33m\u001b[0m\u001b[1;33m\u001b[0m\u001b[0m\n\u001b[1;32m---> 84\u001b[1;33m     \u001b[0mfig\u001b[0m\u001b[1;33m=\u001b[0m\u001b[0mplt\u001b[0m\u001b[1;33m.\u001b[0m\u001b[0mimshow\u001b[0m\u001b[1;33m(\u001b[0m\u001b[0mimg\u001b[0m\u001b[1;33m,\u001b[0m \u001b[0minterpolation\u001b[0m \u001b[1;33m=\u001b[0m \u001b[1;34m'nearest'\u001b[0m\u001b[1;33m)\u001b[0m\u001b[1;33m\u001b[0m\u001b[0m\n\u001b[0m\u001b[0;32m     85\u001b[0m     \u001b[0mfig\u001b[0m\u001b[1;33m.\u001b[0m\u001b[0maxes\u001b[0m\u001b[1;33m.\u001b[0m\u001b[0mget_xaxis\u001b[0m\u001b[1;33m(\u001b[0m\u001b[1;33m)\u001b[0m\u001b[1;33m.\u001b[0m\u001b[0mset_visible\u001b[0m\u001b[1;33m(\u001b[0m\u001b[1;32mFalse\u001b[0m\u001b[1;33m)\u001b[0m\u001b[1;33m\u001b[0m\u001b[0m\n\u001b[0;32m     86\u001b[0m     \u001b[0mfig\u001b[0m\u001b[1;33m.\u001b[0m\u001b[0maxes\u001b[0m\u001b[1;33m.\u001b[0m\u001b[0mget_yaxis\u001b[0m\u001b[1;33m(\u001b[0m\u001b[1;33m)\u001b[0m\u001b[1;33m.\u001b[0m\u001b[0mset_visible\u001b[0m\u001b[1;33m(\u001b[0m\u001b[1;32mFalse\u001b[0m\u001b[1;33m)\u001b[0m\u001b[1;33m\u001b[0m\u001b[0m\n",
      "\u001b[1;31mNameError\u001b[0m: name 'plt' is not defined"
     ]
    }
   ],
   "source": [
    "if (__name__=='__main__'):\n",
    "    main()"
   ]
  },
  {
   "cell_type": "code",
   "execution_count": null,
   "metadata": {
    "scrolled": true
   },
   "outputs": [],
   "source": [
    "# clean container after every execution"
   ]
  },
  {
   "cell_type": "code",
   "execution_count": null,
   "metadata": {},
   "outputs": [],
   "source": []
  }
 ],
 "metadata": {
  "kernelspec": {
   "display_name": "Python 3",
   "language": "python",
   "name": "python3"
  },
  "language_info": {
   "codemirror_mode": {
    "name": "ipython",
    "version": 3
   },
   "file_extension": ".py",
   "mimetype": "text/x-python",
   "name": "python",
   "nbconvert_exporter": "python",
   "pygments_lexer": "ipython3",
   "version": "3.6.5"
  }
 },
 "nbformat": 4,
 "nbformat_minor": 2
}
