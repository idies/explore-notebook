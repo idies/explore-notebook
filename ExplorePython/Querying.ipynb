{
 "cells": [
  {
   "cell_type": "code",
   "execution_count": 1,
   "metadata": {
    "extensions": {
     "jupyter_dashboards": {
      "version": 1,
      "views": {
       "grid_default": {},
       "report_default": {
        "hidden": true
       }
      }
     }
    }
   },
   "outputs": [
    {
     "data": {
      "text/plain": [
       "'\\nPretty printing command :- from IPython.lib.pretty import pretty\\n                            pretty(obj)\\n'"
      ]
     },
     "execution_count": 1,
     "metadata": {},
     "output_type": "execute_result"
    }
   ],
   "source": [
    "'''\n",
    "Pretty printing command :- from IPython.lib.pretty import pretty\n",
    "                            pretty(obj)\n",
    "'''"
   ]
  },
  {
   "cell_type": "code",
   "execution_count": 2,
   "metadata": {
    "extensions": {
     "jupyter_dashboards": {
      "version": 1,
      "views": {
       "grid_default": {},
       "report_default": {
        "hidden": true
       }
      }
     }
    }
   },
   "outputs": [],
   "source": [
    "# coding: utf-8\n",
    "#!/usr/bin/env python import *"
   ]
  },
  {
   "cell_type": "code",
   "execution_count": 1,
   "metadata": {},
   "outputs": [],
   "source": [
    "from __future__ import print_function\n",
    "import ipywidgets as widget\n",
    "from ipywidgets import interact, interactive, fixed, interact_manual, Button, Layout, FloatText\n",
    "import tkinter as tk\n",
    "import getpass\n",
    "from imports import *\n",
    "from IPython.display import display\n",
    "import missing_values as mv\n",
    "import explore as ex\n",
    "\n"
   ]
  },
  {
   "cell_type": "raw",
   "metadata": {
    "extensions": {
     "jupyter_dashboards": {
      "version": 1,
      "views": {
       "grid_default": {},
       "report_default": {
        "hidden": true
       }
      }
     }
    }
   },
   "source": [
    "%%javascript\n",
    "  function code_toggle() {\n",
    "    if (code_shown){\n",
    "      $('div.input').hide('500');\n",
    "      $('#toggleButton').val('Show Code')\n",
    "    } else {\n",
    "      $('div.input').show('500');\n",
    "      $('#toggleButton').val('Hide Code')\n",
    "    }\n",
    "    code_shown = !code_shown\n",
    "  }\n",
    "\n",
    "  $( document ).ready(function(){\n",
    "    code_shown=false;\n",
    "    $('div.input').hide()\n",
    "  });\n",
    "HTML(<form action=\"javascript:code_toggle()\"><input type=\"submit\" id=\"toggleButton\" value=\"Show Code\"></form>)"
   ]
  },
  {
   "cell_type": "code",
   "execution_count": 2,
   "metadata": {
    "extensions": {
     "jupyter_dashboards": {
      "version": 1,
      "views": {
       "grid_default": {},
       "report_default": {
        "hidden": true
       }
      }
     }
    }
   },
   "outputs": [
    {
     "data": {
      "text/html": [
       "\n",
       "        <style>\n",
       "        body {\n",
       "            margin: 0;\n",
       "            font-family: Arial;\n",
       "        }\n",
       "        table.dataframe {\n",
       "            border-collapse: collapse;\n",
       "            border: none;\n",
       "        }\n",
       "        table.dataframe tr, table.dataframe th {\n",
       "            border: none;\n",
       "        }\n",
       "        table.dataframe tr td:nth-child(odd), table.dataframe tr th:nth-child(odd){ \n",
       "            background: white;\n",
       "        }\n",
       "        table.dataframe tr td:nth-child(even), table.dataframe tr th:nth-child(even){\n",
       "            background: lightgray\n",
       "        }\n",
       "        table.dataframe thead {\n",
       "            border-bottom: 2px gray solid;\n",
       "        }\n",
       "        table.dataframe td, table.dataframe th {\n",
       "            margin: 0;\n",
       "            padding-left: 0.25em;\n",
       "            padding-right: 0.25em;\n",
       "        }\n",
       "        </style>\n",
       "        "
      ],
      "text/plain": [
       "<IPython.core.display.HTML object>"
      ]
     },
     "metadata": {},
     "output_type": "display_data"
    },
    {
     "data": {
      "text/html": [
       "<h3>Basic Data</h3><table border=\"1\" class=\"dataframe\">\n",
       "  <thead>\n",
       "    <tr style=\"text-align: right;\">\n",
       "      <th>type</th>\n",
       "      <th>ra</th>\n",
       "      <th>dec</th>\n",
       "      <th>ra_sexagesimal</th>\n",
       "      <th>dec_sexagesimal</th>\n",
       "      <th>run</th>\n",
       "      <th>rerun</th>\n",
       "      <th>camcol</th>\n",
       "      <th>field</th>\n",
       "      <th>obj</th>\n",
       "      <th>specObjID</th>\n",
       "      <th>l</th>\n",
       "      <th>b</th>\n",
       "    </tr>\n",
       "  </thead>\n",
       "  <tbody>\n",
       "    <tr>\n",
       "      <td>STAR</td>\n",
       "      <td>119.999102</td>\n",
       "      <td>23.006209</td>\n",
       "      <td>7:59:59.78442541296104</td>\n",
       "      <td>23:00:22.3521</td>\n",
       "      <td>3560</td>\n",
       "      <td>301</td>\n",
       "      <td>4</td>\n",
       "      <td>76</td>\n",
       "      <td>811</td>\n",
       "      <td>0</td>\n",
       "      <td>198.635622</td>\n",
       "      <td>24.811411</td>\n",
       "    </tr>\n",
       "  </tbody>\n",
       "</table>"
      ],
      "text/plain": [
       "<IPython.core.display.HTML object>"
      ]
     },
     "metadata": {},
     "output_type": "display_data"
    },
    {
     "data": {
      "text/html": [
       "<h4>Flags:</h4><p>NOPETRO, BINNED1, STATIONARY</p>"
      ],
      "text/plain": [
       "<IPython.core.display.HTML object>"
      ]
     },
     "metadata": {},
     "output_type": "display_data"
    },
    {
     "data": {
      "text/html": [
       "<h3>Imaging Data</h3><table border=\"1\" class=\"dataframe\">\n",
       "  <thead>\n",
       "    <tr style=\"text-align: right;\">\n",
       "      <th>u</th>\n",
       "      <th>g</th>\n",
       "      <th>r</th>\n",
       "      <th>i</th>\n",
       "      <th>z</th>\n",
       "      <th>err_u</th>\n",
       "      <th>err_g</th>\n",
       "      <th>err_r</th>\n",
       "      <th>err_i</th>\n",
       "      <th>err_z</th>\n",
       "      <th>ImageMJD</th>\n",
       "      <th>mode</th>\n",
       "      <th>parentID</th>\n",
       "      <th>nChild</th>\n",
       "      <th>extinction_r</th>\n",
       "      <th>petroRad_r</th>\n",
       "      <th>mjd_date</th>\n",
       "      <th>Photoz</th>\n",
       "      <th>Photoz_err</th>\n",
       "      <th>Zoo1Morphology_elliptical</th>\n",
       "      <th>Zoo1Morphology_spiral</th>\n",
       "      <th>Zoo1Morphology_uncertain</th>\n",
       "    </tr>\n",
       "  </thead>\n",
       "  <tbody>\n",
       "    <tr>\n",
       "      <td>25.40532</td>\n",
       "      <td>23.12724</td>\n",
       "      <td>21.5491</td>\n",
       "      <td>20.4371</td>\n",
       "      <td>19.87586</td>\n",
       "      <td>0.678213</td>\n",
       "      <td>0.219624</td>\n",
       "      <td>0.070879</td>\n",
       "      <td>0.038214</td>\n",
       "      <td>0.097653</td>\n",
       "      <td>52639</td>\n",
       "      <td>PRIMARY</td>\n",
       "      <td>0</td>\n",
       "      <td>0</td>\n",
       "      <td>0.154954</td>\n",
       "      <td>1.066676</td>\n",
       "      <td>2002-12-31</td>\n",
       "      <td>NaN</td>\n",
       "      <td>NaN</td>\n",
       "      <td>NaN</td>\n",
       "      <td>NaN</td>\n",
       "      <td>NaN</td>\n",
       "    </tr>\n",
       "  </tbody>\n",
       "</table>"
      ],
      "text/plain": [
       "<IPython.core.display.HTML object>"
      ]
     },
     "metadata": {},
     "output_type": "display_data"
    },
    {
     "data": {
      "image/png": "[encoded data removed]",
      "text/plain": [
       "<Figure size 432x288 with 1 Axes>"
      ]
     },
     "metadata": {},
     "output_type": "display_data"
    },
    {
     "data": {
      "text/html": [
       "<h3>Spectral Data</h3><table border=\"1\" class=\"dataframe\">\n",
       "  <thead>\n",
       "    <tr style=\"text-align: right;\">\n",
       "      <th>instrument</th>\n",
       "      <th>class</th>\n",
       "      <th>z</th>\n",
       "      <th>zErr</th>\n",
       "      <th>survey</th>\n",
       "      <th>programname</th>\n",
       "      <th>sourcetype</th>\n",
       "      <th>velDisp</th>\n",
       "      <th>velDispErr</th>\n",
       "      <th>plate</th>\n",
       "      <th>specMJD</th>\n",
       "      <th>fiberID</th>\n",
       "    </tr>\n",
       "  </thead>\n",
       "  <tbody>\n",
       "    <tr>\n",
       "      <td>NaN</td>\n",
       "      <td>NaN</td>\n",
       "      <td>19.87586</td>\n",
       "      <td>NaN</td>\n",
       "      <td>NaN</td>\n",
       "      <td>NaN</td>\n",
       "      <td>NaN</td>\n",
       "      <td>NaN</td>\n",
       "      <td>NaN</td>\n",
       "      <td>NaN</td>\n",
       "      <td>NaN</td>\n",
       "      <td>NaN</td>\n",
       "    </tr>\n",
       "  </tbody>\n",
       "</table>"
      ],
      "text/plain": [
       "<IPython.core.display.HTML object>"
      ]
     },
     "metadata": {},
     "output_type": "display_data"
    }
   ],
   "source": [
    "d = ex.Explore(ra = 120, dec = 23)\n",
    "d\n"
   ]
  },
  {
   "cell_type": "code",
   "execution_count": 5,
   "metadata": {},
   "outputs": [
    {
     "ename": "AttributeError",
     "evalue": "'NoneType' object has no attribute 'thumbnail'",
     "output_type": "error",
     "traceback": [
      "\u001b[0;31m\u001b[0m",
      "\u001b[0;31mAttributeError\u001b[0mTraceback (most recent call last)",
      "\u001b[0;32m<ipython-input-5-bf7804eb036f>\u001b[0m in \u001b[0;36m<module>\u001b[0;34m()\u001b[0m\n\u001b[0;32m----> 1\u001b[0;31m \u001b[0md\u001b[0m\u001b[0;34m.\u001b[0m\u001b[0mgetSpectrumImage\u001b[0m\u001b[0;34m(\u001b[0m\u001b[0;34m)\u001b[0m\u001b[0;34m.\u001b[0m\u001b[0mthumbnail\u001b[0m\u001b[0;34m(\u001b[0m\u001b[0;34m(\u001b[0m\u001b[0;36m128\u001b[0m\u001b[0;34m,\u001b[0m \u001b[0;36m128\u001b[0m\u001b[0;34m)\u001b[0m\u001b[0;34m)\u001b[0m\u001b[0;34m\u001b[0m\u001b[0m\n\u001b[0m",
      "\u001b[0;31mAttributeError\u001b[0m: 'NoneType' object has no attribute 'thumbnail'"
     ]
    }
   ],
   "source": [
    "d.getSpectrumImage().thumbnail((128, 128))\n"
   ]
  },
  {
   "cell_type": "code",
   "execution_count": 6,
   "metadata": {
    "extensions": {
     "jupyter_dashboards": {
      "version": 1,
      "views": {
       "grid_default": {},
       "report_default": {
        "hidden": true
       }
      }
     }
    }
   },
   "outputs": [],
   "source": [
    "try:\n",
    "    token=Authentication.getToken()\n",
    "    if token is None:\n",
    "        mv.Auth()\n",
    "except (TypeError):\n",
    "    print(\"Invalid unsername or password. Please try again\")\n",
    "    mv.Auth()\n",
    "else:\n",
    "    token=Authentication.getToken()"
   ]
  },
  {
   "cell_type": "code",
   "execution_count": 1,
   "metadata": {
    "extensions": {
     "jupyter_dashboards": {
      "version": 1,
      "views": {
       "grid_default": {},
       "report_default": {
        "hidden": false
       }
      }
     }
    }
   },
   "outputs": [
    {
     "ename": "NameError",
     "evalue": "name 'widget' is not defined",
     "output_type": "error",
     "traceback": [
      "\u001b[0;31m\u001b[0m",
      "\u001b[0;31mNameError\u001b[0mTraceback (most recent call last)",
      "\u001b[0;32m<ipython-input-1-46fb813f4611>\u001b[0m in \u001b[0;36m<module>\u001b[0;34m()\u001b[0m\n\u001b[1;32m     16\u001b[0m \"\"\"\n\u001b[1;32m     17\u001b[0m \u001b[0;34m\u001b[0m\u001b[0m\n\u001b[0;32m---> 18\u001b[0;31m \u001b[0mcaption2\u001b[0m \u001b[0;34m=\u001b[0m \u001b[0mwidget\u001b[0m\u001b[0;34m.\u001b[0m\u001b[0mLabel\u001b[0m\u001b[0;34m(\u001b[0m\u001b[0mvalue\u001b[0m\u001b[0;34m=\u001b[0m\u001b[0;34m'Search for a celestial body'\u001b[0m\u001b[0;34m)\u001b[0m\u001b[0;34m\u001b[0m\u001b[0m\n\u001b[0m\u001b[1;32m     19\u001b[0m \u001b[0mdisplay\u001b[0m\u001b[0;34m(\u001b[0m\u001b[0mcaption2\u001b[0m\u001b[0;34m)\u001b[0m\u001b[0;34m\u001b[0m\u001b[0m\n\u001b[1;32m     20\u001b[0m \u001b[0;34m'''Ra and Dec values'''\u001b[0m\u001b[0;34m\u001b[0m\u001b[0m\n",
      "\u001b[0;31mNameError\u001b[0m: name 'widget' is not defined"
     ]
    }
   ],
   "source": [
    "\"\"\"\n",
    "~~~~~~~~~~~~~~~~~~~~~~~~~~~~~~\n",
    "Search Function\n",
    "~~~~~~~~~~~~~~~~~~~~~~~~~~~~~~\n",
    "\n",
    "A search function to call objects from values instead of the Navigate tool\n",
    "\n",
    "IPython widgets are embedded to help with layout.\n",
    "Args:\n",
    ":Text box:: Takes <u>floating point</u> values to call missing_values.py\n",
    "            for other values\n",
    ":Button:: Accepts both <click> and <Enter> and stores values for later use\n",
    "Returns:\n",
    "There are no outputs for this cell. The program will move on to the next cell\n",
    "soon after the 'Button' value is assigned.\n",
    "\"\"\"\n",
    "\n",
    "caption2 = widget.Label(value='Search for a celestial body')\n",
    "display(caption2)\n",
    "'''Ra and Dec values'''\n",
    "\n",
    "\n",
    "\n",
    "ra_input = widget.FloatText(description='Ra:', step = '0.01') \n",
    "dec_input = widget.FloatText(description='Dec:', step = '0.01')\n",
    "coordSearchBtn = widget.Button(description=\"Search\", button_style='primary')\n",
    "\n",
    "def raDecSearch(b):\n",
    "    exploreObj = ex.Explore(ra = ra_input.value, dec = dec_input.value)\n",
    "    display(exploreObj)\n",
    "\n",
    "coordSearchBtn.on_click(raDecSearch)\n",
    "display(ra_input, dec_input,coordSearchBtn)\n",
    "\n",
    "\n",
    "'''Object identification number, ObjId'''\n",
    "objID_input = widget.FloatText(description='Object ID:') \n",
    "objIDSearchBtn = widget.Button(description=\"Search\", button_style='primary')\n",
    "\n",
    "def objIDSearch(b):\n",
    "    exploreObj = ex.Explore(objID = objID_input.value)\n",
    "    display(exploreObj)\n",
    "\n",
    "objIDSearchBtn.on_click(objIDSearch)\n",
    "display(objID_input,objIDSearchBtn)\n"
   ]
  },
  {
   "cell_type": "code",
   "execution_count": 7,
   "metadata": {
    "extensions": {
     "jupyter_dashboards": {
      "version": 1,
      "views": {
       "grid_default": {},
       "report_default": {}
      }
     }
    }
   },
   "outputs": [
    {
     "ename": "NameError",
     "evalue": "name 'output_text4' is not defined",
     "output_type": "error",
     "traceback": [
      "\u001b[0;31m\u001b[0m",
      "\u001b[0;31mNameError\u001b[0mTraceback (most recent call last)",
      "\u001b[0;32m<ipython-input-7-88f120eaf9ae>\u001b[0m in \u001b[0;36m<module>\u001b[0;34m()\u001b[0m\n\u001b[0;32m----> 1\u001b[0;31m \u001b[0mprint\u001b[0m\u001b[0;34m(\u001b[0m\u001b[0moutput_text4\u001b[0m\u001b[0;34m.\u001b[0m\u001b[0mvalue\u001b[0m\u001b[0;34m)\u001b[0m\u001b[0;34m\u001b[0m\u001b[0m\n\u001b[0m\u001b[1;32m      2\u001b[0m \u001b[0mhelp\u001b[0m\u001b[0;34m(\u001b[0m\u001b[0minteract_manual\u001b[0m\u001b[0;34m(\u001b[0m\u001b[0;34m)\u001b[0m\u001b[0;34m)\u001b[0m\u001b[0;34m\u001b[0m\u001b[0m\n",
      "\u001b[0;31mNameError\u001b[0m: name 'output_text4' is not defined"
     ]
    }
   ],
   "source": [
    "print(output_text4.value)\n",
    "help(interact_manual())"
   ]
  },
  {
   "cell_type": "code",
   "execution_count": 22,
   "metadata": {
    "extensions": {
     "jupyter_dashboards": {
      "version": 1,
      "views": {
       "grid_default": {},
       "report_default": {
        "hidden": true
       }
      }
     }
    }
   },
   "outputs": [],
   "source": [
    "def main():\n",
    "    '''\n",
    "    Main function for the explore tool\n",
    "    '''\n",
    "\n",
    "    data_release=\"DR14\"\n",
    "    ra=output_text1.value\n",
    "    dec=output_text2.value\n",
    "    if(ra == 0 or dec == 0):\n",
    "        try:\n",
    "            if isinstance(output_text3.value,not 0):\n",
    "                specid=output_text3.value\n",
    "                (ra,dec)=mv.get_radec_specid(specid)\n",
    "            elif isinstance(output_text4.value,not 0):\n",
    "                objid=output_text4.value\n",
    "                (ra,dec)=mv.get_radec_objid(objid)\n",
    "        except TypeError:\n",
    "            print(\"Please enter a numerical value\")\n",
    "#     try to take as input\n",
    "    \n",
    "    #%store ra dec objid specid >> val.py\n",
    "  #  %save -a val.py ra dec objid specid \n",
    "    \n",
    "    \n",
    "   \n",
    "    try:\n",
    "        if(specid.empty() == False and objid.empty() == False):\n",
    "            display_obj_image(ra,dec)\n",
    "            %run -i cross_id_values.py ra dec\n",
    "            %run -i imaging_values.py objid\n",
    "            %run -i spectra_values.py specid\n",
    "            display_opspec(ra,dec)      \n",
    "        \n",
    "    except (ValueError,TypeError) as e:\n",
    "        print(str(e)+\". Please try again\")\n",
    "    else:\n",
    "        objid='{:.1f}'.format(get_objid(ra,dec))\n",
    "        specid='{:.1f}'.format(get_specid(ra,dec))\n",
    "        display_obj_image(ra,dec)\n",
    "        %run -i cross_id_values.py ra dec\n",
    "        %run -i imaging_values.py objid\n",
    "        %run -i spectra_values.py specid\n",
    "        display_opspec(ra,dec)\n",
    "        "
   ]
  },
  {
   "cell_type": "code",
   "execution_count": 23,
   "metadata": {
    "extensions": {
     "jupyter_dashboards": {
      "version": 1,
      "views": {
       "grid_default": {},
       "report_default": {
        "hidden": false
       }
      }
     }
    }
   },
   "outputs": [
    {
     "ename": "NameError",
     "evalue": "name 'output_text1' is not defined",
     "output_type": "error",
     "traceback": [
      "\u001b[0;31m\u001b[0m",
      "\u001b[0;31mNameError\u001b[0mTraceback (most recent call last)",
      "\u001b[0;32m<ipython-input-23-bfdaf3dfc037>\u001b[0m in \u001b[0;36m<module>\u001b[0;34m()\u001b[0m\n\u001b[1;32m      1\u001b[0m \u001b[0;32mif\u001b[0m \u001b[0;34m(\u001b[0m\u001b[0m__name__\u001b[0m\u001b[0;34m==\u001b[0m\u001b[0;34m'__main__'\u001b[0m\u001b[0;34m)\u001b[0m\u001b[0;34m:\u001b[0m\u001b[0;34m\u001b[0m\u001b[0m\n\u001b[0;32m----> 2\u001b[0;31m     \u001b[0mmain\u001b[0m\u001b[0;34m(\u001b[0m\u001b[0;34m)\u001b[0m\u001b[0;34m\u001b[0m\u001b[0m\n\u001b[0m",
      "\u001b[0;32m<ipython-input-22-d6377f7b1e97>\u001b[0m in \u001b[0;36mmain\u001b[0;34m()\u001b[0m\n\u001b[1;32m      5\u001b[0m \u001b[0;34m\u001b[0m\u001b[0m\n\u001b[1;32m      6\u001b[0m     \u001b[0mdata_release\u001b[0m\u001b[0;34m=\u001b[0m\u001b[0;34m\"DR14\"\u001b[0m\u001b[0;34m\u001b[0m\u001b[0m\n\u001b[0;32m----> 7\u001b[0;31m     \u001b[0mra\u001b[0m\u001b[0;34m=\u001b[0m\u001b[0moutput_text1\u001b[0m\u001b[0;34m.\u001b[0m\u001b[0mvalue\u001b[0m\u001b[0;34m\u001b[0m\u001b[0m\n\u001b[0m\u001b[1;32m      8\u001b[0m     \u001b[0mdec\u001b[0m\u001b[0;34m=\u001b[0m\u001b[0moutput_text2\u001b[0m\u001b[0;34m.\u001b[0m\u001b[0mvalue\u001b[0m\u001b[0;34m\u001b[0m\u001b[0m\n\u001b[1;32m      9\u001b[0m     \u001b[0;32mif\u001b[0m\u001b[0;34m(\u001b[0m\u001b[0mra\u001b[0m \u001b[0;34m==\u001b[0m \u001b[0;36m0\u001b[0m \u001b[0;32mor\u001b[0m \u001b[0mdec\u001b[0m \u001b[0;34m==\u001b[0m \u001b[0;36m0\u001b[0m\u001b[0;34m)\u001b[0m\u001b[0;34m:\u001b[0m\u001b[0;34m\u001b[0m\u001b[0m\n",
      "\u001b[0;31mNameError\u001b[0m: name 'output_text1' is not defined"
     ]
    }
   ],
   "source": [
    "if (__name__=='__main__'):\n",
    "    main()"
   ]
  },
  {
   "cell_type": "code",
   "execution_count": 24,
   "metadata": {
    "extensions": {
     "jupyter_dashboards": {
      "version": 1,
      "views": {
       "grid_default": {},
       "report_default": {
        "hidden": true
       }
      }
     }
    }
   },
   "outputs": [],
   "source": [
    "# button2=widget.Button(description='Image')\n",
    "# def ver_call(b):\n",
    "#     %pycat imaging_values.py\n",
    "# display(button2)\n",
    "# button2.on_click(ver_call)    "
   ]
  },
  {
   "cell_type": "raw",
   "metadata": {
    "extensions": {
     "jupyter_dashboards": {
      "version": 1,
      "views": {
       "grid_default": {},
       "report_default": {
        "hidden": true
       }
      }
     }
    }
   },
   "source": [
    "<script>\n",
    "  $(document).ready(function(){\n",
    "    $('div.prompt').hide();\n",
    "    $('div.back-to-top').hide();\n",
    "    $('nav#menubar').hide();\n",
    "    $('.breadcrumb').hide();\n",
    "    $('.hidden-print').hide();\n",
    "  });\n",
    "</script>\n",
    "\n",
    "<footer id=\"attribution\" style=\"float:right; color:#999; background:#fff;\">\n",
    "Created by @Variegatedq with Jupyter, SciServer.org, and IDIES@Johns Hopkins University.\n",
    "</footer>"
   ]
  },
  {
   "cell_type": "markdown",
   "metadata": {
    "extensions": {
     "jupyter_dashboards": {
      "version": 1,
      "views": {
       "grid_default": {},
       "report_default": {
        "hidden": true
       }
      }
     }
    }
   },
   "source": []
  }
 ],
 "metadata": {
  "extensions": {
   "jupyter_dashboards": {
    "activeView": "grid_default",
    "version": 1,
    "views": {
     "grid_default": {
      "cellMargin": 10,
      "defaultCellHeight": 20,
      "maxColumns": 12,
      "name": "grid",
      "type": "grid"
     },
     "report_default": {
      "name": "report",
      "type": "report"
     }
    }
   }
  },
  "kernelspec": {
   "display_name": "Python 3",
   "language": "python",
   "name": "python3"
  },
  "language_info": {
   "codemirror_mode": {
    "name": "ipython",
    "version": 3
   },
   "file_extension": ".py",
   "mimetype": "text/x-python",
   "name": "python",
   "nbconvert_exporter": "python",
   "pygments_lexer": "ipython3",
   "version": "3.6.5"
  }
 },
 "nbformat": 4,
 "nbformat_minor": 2
}
