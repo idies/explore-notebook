{
 "cells": [
  {
   "cell_type": "code",
   "execution_count": null,
   "metadata": {},
   "outputs": [],
   "source": [
    "# coding: utf-8\n",
    "#!/usr/bin/env python\n",
    "\n",
    "import getpass\n",
    "from imports import *\n",
    "from fn_imports import *\n",
    "from Tests import test1\n",
    "from test1 import *"
   ]
  },
  {
   "cell_type": "code",
   "execution_count": null,
   "metadata": {},
   "outputs": [],
   "source": [
    "'''currently, default version isn use is DR14'''\n",
    "data_release='DR14'"
   ]
  },
  {
   "cell_type": "code",
   "execution_count": null,
   "metadata": {},
   "outputs": [],
   "source": [
    "\n",
    "    #All flags together? or one by one and print in right order>\n",
    "    \n",
    "    ### WHERE IS SCISERVER  AND IMGCUTOUT??\n",
    "    "
   ]
  },
  {
   "cell_type": "code",
   "execution_count": null,
   "metadata": {},
   "outputs": [],
   "source": [
    "def Auth():\n",
    "    '''\n",
    "    No output\n",
    "    param:: token - SciServer login token. Guest login... \n",
    "    input:: auth_username, auth_password - username and password values for sciserver\n",
    "    Raise:: Exception for TyperError\n",
    "    '''\n",
    "## Authentication token for SciServer ##\n",
    "    try:\n",
    "        auth_username=getpass.getpass('User Name: ')\n",
    "        auth_pass=getpass.getpass('Password: ')\n",
    "        token3=Authentication.login(auth_username,auth_pass)\n",
    "        token=Authentication.getToken()\n",
    "    except (ValueError, TypeError) as e:\n",
    "        print(\"Please verify your username and password and try again\")\n",
    "        Auth()"
   ]
  },
  {
   "cell_type": "code",
   "execution_count": null,
   "metadata": {},
   "outputs": [],
   "source": [
    " \n",
    "##Link to interactive sky map##"
   ]
  },
  {
   "cell_type": "code",
   "execution_count": null,
   "metadata": {},
   "outputs": [],
   "source": [
    "def main():\n",
    "    \n",
    "   \n",
    "    \n",
    "    pixel_scale=0.2\n",
    "    sql_query='select * from fGetNearestObjEq(' + str(ra) + ',' + str(dec)+ ',' + '0.2)'\n",
    "    \n",
    "    x=CasJobs.executeQuery(sql=sql_query, context=data_release, format='pandas')\n",
    "    #print(x.iloc[0])\n",
    "    \n",
    "    sql_query=\"select * from fPhotoDescription(\" + str(objid) + \")\" \n",
    "    CasJobs.executeQuery(sql=sql_query, context=data_release, format='pandas')\n",
    "    val=[objid, ra, dec, specid]\n",
    "    print(x)\n",
    "    print(display_crossid(val))\n",
    "    print(display_image(val))\n",
    "    print(display_opspec(val))\n",
    "    print(display_apoge(val))\n",
    "    \n",
    "    \n",
    "    \n",
    "    img = SkyServer.getJpegImgCutout(ra = ra, dec = dec, scale = pixel_scale) \n",
    "    #plt.savefig(plt.imshow(img), bbox_inches='tight')\n",
    "    #img, (a, b) = plt.subplots()\n",
    "    fig=plt.imshow(img, interpolation = 'nearest')\n",
    "    fig.axes.get_xaxis().set_visible(False)\n",
    "    fig.axes.get_yaxis().set_visible(False)\n",
    "    #fig.set_axisbelow(True)\n",
    "    #plt.yaxis.grid(linestyle='dashed')\n",
    "    #plt.grid(b=True, which='major', axis='both', ls='-')\n",
    "    plt.show()\n",
    "    "
   ]
  },
  {
   "cell_type": "code",
   "execution_count": null,
   "metadata": {},
   "outputs": [],
   "source": [
    "try:\n",
    "    if (Authentication.getToken()== None):\n",
    "    Auth()\n",
    "except (ValueError, TypeError):\n",
    "    print(\"Invalid unsername or password. Please try again\")\n",
    "    Auth()\n",
    "else:\n",
    "    token=Authentication.getToken()"
   ]
  },
  {
   "cell_type": "code",
   "execution_count": null,
   "metadata": {},
   "outputs": [],
   "source": [
    "if (__name__=='__main__'):\n",
    "    main()"
   ]
  },
  {
   "cell_type": "code",
   "execution_count": null,
   "metadata": {
    "scrolled": true
   },
   "outputs": [],
   "source": []
  },
  {
   "cell_type": "code",
   "execution_count": null,
   "metadata": {},
   "outputs": [],
   "source": []
  }
 ],
 "metadata": {
  "kernelspec": {
   "display_name": "Python 3",
   "language": "python",
   "name": "python3"
  },
  "language_info": {
   "codemirror_mode": {
    "name": "ipython",
    "version": 3
   },
   "file_extension": ".py",
   "mimetype": "text/x-python",
   "name": "python",
   "nbconvert_exporter": "python",
   "pygments_lexer": "ipython3",
   "version": "3.6.2"
  }
 },
 "nbformat": 4,
 "nbformat_minor": 2
}
