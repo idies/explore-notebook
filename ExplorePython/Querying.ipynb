{
 "cells": [
  {
   "cell_type": "code",
   "execution_count": null,
   "metadata": {},
   "outputs": [],
   "source": [
    "# coding: utf-8\n",
    "#!/usr/bin/env python"
   ]
  },
  {
   "cell_type": "raw",
   "metadata": {},
   "source": [
    "<script>\n",
    "  function code_toggle() {\n",
    "    if (code_shown){\n",
    "      $('div.input').hide('500');\n",
    "      $('#toggleButton').val('Show Code')\n",
    "    } else {\n",
    "      $('div.input').show('500');\n",
    "      $('#toggleButton').val('Hide Code')\n",
    "    }\n",
    "    code_shown = !code_shown\n",
    "  }\n",
    "\n",
    "  $( document ).ready(function(){\n",
    "    code_shown=false;\n",
    "    $('div.input').hide()\n",
    "  });\n",
    "</script>\n",
    "<form action=\"javascript:code_toggle()\"><input type=\"submit\" id=\"toggleButton\" value=\"Show Code\"></form>"
   ]
  },
  {
   "cell_type": "code",
   "execution_count": null,
   "metadata": {},
   "outputs": [],
   "source": [
    "import getpass\n",
    "from imports import *\n",
    "from fn_imports import *\n",
    "#from Tests import test1\n",
    "# from test1 import *"
   ]
  },
  {
   "cell_type": "code",
   "execution_count": null,
   "metadata": {},
   "outputs": [],
   "source": [
    "try:\n",
    "    token=Authentication.getToken()\n",
    "    if (token is None):\n",
    "        mv.Auth()\n",
    "except (TypeError):\n",
    "    print(\"Invalid unsername or password. Please try again\")\n",
    "    mv.Auth()\n",
    "else:\n",
    "    token=Authentication.getToken()"
   ]
  },
  {
   "cell_type": "code",
   "execution_count": null,
   "metadata": {},
   "outputs": [],
   "source": [
    "''' A script that stored the ra and dec values from th navigate tool'''\n",
    "# <script>\n",
    "#     function input_radec(){\n",
    "#         <button onclick=\"pass_vlaue()\">Go</button>\n",
    "        \n",
    "#     }\n",
    "    \n",
    "# </script>\n"
   ]
  },
  {
   "cell_type": "code",
   "execution_count": 11,
   "metadata": {},
   "outputs": [],
   "source": [
    "def main():\n",
    "    '''\n",
    "    ##Used to call required functions as and when needed\n",
    "    ####The default data release version currently in being used is 14.\n",
    "    please feel free to update as required.\n",
    "    '''\n",
    "    \n",
    "    data_release=\"DR14\"\n",
    "    ra= 180.366361729\n",
    "    dec=-0.718392963\n",
    "    #try to take as input\n",
    "            \n",
    "    objid='{:.0f}'.format(mv.get_objid(ra,dec))\n",
    "    specid='{:.0f}'.format(mv.get_specid(ra,dec))\n",
    "    print(objid)\n",
    "    print(specid)\n",
    "    %edit -p val.py ra dec objid specid\n",
    "    %save val.py\n",
    "    \n",
    "    try:\n",
    "        mv.display_obj_image(ra,dec)\n",
    "        print(cross_id_values.display_crossid(ra, dec))\n",
    "    \n",
    "        print(imaging_values.display_image(objid, ra, dec))\n",
    "        \n",
    "        print(spectra_values.display_opspec(specid, ra, dec))\n",
    "      \n",
    "        print(apogee_values.display_apoge(specid))\n",
    "        print(manga_values.display_manga(specid))\n",
    "        \n",
    "    except Exception as e:\n",
    "        print(str(e)+\". Please try again\")"
   ]
  },
  {
   "cell_type": "code",
   "execution_count": null,
   "metadata": {},
   "outputs": [],
   "source": [
    "if (__name__=='__main__'):\n",
    "    main()"
   ]
  },
  {
   "cell_type": "raw",
   "metadata": {},
   "source": [
    "<script>\n",
    "  $(document).ready(function(){\n",
    "    $('div.prompt').hide();\n",
    "    $('div.back-to-top').hide();\n",
    "    $('nav#menubar').hide();\n",
    "    $('.breadcrumb').hide();\n",
    "    $('.hidden-print').hide();\n",
    "  });\n",
    "</script>\n",
    "\n",
    "<footer id=\"attribution\" style=\"float:right; color:#999; background:#fff;\">\n",
    "Created with Jupyter, SciServer.org, and IDIES.\n",
    "</footer>"
   ]
  },
  {
   "cell_type": "code",
   "execution_count": null,
   "metadata": {},
   "outputs": [],
   "source": []
  }
 ],
 "metadata": {
  "kernelspec": {
   "display_name": "Python 3",
   "language": "python",
   "name": "python3"
  },
  "language_info": {
   "codemirror_mode": {
    "name": "ipython",
    "version": 3
   },
   "file_extension": ".py",
   "mimetype": "text/x-python",
   "name": "python",
   "nbconvert_exporter": "python",
   "pygments_lexer": "ipython3",
   "version": "3.6.5"
  }
 },
 "nbformat": 4,
 "nbformat_minor": 2
}
