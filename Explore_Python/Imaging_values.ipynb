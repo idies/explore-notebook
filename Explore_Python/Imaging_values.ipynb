{
 "cells": [
  {
   "cell_type": "code",
   "execution_count": 56,
   "metadata": {},
   "outputs": [],
   "source": [
    "#!/usr/bin/env python\n",
    "import imports\n"
   ]
  },
  {
   "cell_type": "code",
   "execution_count": 57,
   "metadata": {},
   "outputs": [
    {
     "data": {
      "text/plain": [
       "<module 'imports' from 'C:\\\\Users\\\\sciserver\\\\OneDrive\\\\Github\\\\explore-notebook\\\\Explore_Python\\\\imports.py'>"
      ]
     },
     "execution_count": 57,
     "metadata": {},
     "output_type": "execute_result"
    }
   ],
   "source": [
    "imports"
   ]
  },
  {
   "cell_type": "code",
   "execution_count": 58,
   "metadata": {},
   "outputs": [],
   "source": [
    "def Image():\n",
    "    \n",
    "\n",
    "    ex=pd.DataFrame(index=[1,2,3,4,5,6,7,8])   \n",
    "\n",
    "       ### getting values from table PhotoTag  ###\n",
    "    x=1237668296598749280    \n",
    "    i=1\n",
    "    print(\"Imaging \")\n",
    "        #ex = ex.append(SkyServer.sqlSearch(sql=\"SELECT TOP 1 pt.ra, pt.dec, pt.run, pt.rerun, pt.camcol, pt.field, pt.objId, pt.fieldId, pt.flags FROM PhotoTag pt WHERE pt.objID= x\", dataRelease=\"DR14\"))\n",
    "        #print(ex)\n",
    "        #WHERE IS THIS TABLE??\n",
    "        \n",
    "    \n",
    "        ### getting values from table photoobjall ###\n",
    "        \n",
    "    sql_query=\"select p.clean, p.type, p.u, p.g, p.r , p.I, p.z, p.err_u, p.err_g, p.err_r, p.err_i, p.err_z from PhotoObjAll p where p.objID=x\"\n",
    "    ex.loc[i]=['clean', 'type', 'u', 'g', 'r' ,'I','z,err_u', 'err_g,err_r','err_i,err_z']\n",
    "    i=i+1\n",
    "    ex.loc[i]=[SkyServer.sqlSearch(sql=sql_query, dataRelease=\"DR14\")]\n",
    "    i=i+1\n",
    "        \n",
    "    \n",
    "        ### getting values from table PhotoObj and Photoz ###\n",
    "        \n",
    "        \n",
    "    ex.loc[i]=['mode', 'mdj','nDetect-1','parentID','nChild','extinction_r','petroRad','petroRadErr_r']\n",
    "    i=i+i\n",
    "    ex.loc[i]=[SkyServer.sqlSearch(sql=\"select b.mode, b.mdj, b.nDetect-1, b.parentID, b.nChild, b.extinction_r, b.petroRad, b.petroRadErr_r, from PhotoObj b where b.objID=x\", dataRelease=\"DR14\")]\n",
    "    i=i+1 \n",
    "    ex.loc[i]= ['z','zerr']\n",
    "    i=i+1\n",
    "    ex.loc[i]=[SkyServer.sqlsearch(sql=\"select h.z,h.zerr from Photoz h where h.objID=x\", dataRelease=\"DR14\")]         \n",
    "    i=i+1        \n",
    "        \n",
    "    \n",
    "        ### getting values from table zooSpec on shape of object  ###\n",
    "        \n",
    "        # CASE for o/p \n",
    "    s=(SkyServer.sqlSearch(sql=\"select z.spiral from zooSpec z where z.objID=x\", dataRelease=\"DR14\"))\n",
    "    e=(SkyServer.sqlSearch(sql=\"select z.elliptical from zooSpec z where z.objID=x\", dataRelease=\"DR14\"))\n",
    "    u=(SkyServer.sqlSearch(sql=\"select z.uncertain from zooSpec z where z.objID=x\", dataRelease=\"DR14\"))\n",
    "    \n",
    "    \n",
    "    \n",
    "    \n",
    "    "
   ]
  },
  {
   "cell_type": "code",
   "execution_count": 59,
   "metadata": {},
   "outputs": [
    {
     "name": "stdout",
     "output_type": "stream",
     "text": [
      "Imaging \n"
     ]
    },
    {
     "ename": "NameError",
     "evalue": "name 'SkyServer' is not defined",
     "output_type": "error",
     "traceback": [
      "\u001b[1;31m---------------------------------------------------------------------------\u001b[0m",
      "\u001b[1;31mNameError\u001b[0m                                 Traceback (most recent call last)",
      "\u001b[1;32m<ipython-input-59-f3eeaa4923e0>\u001b[0m in \u001b[0;36m<module>\u001b[1;34m()\u001b[0m\n\u001b[1;32m----> 1\u001b[1;33m \u001b[0mImage\u001b[0m\u001b[1;33m(\u001b[0m\u001b[1;33m)\u001b[0m\u001b[1;33m\u001b[0m\u001b[0m\n\u001b[0m",
      "\u001b[1;32m<ipython-input-58-bc5996c45ade>\u001b[0m in \u001b[0;36mImage\u001b[1;34m()\u001b[0m\n\u001b[0;32m     18\u001b[0m     \u001b[0mex\u001b[0m\u001b[1;33m.\u001b[0m\u001b[0mloc\u001b[0m\u001b[1;33m[\u001b[0m\u001b[0mi\u001b[0m\u001b[1;33m]\u001b[0m\u001b[1;33m=\u001b[0m\u001b[1;33m[\u001b[0m\u001b[1;34m'clean'\u001b[0m\u001b[1;33m,\u001b[0m \u001b[1;34m'type'\u001b[0m\u001b[1;33m,\u001b[0m \u001b[1;34m'u'\u001b[0m\u001b[1;33m,\u001b[0m \u001b[1;34m'g'\u001b[0m\u001b[1;33m,\u001b[0m \u001b[1;34m'r'\u001b[0m \u001b[1;33m,\u001b[0m\u001b[1;34m'I'\u001b[0m\u001b[1;33m,\u001b[0m\u001b[1;34m'z,err_u'\u001b[0m\u001b[1;33m,\u001b[0m \u001b[1;34m'err_g,err_r'\u001b[0m\u001b[1;33m,\u001b[0m\u001b[1;34m'err_i,err_z'\u001b[0m\u001b[1;33m]\u001b[0m\u001b[1;33m\u001b[0m\u001b[0m\n\u001b[0;32m     19\u001b[0m     \u001b[0mi\u001b[0m\u001b[1;33m=\u001b[0m\u001b[0mi\u001b[0m\u001b[1;33m+\u001b[0m\u001b[1;36m1\u001b[0m\u001b[1;33m\u001b[0m\u001b[0m\n\u001b[1;32m---> 20\u001b[1;33m     \u001b[0mex\u001b[0m\u001b[1;33m.\u001b[0m\u001b[0mloc\u001b[0m\u001b[1;33m[\u001b[0m\u001b[0mi\u001b[0m\u001b[1;33m]\u001b[0m\u001b[1;33m=\u001b[0m\u001b[1;33m[\u001b[0m\u001b[0mSkyServer\u001b[0m\u001b[1;33m.\u001b[0m\u001b[0msqlSearch\u001b[0m\u001b[1;33m(\u001b[0m\u001b[0msql\u001b[0m\u001b[1;33m=\u001b[0m\u001b[0msql_query\u001b[0m\u001b[1;33m,\u001b[0m \u001b[0mdataRelease\u001b[0m\u001b[1;33m=\u001b[0m\u001b[1;34m\"DR14\"\u001b[0m\u001b[1;33m)\u001b[0m\u001b[1;33m]\u001b[0m\u001b[1;33m\u001b[0m\u001b[0m\n\u001b[0m\u001b[0;32m     21\u001b[0m     \u001b[0mi\u001b[0m\u001b[1;33m=\u001b[0m\u001b[0mi\u001b[0m\u001b[1;33m+\u001b[0m\u001b[1;36m1\u001b[0m\u001b[1;33m\u001b[0m\u001b[0m\n\u001b[0;32m     22\u001b[0m \u001b[1;33m\u001b[0m\u001b[0m\n",
      "\u001b[1;31mNameError\u001b[0m: name 'SkyServer' is not defined"
     ]
    }
   ],
   "source": [
    "Image()\n"
   ]
  },
  {
   "cell_type": "code",
   "execution_count": null,
   "metadata": {},
   "outputs": [],
   "source": []
  }
 ],
 "metadata": {
  "kernelspec": {
   "display_name": "Python 3",
   "language": "python",
   "name": "python3"
  },
  "language_info": {
   "codemirror_mode": {
    "name": "ipython",
    "version": 3
   },
   "file_extension": ".py",
   "mimetype": "text/x-python",
   "name": "python",
   "nbconvert_exporter": "python",
   "pygments_lexer": "ipython3",
   "version": "3.6.5"
  }
 },
 "nbformat": 4,
 "nbformat_minor": 2
}
