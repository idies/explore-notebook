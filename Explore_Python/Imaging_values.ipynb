{
 "cells": [
  {
   "cell_type": "code",
   "execution_count": null,
   "metadata": {},
   "outputs": [],
   "source": [
    "#!/usr/bin/env python"
   ]
  },
  {
   "cell_type": "code",
   "execution_count": 50,
   "metadata": {},
   "outputs": [
    {
     "data": {
      "text/plain": [
       "<function imports.imports()>"
      ]
     },
     "execution_count": 50,
     "metadata": {},
     "output_type": "execute_result"
    }
   ],
   "source": [
    "\n",
    "x=9582\n",
    "imports\n",
    "\n"
   ]
  },
  {
   "cell_type": "code",
   "execution_count": null,
   "metadata": {},
   "outputs": [],
   "source": []
  },
  {
   "cell_type": "code",
   "execution_count": 48,
   "metadata": {},
   "outputs": [],
   "source": [
    "ex=pd.DataFrame(index=[1,2,3,4,5,6,7,8])   "
   ]
  },
  {
   "cell_type": "code",
   "execution_count": null,
   "metadata": {},
   "outputs": [],
   "source": [
    "       ### getting values from table PhotoTag  ###\n",
    "        #help(SkyServer)\n",
    "\n",
    "print(\"Imaging \")\n",
    "        #ex = ex.append(SkyServer.sqlSearch(sql=\"SELECT TOP 1 pt.ra, pt.dec, pt.run, pt.rerun, pt.camcol, pt.field, pt.objId, pt.fieldId, pt.flags FROM PhotoTag pt WHERE pt.objID= x\", dataRelease=\"DR14\"))\n",
    "        #print(ex)\n",
    "        #WHERE IS THIS TABLE??\n",
    "        \n",
    "    \n",
    "        ### getting values from table photoobjall ###\n",
    "        \n",
    "sql_query=\"select p.clean, p.type, p.u, p.g, p.r , p.I, p.z, p.err_u, p.err_g, p.err_r, p.err_i, p.err_z from PhotoObjAll p where p.objID=y\"\n",
    "ex.loc[i]=[p.clean, p.type, p.u, p.g, p.r , p.I, p.z, p.err_u, p.err_g, p.err_r, p.err_i, p.err_z]\n",
    "i=i+1\n",
    "ex.loc[i]=[SkyServer.sqlSearch(sql=sql_query, dataRelease=\"DR14\")]\n",
    "i=i+1\n",
    "        \n",
    "             \n",
    "         \n",
    "    \n",
    "        ### getting values from table PhotoObj and Photoz ###\n",
    "        \n",
    "        \n",
    "        \n",
    "        ex1=(SkyServer.sqlSearch(sql=\"select b.mode, b.mdj, b.nDetect-1, b.parentID, b.nChild, b.extinction_r, b.petroRad, b.petroRadErr_r, from PhotoObj b where b.objID=z\", dataRelease=\"DR14\"))\n",
    "         \n",
    "        ex2=(SkyServer.sqlsearch(sql=\"select h.z,h.zerr from Photoz h where h.objID=z\", dataRelease=\"DR14\"))         \n",
    "        ex3=[ex, ex3]\n",
    "        ans=SkyServer.sqlSearch.concat(ex3)\n",
    "        #print(ans)\n",
    "        ex=ex.append(ans)\n",
    "        \n",
    "        \n",
    "    def zoospec(w):\n",
    "        ### getting values from table zooSpec on shape of object  ###\n",
    "        print(\"...\") \n",
    "        # CASE for o/p \n",
    "        s=(SkyServer.sqlSearch(sql=\"select z.spiral from zooSpec z where z.objID=w\", dataRelease=\"DR14\"))\n",
    "        e=(SkyServer.sqlSearch(sql=\"select z.elliptical from zooSpec z where z.objID=w\", dataRelease=\"DR14\"))\n",
    "        u=(SkyServer.sqlSearch(sql=\"select z.uncertain from zooSpec z where z.objID=w\", dataRelease=\"DR14\"))\n",
    "    \n",
    "    \n",
    "    #oid = 1237668296598749280\n",
    "    i=1\n",
    "    phtag(oid,ex)\n",
    "    phall(oid,ex)\n",
    "    photobj(oid,ex)\n",
    "    zoospec(oid,ex)\n",
    "    print(ex)    \n",
    "    \n",
    "# set up a way to search using different methods         \n",
    "# RECHECK COLUMN NAMES! ErrorCode:500    \n",
    "# Pass results to other script functions - from main() ?"
   ]
  },
  {
   "cell_type": "code",
   "execution_count": null,
   "metadata": {},
   "outputs": [],
   "source": [
    "\n"
   ]
  },
  {
   "cell_type": "code",
   "execution_count": null,
   "metadata": {},
   "outputs": [],
   "source": []
  }
 ],
 "metadata": {
  "kernelspec": {
   "display_name": "Python 3",
   "language": "python",
   "name": "python3"
  },
  "language_info": {
   "codemirror_mode": {
    "name": "ipython",
    "version": 3
   },
   "file_extension": ".py",
   "mimetype": "text/x-python",
   "name": "python",
   "nbconvert_exporter": "python",
   "pygments_lexer": "ipython3",
   "version": "3.6.5"
  }
 },
 "nbformat": 4,
 "nbformat_minor": 2
}
