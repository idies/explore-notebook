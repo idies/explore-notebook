{
 "cells": [
  {
   "cell_type": "code",
   "execution_count": 16,
   "metadata": {},
   "outputs": [],
   "source": [
    "## Add getJpeg and Imgcutout\n",
    "# connect DB and add user input"
   ]
  },
  {
   "cell_type": "code",
   "execution_count": 17,
   "metadata": {},
   "outputs": [],
   "source": [
    "import os\n",
    "import sys"
   ]
  },
  {
   "cell_type": "code",
   "execution_count": 20,
   "metadata": {},
   "outputs": [
    {
     "ename": "SyntaxError",
     "evalue": "invalid syntax (<ipython-input-20-bc3346a02b9c>, line 11)",
     "output_type": "error",
     "traceback": [
      "\u001b[1;36m  File \u001b[1;32m\"<ipython-input-20-bc3346a02b9c>\"\u001b[1;36m, line \u001b[1;32m11\u001b[0m\n\u001b[1;33m    else:\u001b[0m\n\u001b[1;37m       ^\u001b[0m\n\u001b[1;31mSyntaxError\u001b[0m\u001b[1;31m:\u001b[0m invalid syntax\n"
     ]
    }
   ],
   "source": [
    "def id_chk(): \n",
    "# Checking to see if the Id number entered has a corresponding image/values in the databse\n",
    "    x= 0\n",
    "    print(\"Enter ID number\")\n",
    "    df=input()\n",
    "    x=SciServer.SkyServer.objectSearch(objId=df)\n",
    "    try:       \n",
    "        if (x== 0):\n",
    "            print(\"There is no object with that Id. Please try again\")\n",
    "            id_chk()\n",
    "    else: ##invalid syntax?##\n",
    "        print(\"#CALL THE PROCESSING FUNCTION#\")\n",
    "        #var_init_.obj(df)    \n",
    "    \n",
    "    except MemoryError:\n",
    "        pass"
   ]
  },
  {
   "cell_type": "code",
   "execution_count": 22,
   "metadata": {},
   "outputs": [
    {
     "ename": "SyntaxError",
     "evalue": "invalid syntax (<ipython-input-22-d160aabdfcab>, line 27)",
     "output_type": "error",
     "traceback": [
      "\u001b[1;36m  File \u001b[1;32m\"<ipython-input-22-d160aabdfcab>\"\u001b[1;36m, line \u001b[1;32m27\u001b[0m\n\u001b[1;33m    else :\u001b[0m\n\u001b[1;37m       ^\u001b[0m\n\u001b[1;31mSyntaxError\u001b[0m\u001b[1;31m:\u001b[0m invalid syntax\n"
     ]
    }
   ],
   "source": [
    "def main():\n",
    "    \n",
    "    z=7\n",
    "    while (z != 4): #turn them into buttons and user input is click\n",
    "        print(\"1. Search with object Id\")\n",
    "        print(\"2. Search with object co-ordinates\")\n",
    "        print(\"3. search with common name\")\n",
    "        print(\"4. Hide ?\")\n",
    "        z = input(\"Option: \")    \n",
    "        \n",
    "    try :\n",
    "        if (z==1):\n",
    "            id_chk()\n",
    "            z=4\n",
    "        elif (z==2):\n",
    "            coordinate_chk()\n",
    "            z=4\n",
    "                \n",
    "        elif(z==3):\n",
    "            nm_chk()\n",
    "            z=4\n",
    "        elif(z==4):\n",
    "            print(\"...\")\n",
    "        ## Hide panel ##\n",
    "                \n",
    "    else : ##invalid syntax?##\n",
    "        print(\"Error\")\n",
    "        main()\n",
    "            \n",
    "    except MemoryError:\n",
    "        pass\n",
    "            \n",
    "            \n",
    "\n",
    "if (__name__ == \"__main__\"):\n",
    "    pass\n",
    "    #main()\n",
    "else: \n",
    "    sys.exit()\n",
    "  "
   ]
  },
  {
   "cell_type": "code",
   "execution_count": null,
   "metadata": {},
   "outputs": [],
   "source": []
  }
 ],
 "metadata": {
  "kernelspec": {
   "display_name": "Python 3",
   "language": "python",
   "name": "python3"
  },
  "language_info": {
   "codemirror_mode": {
    "name": "ipython",
    "version": 3
   },
   "file_extension": ".py",
   "mimetype": "text/x-python",
   "name": "python",
   "nbconvert_exporter": "python",
   "pygments_lexer": "ipython3",
   "version": "3.6.5"
  }
 },
 "nbformat": 4,
 "nbformat_minor": 2
}
