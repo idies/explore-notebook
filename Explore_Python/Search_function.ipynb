{
 "cells": [
  {
   "cell_type": "code",
   "execution_count": 1,
   "metadata": {},
   "outputs": [],
   "source": [
    "## Add getJpeg and Imgcutout\n",
    "# connect DB and add user input"
   ]
  },
  {
   "cell_type": "code",
   "execution_count": null,
   "metadata": {},
   "outputs": [],
   "source": [
    "def var_init_(a): \n",
    "    \n",
    "    def obj():\n",
    "        le = 0\n",
    "    # input is object id. search using objid\n",
    "        try:\n",
    "            le =  input(\"Enter Object ID\")\n",
    "           \n",
    "        except TypeError:\n",
    "            le=0\n",
    "            print(\"Oops! Please enter a valid integer.\")\n",
    "            \n",
    "        else :\n",
    "            Image(le)\n",
    "            cross(le)\n",
    "            #Spectra(le)\n",
    "\n",
    "    '''`\n",
    "    def nm():\n",
    "    \n",
    "    # input is common/official name. search using name\n",
    "        name = \"\"\n",
    "    \n",
    "    def cx():\n",
    "        cordx= 0.0\n",
    "    #input are the coordinates. search using x and y coordinates\n",
    "        \n",
    "    \n",
    "    def cy():\n",
    "        \n",
    "        cordy= 0.0\n",
    "    '''\n",
    "    obj()\n",
    "# if-else statement needed\n",
    "# function variable to be added\n"
   ]
  }
 ],
 "metadata": {
  "kernelspec": {
   "display_name": "Python 3",
   "language": "python",
   "name": "python3"
  },
  "language_info": {
   "codemirror_mode": {
    "name": "ipython",
    "version": 3
   },
   "file_extension": ".py",
   "mimetype": "text/x-python",
   "name": "python",
   "nbconvert_exporter": "python",
   "pygments_lexer": "ipython3",
   "version": "3.6.5"
  }
 },
 "nbformat": 4,
 "nbformat_minor": 2
}
