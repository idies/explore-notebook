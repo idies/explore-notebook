{
 "cells": [
  {
   "cell_type": "code",
   "execution_count": 1,
   "metadata": {},
   "outputs": [
    {
     "name": "stderr",
     "output_type": "stream",
     "text": [
      "C:\\Users\\sciserver\\OneDrive\\Github\\explore-notebook\\Explore_Python\\Image_Cut_Out.py:8: Warning: In Authentication.getToken: Authentication token is not defined: the user did not log in with the Authentication.login function, or the token has not been stored in the command line argument --ident.\n",
      "  token=Authentication.getToken()\n",
      "C:\\Users\\sciserver\\OneDrive\\Github\\explore-notebook\\Explore_Python\\Imaging_values.py:19: Warning: In Authentication.getToken: Authentication token is not defined: the user did not log in with the Authentication.login function, or the token has not been stored in the command line argument --ident.\n",
      "  token=Authentication.getToken()\n",
      "C:\\Users\\sciserver\\OneDrive\\Github\\explore-notebook\\Explore_Python\\Spectra_values.py:10: Warning: In Authentication.getToken: Authentication token is not defined: the user did not log in with the Authentication.login function, or the token has not been stored in the command line argument --ident.\n",
      "  token=Authentication.getToken()\n",
      "C:\\Users\\sciserver\\OneDrive\\Github\\explore-notebook\\Explore_Python\\Cross_identification_values.py:10: Warning: In Authentication.getToken: Authentication token is not defined: the user did not log in with the Authentication.login function, or the token has not been stored in the command line argument --ident.\n",
      "  token=Authentication.getToken()\n"
     ]
    }
   ],
   "source": [
    "# coding: utf-8\n",
    "#!/usr/bin/env python\n",
    "\n",
    "import getpass\n",
    "from imports import *\n",
    "import fn_imports\n",
    "from fn_imports import *"
   ]
  },
  {
   "cell_type": "code",
   "execution_count": null,
   "metadata": {},
   "outputs": [],
   "source": [
    "def mod():\n",
    "    \n",
    "    Imaging_values.display_image()\n",
    "    Cross_identification_values.display_crossid()\n",
    "    Spectra_values.display_opSpec()\n",
    "    "
   ]
  },
  {
   "cell_type": "code",
   "execution_count": null,
   "metadata": {},
   "outputs": [],
   "source": [
    "def flags():\n",
    "    \n",
    "    #All flags together? or one by one and print in right order>\n",
    "    "
   ]
  },
  {
   "cell_type": "code",
   "execution_count": null,
   "metadata": {},
   "outputs": [],
   "source": [
    "def Auth():\n",
    "## Authentication token for SciServer ##\n",
    "    Auth_username=getpass.getpass('User Name: ')\n",
    "    Auth_pass=getpass.getpass('Password: ')\n",
    "    token1=LoginPortal.login(Auth_username,Auth_pass)\n",
    "    token2=Authentication.getToken()\n",
    "    \n",
    "   \n",
    "    \n",
    "## the input isn't displayed/printed out. it's shown as •••\n",
    "  \n",
    "#Argument: None\n",
    "#Returns : None\n",
    "#Function: Logs in to sciserver"
   ]
  },
  {
   "cell_type": "code",
   "execution_count": null,
   "metadata": {},
   "outputs": [],
   "source": [
    " \n",
    "##Link to interactive sky map##\n"
   ]
  },
  {
   "cell_type": "code",
   "execution_count": null,
   "metadata": {},
   "outputs": [],
   "source": [
    "def main():\n",
    "    \n",
    "   \n",
    "    ## input == output from interactive sky map\n",
    "    \n",
    "    #pass image for img cut\n",
    "    #Img_Cut_out\n",
    "    #ob_id=v[1]\n",
    "    #ra=v[2]\n",
    "    #dec=v[3]\n",
    "    #pass image to check fn for verification\n",
    "    ob_id = 1237668296598749280\n",
    "    from Image_Cut_Out import v\n",
    "    \n",
    "    #object id used by value functions\n",
    "    \n",
    "    mod()\n",
    "    "
   ]
  },
  {
   "cell_type": "code",
   "execution_count": null,
   "metadata": {},
   "outputs": [],
   "source": [
    "try:\n",
    "    Authentication.getToken()\n",
    "except Exception :\n",
    "    Auth()\n",
    "    main()\n",
    "else:\n",
    "    main()\n"
   ]
  },
  {
   "cell_type": "code",
   "execution_count": 1,
   "metadata": {},
   "outputs": [
    {
     "ename": "NameError",
     "evalue": "name 'Imaging_values' is not defined",
     "output_type": "error",
     "traceback": [
      "\u001b[1;31m---------------------------------------------------------------------------\u001b[0m",
      "\u001b[1;31mNameError\u001b[0m                                 Traceback (most recent call last)",
      "\u001b[1;32m<ipython-input-1-577d9e933d72>\u001b[0m in \u001b[0;36m<module>\u001b[1;34m()\u001b[0m\n\u001b[0;32m      1\u001b[0m \u001b[1;33m\u001b[0m\u001b[0m\n\u001b[1;32m----> 2\u001b[1;33m \u001b[0mprint\u001b[0m\u001b[1;33m(\u001b[0m\u001b[0mImaging_values\u001b[0m\u001b[1;33m.\u001b[0m\u001b[0m__doc__\u001b[0m\u001b[1;33m)\u001b[0m\u001b[1;33m\u001b[0m\u001b[0m\n\u001b[0m",
      "\u001b[1;31mNameError\u001b[0m: name 'Imaging_values' is not defined"
     ]
    }
   ],
   "source": [
    "\n",
    "print(Imaging_values.__doc__)"
   ]
  }
 ],
 "metadata": {
  "kernelspec": {
   "display_name": "Python 3",
   "language": "python",
   "name": "python3"
  },
  "language_info": {
   "codemirror_mode": {
    "name": "ipython",
    "version": 3
   },
   "file_extension": ".py",
   "mimetype": "text/x-python",
   "name": "python",
   "nbconvert_exporter": "python",
   "pygments_lexer": "ipython3",
   "version": "3.6.5"
  }
 },
 "nbformat": 4,
 "nbformat_minor": 2
}
