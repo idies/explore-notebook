{
 "cells": [
  {
   "cell_type": "code",
   "execution_count": 1,
   "metadata": {},
   "outputs": [],
   "source": [
    "#!/usr/bin/env python\n",
    "\n",
    "import os\n",
    "import getpass\n",
    "import imports\n"
   ]
  },
  {
   "cell_type": "code",
   "execution_count": null,
   "metadata": {},
   "outputs": [],
   "source": [
    "os.system('imports.py')"
   ]
  },
  {
   "cell_type": "code",
   "execution_count": null,
   "metadata": {},
   "outputs": [],
   "source": [
    "## Authentication token for SciServer ##\n",
    "\n",
    "\n",
    "## the input isn't displayed/printed out. it's shown as •••\n",
    "\n",
    "def Auth():\n",
    "    user=getpass.getpass('User: ') #Takes in username\n",
    "\n",
    "    pwd=getpass.getpass('password: ') #Takes in user's password\n",
    "\n",
    "\n",
    "    Authentication.login(user,pwd) #Sends info to the authentication script\n",
    "\n",
    "    token = Authentication.getToken() #stores locally      \n",
    "#Argument: None\n",
    "#Returns : None\n",
    "#Function: Logs in to sciserver"
   ]
  },
  {
   "cell_type": "code",
   "execution_count": null,
   "metadata": {},
   "outputs": [],
   "source": [
    " \n",
    "##Link to interactive sky map##\n"
   ]
  },
  {
   "cell_type": "code",
   "execution_count": null,
   "metadata": {},
   "outputs": [],
   "source": [
    "def main():\n",
    "    \n",
    "    ## input: output from interactive sky map\n",
    "    \n",
    "    #pass image for img cut\n",
    "    os.system('Img_Cut_out.py')\n",
    "    \n",
    "    #pass image to check fn for verification\n",
    "    os.system('')\n",
    "    #Returns object ID\n",
    "    \n",
    "    #send object id to value functions\n",
    "    \n",
    "    os.system('Imaging_values.py')\n",
    "    os.system('Cross_identification_values.py')\n",
    "    os.system('Spectra_values.py')\n",
    "## These function print outputs on their own ##\n",
    "\n",
    "\n",
    "    \n",
    "    "
   ]
  },
  {
   "cell_type": "code",
   "execution_count": null,
   "metadata": {},
   "outputs": [],
   "source": [
    "if (Authentication.getToken() == False):\n",
    "    Auth()\n",
    "else:\n",
    "    main()\n",
    "  "
   ]
  },
  {
   "cell_type": "code",
   "execution_count": null,
   "metadata": {},
   "outputs": [],
   "source": []
  },
  {
   "cell_type": "code",
   "execution_count": null,
   "metadata": {
    "scrolled": false
   },
   "outputs": [],
   "source": []
  },
  {
   "cell_type": "code",
   "execution_count": null,
   "metadata": {},
   "outputs": [],
   "source": [
    "\n",
    "\n"
   ]
  }
 ],
 "metadata": {
  "kernelspec": {
   "display_name": "Python 3",
   "language": "python",
   "name": "python3"
  },
  "language_info": {
   "codemirror_mode": {
    "name": "ipython",
    "version": 3
   },
   "file_extension": ".py",
   "mimetype": "text/x-python",
   "name": "python",
   "nbconvert_exporter": "python",
   "pygments_lexer": "ipython3",
   "version": "3.6.5"
  }
 },
 "nbformat": 4,
 "nbformat_minor": 2
}
