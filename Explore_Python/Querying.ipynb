{
 "cells": [
  {
   "cell_type": "code",
   "execution_count": 1,
   "metadata": {},
   "outputs": [],
   "source": [
    "#!/usr/bin/env python\n",
    "\n",
    "\n",
    "import getpass\n",
    "from imports import *\n"
   ]
  },
  {
   "cell_type": "code",
   "execution_count": null,
   "metadata": {},
   "outputs": [],
   "source": []
  },
  {
   "cell_type": "code",
   "execution_count": 2,
   "metadata": {},
   "outputs": [],
   "source": [
    "## Authentication token for SciServer ##\n",
    "\n",
    "\n",
    "## the input isn't displayed/printed out. it's shown as •••\n",
    "\n",
    "\n",
    "            \n",
    "    \n",
    "#Argument: None\n",
    "#Returns : None\n",
    "#Function: Logs in to sciserver\n"
   ]
  },
  {
   "cell_type": "code",
   "execution_count": 3,
   "metadata": {},
   "outputs": [],
   "source": [
    " \n",
    "##Link to interactive sky map##\n"
   ]
  },
  {
   "cell_type": "code",
   "execution_count": null,
   "metadata": {},
   "outputs": [],
   "source": [
    "def main():\n",
    "    \n",
    "    token= Authentication.getToken()  \n",
    "    print(\"Yaay!\")\n",
    "    print(token)\n",
    "    LoginPortal.identArgIdentifier=token\n",
    "    ## input == output from interactive sky map\n",
    "    \n",
    "    #pass image for img cut\n",
    "    #Img_Cut_out\n",
    "    \n",
    "    #pass image to check fn for verification\n",
    "    #ob_id = Object_verify\n",
    "    #Returns object ID\n",
    "    \n",
    "    #send object id to value functions\n",
    "    \n",
    "    #Imaging_values\n",
    "    #Cross_identification_values\n",
    "    #Spectra_values\n",
    "    Answer=pd.DataFrame(columns=['Name','Value'],index=[1,2,3])\n",
    "    z=1237668296598749280\n",
    "    I=1\n",
    "## These function print outputs on their own ##\n",
    "    a=[SkyServer.sqlSearch(sql=\"select h.z,h.zerr from Photoz h where h.objID=z\", dataRelease=\"DR14\")] \n",
    "    print(a)\n",
    "    print('........')\n",
    "    #print(np.transpose(a))\n",
    "    #Answer.append(np.transpose(a))\n",
    "    Answer.loc[I]=a\n",
    "    I+=1\n",
    "    print(Answer)\n",
    "\n",
    "     \n",
    "    "
   ]
  },
  {
   "cell_type": "code",
   "execution_count": null,
   "metadata": {},
   "outputs": [
    {
     "name": "stderr",
     "output_type": "stream",
     "text": [
      "C:\\Users\\sciserver\\Anaconda3\\lib\\site-packages\\ipykernel_launcher.py:3: Warning: In Authentication.getToken: Authentication token is not defined: the user did not log in with the Authentication.login function, or the token has not been stored in the command line argument --ident.\n",
      "  This is separate from the ipykernel package so we can avoid doing imports until\n",
      "C:\\Users\\sciserver\\OneDrive\\Github\\explore-notebook\\Explore_Python\\SciScript_Python\\py3\\SciServer\\SkyServer.py:47: Warning: In Authentication.getToken: Authentication token is not defined: the user did not log in with the Authentication.login function, or the token has not been stored in the command line argument --ident.\n",
      "  token = Authentication.getToken()\n"
     ]
    },
    {
     "name": "stdout",
     "output_type": "stream",
     "text": [
      "Yaay!\n",
      "None\n"
     ]
    }
   ],
   "source": [
    "try:\n",
    "    token\n",
    "except NameError :\n",
    "    LoginPortal\n",
    "    main()\n",
    "else:\n",
    "    main()\n",
    "   \n"
   ]
  },
  {
   "cell_type": "code",
   "execution_count": null,
   "metadata": {},
   "outputs": [],
   "source": []
  },
  {
   "cell_type": "code",
   "execution_count": null,
   "metadata": {
    "scrolled": false
   },
   "outputs": [],
   "source": []
  },
  {
   "cell_type": "code",
   "execution_count": null,
   "metadata": {},
   "outputs": [],
   "source": [
    "\n",
    "\n"
   ]
  }
 ],
 "metadata": {
  "kernelspec": {
   "display_name": "Python 3",
   "language": "python",
   "name": "python3"
  },
  "language_info": {
   "codemirror_mode": {
    "name": "ipython",
    "version": 3
   },
   "file_extension": ".py",
   "mimetype": "text/x-python",
   "name": "python",
   "nbconvert_exporter": "python",
   "pygments_lexer": "ipython3",
   "version": "3.6.5"
  }
 },
 "nbformat": 4,
 "nbformat_minor": 2
}
