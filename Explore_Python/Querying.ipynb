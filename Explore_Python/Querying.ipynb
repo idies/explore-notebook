{
 "cells": [
  {
   "cell_type": "code",
   "execution_count": 41,
   "metadata": {},
   "outputs": [],
   "source": [
    "#!/usr/bin/env python\n",
    "\n",
    "\n",
    "import getpass\n",
    "\n",
    "from imports import * \n"
   ]
  },
  {
   "cell_type": "code",
   "execution_count": 54,
   "metadata": {},
   "outputs": [],
   "source": [
    "## Authentication token for SciServer ##\n",
    "\n",
    "\n",
    "## the input isn't displayed/printed out. it's shown as •••\n",
    "\n",
    "def Auth():\n",
    "    user=getpass.getpass('User: ') #Takes in username\n",
    "\n",
    "    pwd=getpass.getpass('password: ') #Takes in user's password\n",
    "\n",
    "    try:        \n",
    "        Authentication.login(user,pwd) #Sends info to the authentication script\n",
    "    except Exception:\n",
    "        print(\"Invalid username or password\")\n",
    "        Auth()\n",
    "    else:\n",
    "        token = Authentication.getToken() #stores locally \n",
    "    \n",
    "#Argument: None\n",
    "#Returns : None\n",
    "#Function: Logs in to sciserver\n"
   ]
  },
  {
   "cell_type": "code",
   "execution_count": 43,
   "metadata": {},
   "outputs": [],
   "source": [
    " \n",
    "##Link to interactive sky map##\n"
   ]
  },
  {
   "cell_type": "code",
   "execution_count": 57,
   "metadata": {},
   "outputs": [],
   "source": [
    "def main():\n",
    "    \n",
    "    ## input == output from interactive sky map\n",
    "    \n",
    "    #pass image for img cut\n",
    "    #Img_Cut_out\n",
    "    \n",
    "    #pass image to check fn for verification\n",
    "    #ob_id = Object_verify\n",
    "    #Returns object ID\n",
    "    \n",
    "    #send object id to value functions\n",
    "    \n",
    "    #Imaging_values\n",
    "    #Cross_identification_values\n",
    "    #Spectra_values\n",
    "    print(\"You're now in the function main. Congrats!\")    \n",
    "## These function print outputs on their own ##\n",
    "\n",
    "\n",
    "    \n",
    "    "
   ]
  },
  {
   "cell_type": "code",
   "execution_count": 58,
   "metadata": {},
   "outputs": [
    {
     "name": "stdout",
     "output_type": "stream",
     "text": [
      "User: ········\n",
      "password: ········\n",
      "Invalid username or password\n",
      "User: ········\n",
      "password: ········\n",
      "Invalid username or password\n",
      "User: ········\n",
      "password: ········\n",
      "You're now in the function main. Congrats!\n"
     ]
    }
   ],
   "source": [
    "try:\n",
    "    token\n",
    "except NameError:\n",
    "    Auth()\n",
    "    main()\n",
    "else: \n",
    "    main()\n"
   ]
  },
  {
   "cell_type": "code",
   "execution_count": null,
   "metadata": {},
   "outputs": [],
   "source": []
  },
  {
   "cell_type": "code",
   "execution_count": null,
   "metadata": {
    "scrolled": false
   },
   "outputs": [],
   "source": []
  },
  {
   "cell_type": "code",
   "execution_count": null,
   "metadata": {},
   "outputs": [],
   "source": [
    "\n",
    "\n"
   ]
  }
 ],
 "metadata": {
  "kernelspec": {
   "display_name": "Python 3",
   "language": "python",
   "name": "python3"
  },
  "language_info": {
   "codemirror_mode": {
    "name": "ipython",
    "version": 3
   },
   "file_extension": ".py",
   "mimetype": "text/x-python",
   "name": "python",
   "nbconvert_exporter": "python",
   "pygments_lexer": "ipython3",
   "version": "3.6.5"
  }
 },
 "nbformat": 4,
 "nbformat_minor": 2
}
