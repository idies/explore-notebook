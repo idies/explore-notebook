{
 "cells": [
  {
   "cell_type": "code",
   "execution_count": 1,
   "metadata": {},
   "outputs": [
    {
     "name": "stderr",
     "output_type": "stream",
     "text": [
      "C:\\Users\\sciserver\\OneDrive\\Github\\explore-notebook\\Explore_Python\\Image_Cut_Out.py:8: Warning: In Authentication.getToken: Authentication token is not defined: the user did not log in with the Authentication.login function, or the token has not been stored in the command line argument --ident.\n",
      "  token=Authentication.getToken()\n",
      "C:\\Users\\sciserver\\OneDrive\\Github\\explore-notebook\\Explore_Python\\Imaging_values.py:7: Warning: In Authentication.getToken: Authentication token is not defined: the user did not log in with the Authentication.login function, or the token has not been stored in the command line argument --ident.\n",
      "  token=Authentication.getToken()\n",
      "C:\\Users\\sciserver\\OneDrive\\Github\\explore-notebook\\Explore_Python\\Spectra_values.py:8: Warning: In Authentication.getToken: Authentication token is not defined: the user did not log in with the Authentication.login function, or the token has not been stored in the command line argument --ident.\n",
      "  token=Authentication.getToken()\n",
      "C:\\Users\\sciserver\\OneDrive\\Github\\explore-notebook\\Explore_Python\\Cross_identification_values.py:7: Warning: In Authentication.getToken: Authentication token is not defined: the user did not log in with the Authentication.login function, or the token has not been stored in the command line argument --ident.\n",
      "  token=Authentication.getToken()\n"
     ]
    }
   ],
   "source": [
    "#!/usr/bin/env python\n",
    "\n",
    "import getpass\n",
    "from imports import *\n",
    "from fn_imports import *"
   ]
  },
  {
   "cell_type": "code",
   "execution_count": 2,
   "metadata": {},
   "outputs": [],
   "source": [
    "def mod():\n",
    "    \n",
    "    print(Imaging_values.display_image())\n",
    "    print(Cross_identification_values.display_crossid()) \n",
    "    print(Spectra_values.display_opSpec())\n",
    "    "
   ]
  },
  {
   "cell_type": "code",
   "execution_count": 3,
   "metadata": {},
   "outputs": [],
   "source": [
    "def Auth():\n",
    "## Authentication token for SciServer ##\n",
    "    Auth_username=getpass.getpass('User Name: ')\n",
    "    Auth_pass=getpass.getpass('Password: ')\n",
    "    token1=LoginPortal.login(Auth_username,Auth_pass)\n",
    "    token2=Authentication.getToken()\n",
    "    \n",
    "   \n",
    "    \n",
    "## the input isn't displayed/printed out. it's shown as •••\n",
    "  \n",
    "#Argument: None\n",
    "#Returns : None\n",
    "#Function: Logs in to sciserver"
   ]
  },
  {
   "cell_type": "code",
   "execution_count": 4,
   "metadata": {},
   "outputs": [],
   "source": [
    " \n",
    "##Link to interactive sky map##\n"
   ]
  },
  {
   "cell_type": "code",
   "execution_count": 5,
   "metadata": {},
   "outputs": [],
   "source": [
    "def main():\n",
    "    \n",
    "   \n",
    "    ## input == output from interactive sky map\n",
    "    \n",
    "    #pass image for img cut\n",
    "    #Img_Cut_out\n",
    "    #ob_id=v[1]\n",
    "    #ra=v[2]\n",
    "    #dec=v[3]\n",
    "    #pass image to check fn for verification\n",
    "    ob_id = 1237668296598749280\n",
    "    from Image_Cut_Out import v\n",
    "    \n",
    "    #object id used by value functions\n",
    "    \n",
    "    mod()\n",
    "    "
   ]
  },
  {
   "cell_type": "code",
   "execution_count": 6,
   "metadata": {},
   "outputs": [
    {
     "name": "stderr",
     "output_type": "stream",
     "text": [
      "C:\\Users\\sciserver\\Anaconda3\\lib\\site-packages\\ipykernel_launcher.py:2: Warning: In Authentication.getToken: Authentication token is not defined: the user did not log in with the Authentication.login function, or the token has not been stored in the command line argument --ident.\n",
      "  \n",
      "C:\\Users\\sciserver\\OneDrive\\Github\\explore-notebook\\Explore_Python\\SciScript_Python\\py3\\SciServer\\SkyServer.py:47: Warning: In Authentication.getToken: Authentication token is not defined: the user did not log in with the Authentication.login function, or the token has not been stored in the command line argument --ident.\n",
      "  token = Authentication.getToken()\n"
     ]
    },
    {
     "name": "stdout",
     "output_type": "stream",
     "text": [
      "Imaging \n",
      "             N           V\n",
      "0        clean           0\n",
      "1         type           3\n",
      "2            u     16.5169\n",
      "3            g     14.9554\n",
      "4            r     14.0022\n",
      "5            I     13.3246\n",
      "6            z     13.1374\n",
      "7        err_u   0.0130453\n",
      "8        err_g  0.00351619\n",
      "9        err_r  0.00297185\n",
      "10       err_i   0.0190987\n",
      "11       err_z  0.00381582\n",
      "12           *           *\n",
      "13  Morphology   Uncertain\n",
      "Cross Identification\n"
     ]
    },
    {
     "name": "stderr",
     "output_type": "stream",
     "text": [
      "C:\\Users\\sciserver\\OneDrive\\Github\\explore-notebook\\Explore_Python\\SciScript_Python\\py3\\SciServer\\CasJobs.py:116: Warning: In Authentication.getToken: Authentication token is not defined: the user did not log in with the Authentication.login function, or the token has not been stored in the command line argument --ident.\n",
      "  token = Authentication.getToken()\n"
     ]
    },
    {
     "name": "stdout",
     "output_type": "stream",
     "text": [
      "There's no WISE data available for this object\n",
      "There is no ROSAT data available for this object\n",
      "               N        V\n",
      "0        CATALOG     UNSO\n",
      "1   propermotion  29.3073\n",
      "2        muraerr       36\n",
      "3       mudecerr       48\n",
      "4          angle -110.785\n",
      "5              *        *\n",
      "6        CATALOG    FIRST\n",
      "7           peak     2.65\n",
      "8          major    11.46\n",
      "9          minor     7.17\n",
      "10             *        *\n",
      "11       CATALOG  TwoMASS\n",
      "12             j    13.66\n",
      "13             h   12.615\n",
      "14             k   12.399\n",
      "15        phQual      EEE\n",
      "16             *        *\n",
      "17       CATALOG      RC3\n",
      "18        HUBBLE  .S?....\n",
      "19           M21    15.43\n",
      "20            HI     0.98\n",
      "21             *        *\n",
      "Optical Spectra\n",
      "There are no Optical Spectra values for this object\n",
      "There is no image for this object\n",
      "None\n"
     ]
    }
   ],
   "source": [
    "try:\n",
    "    Authentication.getToken()\n",
    "except Exception :\n",
    "    Auth()\n",
    "    main()\n",
    "else:\n",
    "    main()\n"
   ]
  },
  {
   "cell_type": "code",
   "execution_count": null,
   "metadata": {},
   "outputs": [],
   "source": []
  },
  {
   "cell_type": "code",
   "execution_count": null,
   "metadata": {
    "scrolled": false
   },
   "outputs": [],
   "source": []
  },
  {
   "cell_type": "code",
   "execution_count": null,
   "metadata": {},
   "outputs": [],
   "source": [
    "\n",
    "\n"
   ]
  }
 ],
 "metadata": {
  "kernelspec": {
   "display_name": "Python 3",
   "language": "python",
   "name": "python3"
  },
  "language_info": {
   "codemirror_mode": {
    "name": "ipython",
    "version": 3
   },
   "file_extension": ".py",
   "mimetype": "text/x-python",
   "name": "python",
   "nbconvert_exporter": "python",
   "pygments_lexer": "ipython3",
   "version": "3.6.5"
  }
 },
 "nbformat": 4,
 "nbformat_minor": 2
}
