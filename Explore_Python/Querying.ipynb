{
 "cells": [
  {
   "cell_type": "code",
   "execution_count": 1,
   "metadata": {},
   "outputs": [
    {
     "name": "stderr",
     "output_type": "stream",
     "text": [
      "C:\\Users\\sciserver\\OneDrive\\Github\\explore-notebook\\Explore_Python\\Image_Cut_Out.py:8: Warning: In Authentication.getToken: Authentication token is not defined: the user did not log in with the Authentication.login function, or the token has not been stored in the command line argument --ident.\n",
      "  token=Authentication.getToken()\n",
      "C:\\Users\\sciserver\\OneDrive\\Github\\explore-notebook\\Explore_Python\\Imaging_values.py:19: Warning: In Authentication.getToken: Authentication token is not defined: the user did not log in with the Authentication.login function, or the token has not been stored in the command line argument --ident.\n",
      "  token=Authentication.getToken()\n",
      "C:\\Users\\sciserver\\OneDrive\\Github\\explore-notebook\\Explore_Python\\Spectra_values.py:10: Warning: In Authentication.getToken: Authentication token is not defined: the user did not log in with the Authentication.login function, or the token has not been stored in the command line argument --ident.\n",
      "  token=Authentication.getToken()\n",
      "C:\\Users\\sciserver\\OneDrive\\Github\\explore-notebook\\Explore_Python\\Cross_identification_values.py:10: Warning: In Authentication.getToken: Authentication token is not defined: the user did not log in with the Authentication.login function, or the token has not been stored in the command line argument --ident.\n",
      "  token=Authentication.getToken()\n"
     ]
    }
   ],
   "source": [
    "# coding: utf-8\n",
    "#!/usr/bin/env python\n",
    "\n",
    "import getpass\n",
    "from imports import *\n",
    "import fn_imports\n",
    "from fn_imports import *"
   ]
  },
  {
   "cell_type": "code",
   "execution_count": null,
   "metadata": {},
   "outputs": [],
   "source": [
    "def mod():\n",
    "    \n",
    "    print(Imaging_values.display_image())\n",
    "    print(Cross_identification_values.display_crossid()) \n",
    "    print(Spectra_values.display_opSpec())\n",
    "    "
   ]
  },
  {
   "cell_type": "code",
   "execution_count": null,
   "metadata": {},
   "outputs": [],
   "source": [
    "def flags():\n",
    "    \n",
    "    #All flags together? or one by one and print in right order>\n",
    "    "
   ]
  },
  {
   "cell_type": "code",
   "execution_count": null,
   "metadata": {},
   "outputs": [],
   "source": [
    "def Auth():\n",
    "## Authentication token for SciServer ##\n",
    "    Auth_username=getpass.getpass('User Name: ')\n",
    "    Auth_pass=getpass.getpass('Password: ')\n",
    "    token1=LoginPortal.login(Auth_username,Auth_pass)\n",
    "    token2=Authentication.getToken()\n",
    "    \n",
    "   \n",
    "    \n",
    "## the input isn't displayed/printed out. it's shown as •••\n",
    "  \n",
    "#Argument: None\n",
    "#Returns : None\n",
    "#Function: Logs in to sciserver"
   ]
  },
  {
   "cell_type": "code",
   "execution_count": null,
   "metadata": {},
   "outputs": [],
   "source": [
    " \n",
    "##Link to interactive sky map##\n"
   ]
  },
  {
   "cell_type": "code",
   "execution_count": null,
   "metadata": {},
   "outputs": [],
   "source": [
    "def main():\n",
    "    \n",
    "   \n",
    "    ## input == output from interactive sky map\n",
    "    \n",
    "    #pass image for img cut\n",
    "    #Img_Cut_out\n",
    "    #ob_id=v[1]\n",
    "    #ra=v[2]\n",
    "    #dec=v[3]\n",
    "    #pass image to check fn for verification\n",
    "    ob_id = 1237668296598749280\n",
    "    from Image_Cut_Out import v\n",
    "    \n",
    "    #object id used by value functions\n",
    "    \n",
    "    mod()\n",
    "    "
   ]
  },
  {
   "cell_type": "code",
   "execution_count": null,
   "metadata": {},
   "outputs": [],
   "source": [
    "try:\n",
    "    Authentication.getToken()\n",
    "except Exception :\n",
    "    Auth()\n",
    "    main()\n",
    "else:\n",
    "    main()\n"
   ]
  },
  {
   "cell_type": "code",
   "execution_count": 9,
   "metadata": {},
   "outputs": [
    {
     "name": "stderr",
     "output_type": "stream",
     "text": [
      "C:\\Users\\sciserver\\Anaconda3\\lib\\site-packages\\sciserver-1.10.2-py3.6.egg\\SciServer\\CasJobs.py:116: Warning: In Authentication.getToken: Authentication token is not defined: the user did not log in with the Authentication.login function, or the token has not been stored in the command line argument --ident.\n"
     ]
    },
    {
     "name": "stdout",
     "output_type": "stream",
     "text": [
      "         r         z\n",
      "0  14.0022  13.13738\n"
     ]
    }
   ],
   "source": [
    "print(CasJobs.executeQuery(sql='select p.r, p.z from PhotoObjAll p where p.objID=1237668296598749280', context=\"DR14\", format=\"pandas\"))"
   ]
  },
  {
   "cell_type": "code",
   "execution_count": 10,
   "metadata": {
    "scrolled": false
   },
   "outputs": [
    {
     "name": "stdout",
     "output_type": "stream",
     "text": [
      "Imaging \n"
     ]
    },
    {
     "name": "stderr",
     "output_type": "stream",
     "text": [
      "C:\\Users\\sciserver\\Anaconda3\\lib\\site-packages\\sciserver-1.10.2-py3.6.egg\\SciServer\\SkyServer.py:47: Warning: In Authentication.getToken: Authentication token is not defined: the user did not log in with the Authentication.login function, or the token has not been stored in the command line argument --ident.\n",
      "  token = Authentication.getToken()\n"
     ]
    },
    {
     "data": {
      "text/html": [
       "<div>\n",
       "<style scoped>\n",
       "    .dataframe tbody tr th:only-of-type {\n",
       "        vertical-align: middle;\n",
       "    }\n",
       "\n",
       "    .dataframe tbody tr th {\n",
       "        vertical-align: top;\n",
       "    }\n",
       "\n",
       "    .dataframe thead th {\n",
       "        text-align: right;\n",
       "    }\n",
       "</style>\n",
       "<table border=\"1\" class=\"dataframe\">\n",
       "  <thead>\n",
       "    <tr style=\"text-align: right;\">\n",
       "      <th></th>\n",
       "      <th>N</th>\n",
       "      <th>V</th>\n",
       "    </tr>\n",
       "  </thead>\n",
       "  <tbody>\n",
       "    <tr>\n",
       "      <th>0</th>\n",
       "      <td>clean</td>\n",
       "      <td>0</td>\n",
       "    </tr>\n",
       "    <tr>\n",
       "      <th>1</th>\n",
       "      <td>type</td>\n",
       "      <td>3</td>\n",
       "    </tr>\n",
       "    <tr>\n",
       "      <th>2</th>\n",
       "      <td>u</td>\n",
       "      <td>16.5169</td>\n",
       "    </tr>\n",
       "    <tr>\n",
       "      <th>3</th>\n",
       "      <td>g</td>\n",
       "      <td>14.9554</td>\n",
       "    </tr>\n",
       "    <tr>\n",
       "      <th>4</th>\n",
       "      <td>r</td>\n",
       "      <td>14.0022</td>\n",
       "    </tr>\n",
       "    <tr>\n",
       "      <th>5</th>\n",
       "      <td>I</td>\n",
       "      <td>13.3246</td>\n",
       "    </tr>\n",
       "    <tr>\n",
       "      <th>6</th>\n",
       "      <td>z</td>\n",
       "      <td>13.1374</td>\n",
       "    </tr>\n",
       "    <tr>\n",
       "      <th>7</th>\n",
       "      <td>err_u</td>\n",
       "      <td>0.0130453</td>\n",
       "    </tr>\n",
       "    <tr>\n",
       "      <th>8</th>\n",
       "      <td>err_g</td>\n",
       "      <td>0.00351619</td>\n",
       "    </tr>\n",
       "    <tr>\n",
       "      <th>9</th>\n",
       "      <td>err_r</td>\n",
       "      <td>0.00297185</td>\n",
       "    </tr>\n",
       "    <tr>\n",
       "      <th>10</th>\n",
       "      <td>err_i</td>\n",
       "      <td>0.0190987</td>\n",
       "    </tr>\n",
       "    <tr>\n",
       "      <th>11</th>\n",
       "      <td>err_z</td>\n",
       "      <td>0.00381582</td>\n",
       "    </tr>\n",
       "    <tr>\n",
       "      <th>12</th>\n",
       "      <td>*</td>\n",
       "      <td>*</td>\n",
       "    </tr>\n",
       "    <tr>\n",
       "      <th>13</th>\n",
       "      <td>Morphology</td>\n",
       "      <td>Uncertain</td>\n",
       "    </tr>\n",
       "  </tbody>\n",
       "</table>\n",
       "</div>"
      ],
      "text/plain": [
       "             N           V\n",
       "0        clean           0\n",
       "1         type           3\n",
       "2            u     16.5169\n",
       "3            g     14.9554\n",
       "4            r     14.0022\n",
       "5            I     13.3246\n",
       "6            z     13.1374\n",
       "7        err_u   0.0130453\n",
       "8        err_g  0.00351619\n",
       "9        err_r  0.00297185\n",
       "10       err_i   0.0190987\n",
       "11       err_z  0.00381582\n",
       "12           *           *\n",
       "13  Morphology   Uncertain"
      ]
     },
     "execution_count": 10,
     "metadata": {},
     "output_type": "execute_result"
    }
   ],
   "source": [
    "display_image()"
   ]
  },
  {
   "cell_type": "code",
   "execution_count": 3,
   "metadata": {},
   "outputs": [
    {
     "name": "stdout",
     "output_type": "stream",
     "text": [
      "\n",
      "~~~~~~~~~~~~~~~~~~~~~~~~~~~\n",
      "Photometric values\n",
      "~~~~~~~~~~~~~~~~~~~~~~~~~~~\n",
      "\n",
      ":Handles all aspects of details gathered from the *image* of the celestial body in question.\n",
      "\n",
      ":param:: a([\"ay\"])is a temporary variable used to format data being added to the data frame\n",
      ":param:: I(capital i[\"eye\"]) is the counter; it indicates the next row of the data frame. \n",
      "\n"
     ]
    }
   ],
   "source": [
    "\n",
    "print(Imaging_values.__doc__)"
   ]
  }
 ],
 "metadata": {
  "kernelspec": {
   "display_name": "Python 3",
   "language": "python",
   "name": "python3"
  },
  "language_info": {
   "codemirror_mode": {
    "name": "ipython",
    "version": 3
   },
   "file_extension": ".py",
   "mimetype": "text/x-python",
   "name": "python",
   "nbconvert_exporter": "python",
   "pygments_lexer": "ipython3",
   "version": "3.6.5"
  }
 },
 "nbformat": 4,
 "nbformat_minor": 2
}
