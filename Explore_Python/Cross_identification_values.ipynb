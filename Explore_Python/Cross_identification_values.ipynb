{
 "cells": [
  {
   "cell_type": "code",
   "execution_count": null,
   "metadata": {},
   "outputs": [],
   "source": [
    "import os\n",
    "import sys\n",
    "\n",
    "def cross(oid): #CASJOBS#\n",
    "    ### getting all values under cross identification with OBJID###\n",
    "    #casjobs clear mydb. insert into mydb\n",
    "    def unso(x):\n",
    "        #vales from table USNO#\n",
    "        tabel=SciServer.CasJobs.executeQuery(sql=\"select propermotion, muraerr, mudecerr, angle from USNO n where n.OBJID=x\",context='DR14',format='pandas')\n",
    "        print(tabel)\n",
    "        tabel=None #clearing table before next query\n",
    "        \n",
    "    def wse(y):\n",
    "        #values from tables WISE_xmatch and WISE_allsky#\n",
    "        tabel=SciServer.CasJobs.executeQuery(sql=\"select wise_cntr,w1mag, w2mag, w3mag, w4mag, from WISE_xmatch h and WISE_skyall t where h.OBJID=y and t.OBJID=y\",context='DR14',format='pandas')\n",
    "        print(tabel)\n",
    "        tabel=None\n",
    "        \n",
    "    def rose(z):\n",
    "    #values from ROSAT and RC3#\n",
    "        tabel= SciServer.CasJobs.executeQuery(sql=\"select cps, hr1, hr2, ext,cps, hr1, hr2, ext from RC3 c and ROSAT q where c.OBJID=q.OBJID=z\",context='DR14',format='pandas')\n",
    "        if (tabel == NONE):\n",
    "            print(\"There is no ROSAT, RC3 data for this object\")\n",
    "        print(tabel)\n",
    "        tabel=None\n",
    "        \n",
    "    def reall(w):\n",
    "    #values from tables FIRST and TwoMASS #\n",
    "        tabel=SciServer.CasJobs.executeQuery(sql=\"select j,h,k, phQual, from TwoMASS s and First f where s.OBJID=f.OBJID=w\",context='DR14',format='pandas')\n",
    "        print(tabel)\n",
    "        tabel=None\n",
    "    \n",
    "    unso(oid)\n",
    "    wse(oid)\n",
    "    rose(oid)\n",
    "    reall(oid)"
   ]
  }
 ],
 "metadata": {
  "kernelspec": {
   "display_name": "Python 3",
   "language": "python",
   "name": "python3"
  },
  "language_info": {
   "codemirror_mode": {
    "name": "ipython",
    "version": 3
   },
   "file_extension": ".py",
   "mimetype": "text/x-python",
   "name": "python",
   "nbconvert_exporter": "python",
   "pygments_lexer": "ipython3",
   "version": "3.6.5"
  }
 },
 "nbformat": 4,
 "nbformat_minor": 2
}
